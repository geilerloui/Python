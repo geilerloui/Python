{
 "cells": [
  {
   "cell_type": "markdown",
   "metadata": {},
   "source": [
    "<style>div.title-slide {    width: 100%;    display: flex;    flex-direction: row;            /* default value; can be omitted */    flex-wrap: nowrap;              /* default value; can be omitted */    justify-content: space-between;}</style><div class=\"title-slide\">\n",
    "<span style=\"float:left;\">Licence CC BY-NC-ND</span>\n",
    "<span>Thierry Parmentelat &amp; Arnaud Legout</span>\n",
    "<span><img src=\"media/both-logos-small-alpha.png\" style=\"display:inline\" /></span>\n",
    "</div>"
   ]
  },
  {
   "cell_type": "markdown",
   "metadata": {},
   "source": [
    "# Exercice - niveau avancé"
   ]
  },
  {
   "cell_type": "code",
   "execution_count": null,
   "metadata": {},
   "outputs": [],
   "source": [
    "import numpy as np"
   ]
  },
  {
   "cell_type": "code",
   "execution_count": null,
   "metadata": {},
   "outputs": [],
   "source": [
    "from corrections.exo_dice import exo_dice"
   ]
  },
  {
   "cell_type": "markdown",
   "metadata": {},
   "source": [
    "On étudie les probabilités d'obtenir une certaine somme avec plusieurs dés. \n",
    "\n",
    "Tout le monde connaît le cas classique avec deux dés à 6 faces, ou l'on construit mentalement la grille suivante:\n",
    "\n",
    "|  +  | &#124; | 1 | 2 | 3 | 4 | 5 | 6 |\n",
    "|:---:|:------:|:-:|:-:|:-:|:-:|:-:|:-:|\n",
    "| *1* | &#124; | 2 | 3 | 4 | 5 | 6 | 7 | \n",
    "| *2* | &#124; | 3 | 4 | 5 | 6 | 7 | 8 | \n",
    "| *3* | &#124; | 4 | 5 | 6 | 7 | 8 | 9 | \n",
    "| *4* | &#124; | 5 | 6 | 7 | 8 | 9 |10 | \n",
    "| *5* | &#124; | 6 | 7 | 8 | 9 |10 |11 | \n",
    "| *6* | &#124; | 7 | 8 | 9 |10 |11 |12 | \n",
    "\n",
    "Imaginons que vous êtes étes étudiant, vous venez de faire un exercice de maths qui vous a mené à une formule qui permet de calculer, pour un jeu à `nb_dice` dés, chacun à `sides` faces, le nombre de tirages qui donnent une certaine somme `target`.\n",
    "\n",
    "Vous voulez vérifer votre formule, en appliquant une méthode de force brute. "
   ]
  },
  {
   "cell_type": "markdown",
   "metadata": {},
   "source": [
    "C'est l'objet de cet exercice. Vous devez écrire une fonction `dice` qui prend en paramètres:\n",
    "\n",
    "* `target` : la somme cible à atteindre,\n",
    "* `nb_dice` : le nombre de dés,\n",
    "* `sides`: le nombre de faces sur chaque dé.\n",
    "\n",
    "On convient que par défaut `nb_dice`=2 et `sides`=6, qui correspond au cas habituel.\n",
    "\n",
    "Dans ce cas-là par exemple, on voit, en comptant la longueur des diagonales sur la figure, que `dice(7)` doit valoir 6, puisque le tableau comporte 6 cases contenant 7 sur la diagonale."
   ]
  },
  {
   "cell_type": "code",
   "execution_count": null,
   "metadata": {
    "slideshow": {
     "slide_type": "fragment"
    }
   },
   "outputs": [],
   "source": [
    "# voici quelques exemples pour la fonction dice\n",
    "exo_dice.example()"
   ]
  },
  {
   "cell_type": "markdown",
   "metadata": {},
   "source": [
    "À nouveau, on demande explicitement ici un parcours de type force brute.\n",
    "\n",
    "Pour devancer les remarques sur le forum de discussion:\n",
    "\n",
    "* ce n'est pas parce cette semaine on étudie numpy que vous devez vous sentir obligé de le faire en numpy. \n",
    "* vous pouvez même vous donner comme objectif de le faire deux fois, avec et sans numpy :)"
   ]
  },
  {
   "cell_type": "code",
   "execution_count": null,
   "metadata": {
    "latex:hidden-code-instead": "dice=exo_dice.solution",
    "latex:hidden-silent": true
   },
   "outputs": [],
   "source": [
    "# à vous de jouer\n",
    "def dice(target, nb_dice=2, sides=6):\n",
    "    return \"votre code\""
   ]
  },
  {
   "cell_type": "code",
   "execution_count": null,
   "metadata": {},
   "outputs": [],
   "source": [
    "# pour corriger votre code\n",
    "exo_dice.correction(dice)"
   ]
  }
 ],
 "metadata": {
  "kernelspec": {
   "display_name": "Python 3",
   "language": "python",
   "name": "python3"
  },
  "language_info": {
   "codemirror_mode": {
    "name": "ipython",
    "version": 3
   },
   "file_extension": ".py",
   "mimetype": "text/x-python",
   "name": "python",
   "nbconvert_exporter": "python",
   "pygments_lexer": "ipython3",
   "version": "3.6.3"
  },
  "livereveal": {
   "auto_select": "code",
   "auto_select_fragment": true,
   "autolaunch": false,
   "backimage": "media/nologo.png",
   "height": "100%",
   "start_slideshow_at": "selected",
   "theme": "simple",
   "transition": "fade",
   "width": "100%"
  },
  "notebookname": "Exercice - niveau intermédiaire",
  "version": "3.0"
 },
 "nbformat": 4,
 "nbformat_minor": 2
}
