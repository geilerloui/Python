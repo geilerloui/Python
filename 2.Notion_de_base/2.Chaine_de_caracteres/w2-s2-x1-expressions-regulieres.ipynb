{
 "cells": [
  {
   "cell_type": "markdown",
   "metadata": {},
   "source": [
    "<style>div.title-slide {    width: 100%;    display: flex;    flex-direction: row;            /* default value; can be omitted */    flex-wrap: nowrap;              /* default value; can be omitted */    justify-content: space-between;}</style><div class=\"title-slide\">\n",
    "<span style=\"float:left;\">Licence CC BY-NC-ND</span>\n",
    "<span>Thierry Parmentelat &amp; Arnaud Legout</span>\n",
    "<span><img src=\"media/both-logos-small-alpha.png\" style=\"display:inline\" /></span>\n",
    "</div>"
   ]
  },
  {
   "cell_type": "markdown",
   "metadata": {},
   "source": [
    "# Expressions régulières"
   ]
  },
  {
   "cell_type": "markdown",
   "metadata": {},
   "source": [
    "Nous vous proposons dans ce notebook quelques exercices sur les expressions régulières. Faisons quelques remarques avant de commencer :\n",
    "\n",
    "* nous nous concentrons sur l'écriture de l'expression régulière en elle-même, et pas sur l'utilisation de la bibliothèque ;\n",
    "* en particulier, tous les exercices font appel à `re.match` entre votre *regexp* et une liste de chaînes d'entrée qui servent de jeux de test."
   ]
  },
  {
   "cell_type": "markdown",
   "metadata": {},
   "source": [
    "##### Liens utiles"
   ]
  },
  {
   "cell_type": "markdown",
   "metadata": {},
   "source": [
    "Pour travailler sur ces exercices, il pourra être profitable d'avoir sous la main :\n",
    "\n",
    "* la [documentation officielle](https://docs.python.org/3/library/re.html#regular-expression-syntax) ;\n",
    "* et [cet outil interactif sur https://pythex.org/](https://pythex.org/) qui permet d'avoir un retour presque immédiat, et donc d'accélérer la mise au point."
   ]
  },
  {
   "cell_type": "markdown",
   "metadata": {},
   "source": [
    "## Exercice - niveau intermédiaire (1)"
   ]
  },
  {
   "cell_type": "markdown",
   "metadata": {},
   "source": [
    "##### Identificateurs Python"
   ]
  },
  {
   "cell_type": "code",
   "execution_count": null,
   "metadata": {},
   "outputs": [],
   "source": [
    "# évaluez cette cellule pour charger l'exercice\n",
    "from corrections.regexp_pythonid import exo_pythonid"
   ]
  },
  {
   "cell_type": "markdown",
   "metadata": {},
   "source": [
    "On vous demande d'écrire une expression régulière qui décrit les noms de variable en Python. Pour cet exercice on se concentre sur les caractères ASCII. On exclut donc les noms de variables qui pourraient contenir des caractères exotiques comme les caractères accentués ou autres lettres grecques.\n",
    "\n",
    "Il s'agit donc de reconnaître toutes les chaînes qui commencent par une lettre ou un `_`, suivi de lettres, chiffres ou `_`."
   ]
  },
  {
   "cell_type": "code",
   "execution_count": null,
   "metadata": {},
   "outputs": [],
   "source": [
    "# quelques exemples de résultat attendus\n",
    "exo_pythonid.example()"
   ]
  },
  {
   "cell_type": "code",
   "execution_count": null,
   "metadata": {},
   "outputs": [],
   "source": [
    "# à vous de jouer: écrivez ici\n",
    "# sous forme de chaîne votre expression régulière\n",
    "\n",
    "regexp_pythonid = r\"<votre_regexp>\""
   ]
  },
  {
   "cell_type": "code",
   "execution_count": null,
   "metadata": {},
   "outputs": [],
   "source": [
    "# évaluez cette cellule pour valider votre code\n",
    "exo_pythonid.correction(regexp_pythonid)"
   ]
  },
  {
   "cell_type": "markdown",
   "metadata": {},
   "source": [
    "## Exercice - niveau intermédiaire (2)"
   ]
  },
  {
   "cell_type": "markdown",
   "metadata": {},
   "source": [
    "##### Lignes avec nom et prénom"
   ]
  },
  {
   "cell_type": "code",
   "execution_count": null,
   "metadata": {},
   "outputs": [],
   "source": [
    "# pour charger l'exercice\n",
    "from corrections.regexp_agenda import exo_agenda"
   ]
  },
  {
   "cell_type": "markdown",
   "metadata": {},
   "source": [
    "On veut reconnaître dans un fichier toutes les lignes qui contiennent un nom et un prénom."
   ]
  },
  {
   "cell_type": "code",
   "execution_count": null,
   "metadata": {},
   "outputs": [],
   "source": [
    "exo_agenda.example()"
   ]
  },
  {
   "cell_type": "markdown",
   "metadata": {},
   "source": [
    "Plus précisément, on cherche les chaînes qui :\n",
    "\n",
    "* commencent par une suite - possiblement vide - de caractères alphanumériques (vous pouvez utiliser `\\w`) ou tiret haut (`-`) qui constitue le prénom ;\n",
    "* contiennent ensuite comme séparateur le caractère 'deux-points' `:` ;\n",
    "* contiennent ensuite une suite - cette fois jamais vide - de caractères alphanumériques, qui constitue le nom ;\n",
    "* et enfin contiennent un deuxième caractère `:` mais optionnellement seulement."
   ]
  },
  {
   "cell_type": "markdown",
   "metadata": {},
   "source": [
    "On vous demande de construire une expression régulière qui définit les deux groupes `nom` et `prenom`, et qui rejette les lignes qui ne satisfont pas ces critères."
   ]
  },
  {
   "cell_type": "code",
   "execution_count": null,
   "metadata": {},
   "outputs": [],
   "source": [
    "# entrez votre regexp ici\n",
    "# il faudra la faire terminer par \\Z\n",
    "# regardez ce qui se passe si vous ne le faites pas\n",
    "\n",
    "regexp_agenda = r\"<votre regexp>\\Z\""
   ]
  },
  {
   "cell_type": "code",
   "execution_count": null,
   "metadata": {},
   "outputs": [],
   "source": [
    "# évaluez cette cellule pour valider votre code\n",
    "exo_agenda.correction(regexp_agenda)"
   ]
  },
  {
   "cell_type": "markdown",
   "metadata": {},
   "source": [
    "## Exercice - niveau intermédiaire (3)"
   ]
  },
  {
   "cell_type": "markdown",
   "metadata": {},
   "source": [
    "##### Numéros de téléphone"
   ]
  },
  {
   "cell_type": "code",
   "execution_count": null,
   "metadata": {},
   "outputs": [],
   "source": [
    "# pour charger l'exercice\n",
    "from corrections.regexp_phone import exo_phone"
   ]
  },
  {
   "cell_type": "markdown",
   "metadata": {},
   "source": [
    "Cette fois on veut reconnaître des numéros de téléphone français, qui peuvent être :\n",
    "\n",
    "* soit au format contenant 10 chiffres dont le premier est un `0` ;\n",
    "* soit un format international commençant par `+33` suivie de 9 chiffres.\n",
    "\n",
    "Dans tous les cas on veut trouver dans le groupe 'number' les 9 chiffres vraiment significatifs, comme ceci :"
   ]
  },
  {
   "cell_type": "code",
   "execution_count": null,
   "metadata": {},
   "outputs": [],
   "source": [
    "exo_phone.example()"
   ]
  },
  {
   "cell_type": "code",
   "execution_count": null,
   "metadata": {},
   "outputs": [],
   "source": [
    "# votre regexp\n",
    "# à nouveau il faut terminer la regexp par \\Z\n",
    "regexp_phone = r\"<votre regexp>\\Z\""
   ]
  },
  {
   "cell_type": "code",
   "execution_count": null,
   "metadata": {},
   "outputs": [],
   "source": [
    "# évaluez cette cellule pour valider votre code\n",
    "exo_phone.correction(regexp_phone)"
   ]
  },
  {
   "cell_type": "markdown",
   "metadata": {},
   "source": [
    "## Exercice - niveau avancé"
   ]
  },
  {
   "cell_type": "markdown",
   "metadata": {},
   "source": [
    "Vu comment sont conçus les exercices, vous ne pouvez pas passer à `re.compile` un drapeau comme `re.IGNORECASE` ou autre ; sachez cependant que vous pouvez ***embarquer* ces drapeaux dans la *regexp*** elle-même ; par exemple pour rendre la regexp insensible à la casse de caractères, au lieu d'appeler `re.compile` avec le flag `re.I`, vous pouvez utiliser `(?i)` comme ceci :"
   ]
  },
  {
   "cell_type": "code",
   "execution_count": null,
   "metadata": {},
   "outputs": [],
   "source": [
    "import re"
   ]
  },
  {
   "cell_type": "code",
   "execution_count": null,
   "metadata": {},
   "outputs": [],
   "source": [
    "# on peut embarquer les flags comme IGNORECASE\n",
    "# directement dans la regexp\n",
    "# c'est équivalent de faire ceci\n",
    "\n",
    "re_obj = re.compile(\"abc\", flags=re.IGNORECASE)\n",
    "re_obj.match(\"ABC\").group(0)"
   ]
  },
  {
   "cell_type": "code",
   "execution_count": null,
   "metadata": {},
   "outputs": [],
   "source": [
    "# ou cela\n",
    "\n",
    "re.match(\"(?i)abc\",\"ABC\").group(0)"
   ]
  },
  {
   "cell_type": "code",
   "execution_count": null,
   "metadata": {},
   "outputs": [],
   "source": [
    "# les flags comme (?i) doivent apparaître\n",
    "# en premier dans la regexp\n",
    "re.match(\"abc(?i)\",\"ABC\").group(0)"
   ]
  },
  {
   "cell_type": "markdown",
   "metadata": {},
   "source": [
    "Pour plus de précisions sur ce trait, que nous avons laissé de côté dans le complément pour ne pas trop l'alourdir, voyez [la documentation sur les expressions régulières](https://docs.python.org/3/library/re.html#regular-expression-syntax) et cherchez la première occurrence de `iLmsux`."
   ]
  },
  {
   "cell_type": "markdown",
   "metadata": {},
   "source": [
    "### Décortiquer une URL"
   ]
  },
  {
   "cell_type": "markdown",
   "metadata": {},
   "source": [
    "On vous demande d'écrire une expression régulière qui permette d'analyser des URLs.\n",
    "\n",
    "Voici les conventions que nous avons adoptées pour l'exercice :\n",
    "\n",
    "* la chaîne contient les parties suivantes :\n",
    "  * `<protocol>://<location>/<path>` ;\n",
    "* l'URL commence par le nom d'un protocole qui doit être parmi `http`, `https`, `ftp`, `ssh` ;\n",
    "* le nom du protocole peut contenir de manière indifférente des minuscules ou des majuscules ;\n",
    "* ensuite doit venir la séquence `://` ;\n",
    "* ensuite on va trouver une chaîne `<location>` qui contient :\n",
    "  * potentiellement un nom d'utilisateur, et s'il est présent, potentiellement un mot de passe ;\n",
    "  * obligatoirement un nom de `hostname` ;\n",
    "  * potentiellement un numéro de port ;\n",
    "* lorsque les 4 parties sont présentes dans `<location>`, cela se présente comme ceci :\n",
    "  * `<location> = <user>:<password>@<hostname>:<port>` ;\n",
    "* si l'on note entre crochets les parties optionnelles, cela donne :\n",
    "  * `<location> = [<user>[:<password>]@]<hostname>[:<port>]` ;\n",
    "* le champ `<user>` ne peut contenir que des caractères alphanumériques ; si le `@` est présent le champ `<user>` ne peut pas être vide ;\n",
    "* le champ `<password>` peut contenir tout sauf un `:` et de même, si le `:` est présent le champ `<password>` ne peut pas être vide ;\n",
    "* le champ `<hostname>` peut contenir une suite non-vide de caractères alphanumériques, underscores, ou `.` ;\n",
    "* le champ `<port>` ne contient que des chiffres, et il est non vide si le `:` est spécifié ;\n",
    "* le champ `<path>` peut être vide.\n",
    "\n",
    "Enfin, vous devez définir les groupes `proto`, `user`, `password`, `hostname`, `port` et `path` qui sont utilisés pour vérifier votre résultat. Dans la case `Résultat attendu`, vous trouverez soit `None` si la regexp ne filtre pas l'intégralité de l'entrée, ou bien une liste ordonnée de tuples qui donnent la valeur de ces groupes ; vous n'avez rien à faire pour construire ces tuples, c'est l'exercice qui s'en occupe."
   ]
  },
  {
   "cell_type": "code",
   "execution_count": null,
   "metadata": {},
   "outputs": [],
   "source": [
    "# pour charger l'exercice\n",
    "from corrections.regexp_url import exo_url"
   ]
  },
  {
   "cell_type": "code",
   "execution_count": null,
   "metadata": {},
   "outputs": [],
   "source": [
    "# exemples du résultat attendu\n",
    "exo_url.example()"
   ]
  },
  {
   "cell_type": "code",
   "execution_count": null,
   "metadata": {},
   "outputs": [],
   "source": [
    "# n'hésitez pas à construire votre regexp petit à petit\n",
    "\n",
    "regexp_url = \"<votre_regexp>\""
   ]
  },
  {
   "cell_type": "code",
   "execution_count": null,
   "metadata": {},
   "outputs": [],
   "source": [
    "exo_url.correction(regexp_url)"
   ]
  }
 ],
 "metadata": {
  "kernelspec": {
   "display_name": "Python 3",
   "language": "python",
   "name": "python3"
  },
  "language_info": {
   "codemirror_mode": {
    "name": "ipython",
    "version": 3
   },
   "file_extension": ".py",
   "mimetype": "text/x-python",
   "name": "python",
   "nbconvert_exporter": "python",
   "pygments_lexer": "ipython3",
   "version": "3.6.3"
  },
  "livereveal": {
   "auto_select": "code",
   "auto_select_fragment": true,
   "autolaunch": false,
   "backimage": "media/nologo.png",
   "height": "100%",
   "start_slideshow_at": "selected",
   "theme": "simple",
   "transition": "fade",
   "width": "100%"
  },
  "notebookname": "Expressions régulières",
  "version": "3.0"
 },
 "nbformat": 4,
 "nbformat_minor": 1
}
