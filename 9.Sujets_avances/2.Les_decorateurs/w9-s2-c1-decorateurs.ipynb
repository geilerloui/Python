{
 "cells": [
  {
   "cell_type": "markdown",
   "metadata": {},
   "source": [
    "<style>div.title-slide {    width: 100%;    display: flex;    flex-direction: row;            /* default value; can be omitted */    flex-wrap: nowrap;              /* default value; can be omitted */    justify-content: space-between;}</style><div class=\"title-slide\">\n",
    "<span style=\"float:left;\">Licence CC BY-NC-ND</span>\n",
    "<span>Thierry Parmentelat &amp; Arnaud Legout</span>\n",
    "<span><img src=\"media/both-logos-small-alpha.png\" style=\"display:inline\" /></span>\n",
    "</div>"
   ]
  },
  {
   "cell_type": "markdown",
   "metadata": {},
   "source": [
    "# Décorateurs"
   ]
  },
  {
   "cell_type": "markdown",
   "metadata": {},
   "source": [
    "## Complément - niveau (très) avancé"
   ]
  },
  {
   "cell_type": "markdown",
   "metadata": {},
   "source": [
    "Le mécanisme des décorateurs - qui rappelle un peu, pour ceux qui connaissent, les macros Lisp - est un mécanisme très puissant. Sa portée va bien au delà de simplement rajouter du code avant et après une fonction, comme dans le cas de `NbAppels` que nous avons vu dans la vidéo.\n",
    "\n",
    "Par exemple, les notions de méthodes de classe (`@classmethod`) et de méthodes statiques (`@staticmethod`) sont implémentées comme des décorateurs. Pour une liste plus représentative de ce qu'il est possible de faire avec les décorateurs, je vous invite à parcourir même rapidement ce [recueil de décorateurs](https://wiki.python.org/moin/PythonDecoratorLibrary) qui propose du code (à titre indicatif, car rien de ceci ne fait partie de la bibliothèque standard) pour des thèmes qui sont propices à la décoration de code.\n",
    "\n",
    "Nous allons voir en détail quelques-uns de ces exemples."
   ]
  },
  {
   "cell_type": "markdown",
   "metadata": {},
   "source": [
    "### Un décorateur implémenté comme une classe"
   ]
  },
  {
   "cell_type": "markdown",
   "metadata": {},
   "source": [
    "Dans la vidéo on a vu `NbAppels` pour compter le nombre de fois qu'on appelle une fonction. Pour mémoire on avait écrit :"
   ]
  },
  {
   "cell_type": "code",
   "execution_count": null,
   "metadata": {},
   "outputs": [],
   "source": [
    "# un rappel du code montré dans la vidéo\n",
    "class NbAppels:\n",
    "    def __init__(self, f):\n",
    "        self.f = f\n",
    "        self.appels = 0\n",
    "    def __call__(self, *args):\n",
    "        self.appels += 1\n",
    "        print(f\"{self.appels}-ème appel à {self.f.__name__}\")\n",
    "        return self.f(*args)"
   ]
  },
  {
   "cell_type": "code",
   "execution_count": null,
   "metadata": {},
   "outputs": [],
   "source": [
    "# nous utilisons ici une implémentation en log(n)\n",
    "# de la fonction de fibonacci\n",
    "\n",
    "@NbAppels\n",
    "def fibo_aux(n):\n",
    "    \"Fibonacci en log(n)\"\n",
    "    if n < 1:\n",
    "        return 0, 1\n",
    "    u, v = fibo_aux(n//2)\n",
    "    u, v = u * (2 * v - u), u*u + v*v\n",
    "    if n % 2 == 1:\n",
    "        return v, u + v\n",
    "    else:\n",
    "        return u, v\n",
    "\n",
    "def fibo_log(n):\n",
    "    return fibo_aux(n)[0]"
   ]
  },
  {
   "cell_type": "code",
   "execution_count": null,
   "metadata": {},
   "outputs": [],
   "source": [
    "# pour se convaincre que nous sommes bien en log2(n)\n",
    "from math import log"
   ]
  },
  {
   "cell_type": "code",
   "execution_count": null,
   "metadata": {},
   "outputs": [],
   "source": [
    "n1 = 100\n",
    "\n",
    "log(n1)/log(2)"
   ]
  },
  {
   "cell_type": "code",
   "execution_count": null,
   "metadata": {},
   "outputs": [],
   "source": [
    "fibo_log(n1)"
   ]
  },
  {
   "cell_type": "code",
   "execution_count": null,
   "metadata": {},
   "outputs": [],
   "source": [
    "# on multiplie par 2**4 = 16,\n",
    "# donc on doit voir 4 appels de plus\n",
    "n2 = 1600\n",
    "\n",
    "log(n2)/log(2)"
   ]
  },
  {
   "cell_type": "code",
   "execution_count": null,
   "metadata": {},
   "outputs": [],
   "source": [
    "fibo_log(n2)"
   ]
  },
  {
   "cell_type": "markdown",
   "metadata": {},
   "source": [
    "### `memoize` implémenté comme une fonction"
   ]
  },
  {
   "cell_type": "markdown",
   "metadata": {},
   "source": [
    "Ici nous allons implémenter `memoize`, un décorateur qui permet de mémoriser les résultats d'une fonction, et de les cacher pour ne pas avoir à les recalculer la fois suivante.\n",
    "\n",
    "Alors que `NbAppels` était **implémenté comme une classe**, pour varier un peu, nous allons implémenter cette fois **`memoize` comme une vraie fonction**, pour vous montrer les deux alternatives que l'on a quand on veut implémenter un décorateur : une vraie fonction ou une classe de callables."
   ]
  },
  {
   "cell_type": "markdown",
   "metadata": {},
   "source": [
    "##### Le code du décorateur"
   ]
  },
  {
   "cell_type": "code",
   "execution_count": null,
   "metadata": {},
   "outputs": [],
   "source": [
    "# une première implémentation de memoize\n",
    "\n",
    "# un décorateur de fonction\n",
    "# implémenté comme une fonction\n",
    "def memoize(a_decorer):\n",
    "    \"\"\"\n",
    "    Un décorateur pour conserver les résultats\n",
    "    précédents et éviter de les recalculer\n",
    "    \"\"\"\n",
    "    def decoree(*args):\n",
    "        # si on a déjà calculé le résultat\n",
    "        # on le renvoie\n",
    "        try:\n",
    "            return decoree.cache[args]\n",
    "        # si les arguments ne sont pas hashables,\n",
    "        # par exemple s'ils contiennent une liste\n",
    "        # on ne peut pas cacher et on reçoit TypeError\n",
    "        except TypeError:\n",
    "            return a_decorer(*args)\n",
    "        # les arguments sont hashables mais on\n",
    "        # n'a pas encore calculé cette valeur\n",
    "        except KeyError:\n",
    "            # on fait vraiment le calcul\n",
    "            result = a_decorer(*args)\n",
    "            # on le range dans le cache\n",
    "            decoree.cache[args] = result\n",
    "            # on le retourne\n",
    "            return result\n",
    "    # on initialise l'attribut 'cache'\n",
    "    decoree.cache = {}\n",
    "    return decoree"
   ]
  },
  {
   "cell_type": "markdown",
   "metadata": {},
   "source": [
    "##### Comment l'utiliser"
   ]
  },
  {
   "cell_type": "markdown",
   "metadata": {},
   "source": [
    "Avant de rentrer dans le détail du code, voyons comment cela s'utiliserait ; il n'y a pas de changement de ce point de vue par rapport à l'option développée dans la vidéo :"
   ]
  },
  {
   "cell_type": "code",
   "execution_count": null,
   "metadata": {},
   "outputs": [],
   "source": [
    "# créer une fonction décorée\n",
    "@memoize\n",
    "def fibo_cache(n):\n",
    "    \"\"\"\n",
    "    Un fibonacci hyper-lent (exponentiel) se transforme\n",
    "    en temps linéaire une fois que les résultats sont cachés\n",
    "    \"\"\"\n",
    "    return n if n <= 1 else fibo_cache(n-1) + fibo_cache(n-2)"
   ]
  },
  {
   "cell_type": "markdown",
   "metadata": {},
   "source": [
    "Bien que l'implémentation utilise un algorithme épouvantablement lent, le fait de lui rajouter du caching redonne à l'ensemble un caractère linéaire.\n",
    "\n",
    "En effet, si vous y réfléchissez une minute, vous verrez qu'avec le cache, lorsqu'on calcule `fibo_cache(n)`, on calcule d'abord `fibo_cache(n-1)`, puis lorsqu'on évalue `fibo_cache(n-2)` le résultat **est déjà dans le cache** si bien qu'on peut considérer ce deuxième calcul comme, sinon instantané, du moins du même ordre de grandeur qu'une addition.\n",
    "\n",
    "On peut calculer par exemple :"
   ]
  },
  {
   "cell_type": "code",
   "execution_count": null,
   "metadata": {},
   "outputs": [],
   "source": [
    "fibo_cache(300)"
   ]
  },
  {
   "cell_type": "markdown",
   "metadata": {},
   "source": [
    "qu'il serait hors de question de calculer sans le caching.\n",
    "\n",
    "On peut naturellement inspecter le cache, qui est rangé dans l'attribut `cache` de l'objet fonction lui-même :"
   ]
  },
  {
   "cell_type": "code",
   "execution_count": null,
   "metadata": {},
   "outputs": [],
   "source": [
    "len(fibo_cache.cache)"
   ]
  },
  {
   "cell_type": "markdown",
   "metadata": {},
   "source": [
    "et voir que, comme on aurait pu le prédire, on a calculé et mémorisé les 301 premiers résultats, pour n allant de 0 à 300."
   ]
  },
  {
   "cell_type": "markdown",
   "metadata": {},
   "source": [
    "##### Comment ça marche ?"
   ]
  },
  {
   "cell_type": "markdown",
   "metadata": {},
   "source": [
    "On l'a vu dans la vidéo avec `NbAppels`, tout se passe exactement comme si on avait écrit :\n",
    "\n",
    "```python\n",
    "def fibo_cache(n):\n",
    "    <le code>\n",
    "\n",
    "fibo_cache = memoize(fibo_cache)\n",
    "```"
   ]
  },
  {
   "cell_type": "markdown",
   "metadata": {},
   "source": [
    "Donc `memoize` est une fonction qui prend en argument une fonction `a_decorer` qui ici vaut `fibo_cache`, et retourne une autre fonction, `decoree` ; on s'arrange naturellement pour que `decoree` retourne le même résultat que `a_decorer`, avec seulement des choses supplémentaires."
   ]
  },
  {
   "cell_type": "markdown",
   "metadata": {},
   "source": [
    "Les points clés de l'implémentation sont les suivants :\n",
    "\n",
    "* On attache à l'objet fonction `decoree`, sous la forme d'un attribut`cache`, un dictionnaire qui va nous permettre de retrouver les valeurs déjà calculées, à partir d'un hash des arguments.\n",
    "* On ne peut pas cacher le résultat d'un objet qui ne serait pas globalement immuable ; or si on essaie on reçoit l'exception `TypeError`, et dans ce cas on recalcule toujours le résultat. C'est de toute façon plus sûr.\n",
    "* Si on ne trouve pas les arguments dans le cache, on reçoit l'exception `KeyError`, dans ce cas on calcule le résultat, et on le retourne après l'avoir rangé dans le cache.\n",
    "* Vous remarquerez aussi qu'on initialise l'attribut `cache` dans l'objet `decoree` à l'appel du décorateur (une seule fois, juste après avoir défini la fonction), et non pas dans le code de `decoree` qui lui est évalué à chaque appel."
   ]
  },
  {
   "cell_type": "markdown",
   "metadata": {},
   "source": [
    "Cette implémentation, sans être parfaite, est tout à fait utilisable dans un environnement réel, modulo les remarques de bon sens suivantes :\n",
    "\n",
    "* évidemment l'approche ne fonctionne que pour des fonctions déterministes ; s'il y a de l'aléatoire dans la logique de la fonction, il ne faut pas utiliser ce décorateur ;\n",
    "* tout aussi évidemment, la consommation mémoire peut être importante si on applique le caching sans discrimination ;\n",
    "* enfin en l'état la fonction décorée ne peut pas être appelée avec des arguments nommés ; en effet on utilise le tuple `args` comme clé pour retrouver dans le cache la valeur associée aux arguments."
   ]
  },
  {
   "cell_type": "markdown",
   "metadata": {},
   "source": [
    "### Décorateurs, *docstring* et `help`"
   ]
  },
  {
   "cell_type": "markdown",
   "metadata": {},
   "source": [
    "En fait, avec cette implémentation, il reste aussi un petit souci :"
   ]
  },
  {
   "cell_type": "code",
   "execution_count": null,
   "metadata": {},
   "outputs": [],
   "source": [
    "help(fibo_cache)"
   ]
  },
  {
   "cell_type": "markdown",
   "metadata": {},
   "source": [
    "Et ce n'est pas exactement ce qu'on veut ; ce qui se passe ici c'est que `help` utilise les attributs `__doc__` et `__name__` de l'objet qu'on lui passe. Et dans notre cas `fibo_cache` est une fonction qui a été créée par l'instruction :\n",
    "\n",
    "```python\n",
    "def decoree(*args):\n",
    "    # etc.\n",
    "```"
   ]
  },
  {
   "cell_type": "markdown",
   "metadata": {},
   "source": [
    "Pour arranger ça et faire en sorte que `help` nous affiche ce qu'on veut, il faut s'occuper de ces deux attributs. Et plutôt que de faire ça à la main, il existe [un utilitaire `functools.wraps`](https://docs.python.org/3/library/functools.html#functools.wraps), qui fait tout le travail nécessaire. Ce qui nous donne une deuxième version de ce décorateur, avec deux lignes supplémentaires signalées par des `+++` :"
   ]
  },
  {
   "cell_type": "code",
   "execution_count": null,
   "metadata": {},
   "outputs": [],
   "source": [
    "# une deuxième implémentation de memoize, avec la doc\n",
    "\n",
    "import functools                                 # +++\n",
    "\n",
    "# un décorateur de fonction\n",
    "# implémenté comme une fonction\n",
    "def memoize(a_decorer):\n",
    "    \"\"\"\n",
    "    Un décorateur pour conserver les résultats\n",
    "    précédents et éviter de les recalculer\n",
    "    \"\"\"\n",
    "    # on décore la fonction pour qu'elle ait les\n",
    "    # propriétés de a_decorer : __doc__ et __name__\n",
    "    @functools.wraps(a_decorer)                  # +++\n",
    "    def decoree (*args):\n",
    "        # si on a déjà calculé le résultat\n",
    "        # on le renvoie\n",
    "        try:\n",
    "            return decoree.cache[args]\n",
    "        # si les arguments ne sont pas hashables,\n",
    "        # par exemple une liste, on ne peut pas cacher\n",
    "        # et on reçoit TypeError\n",
    "        except TypeError:\n",
    "            return a_decorer(*args)\n",
    "        # les arguments sont hashables mais on\n",
    "        # n'a pas encore calculé cette valeur\n",
    "        except KeyError:\n",
    "            # on fait vraiment le calcul\n",
    "            result = a_decorer(*args)\n",
    "            # on le range dans le cache\n",
    "            decoree.cache[args] = result\n",
    "            # on le retourne\n",
    "            return result\n",
    "    # on initialise l'attribut 'cache'\n",
    "    decoree.cache = {}\n",
    "    return decoree"
   ]
  },
  {
   "cell_type": "code",
   "execution_count": null,
   "metadata": {},
   "outputs": [],
   "source": [
    "# créer une fonction décorée\n",
    "@memoize\n",
    "def fibo_cache2(n):\n",
    "    \"\"\"\n",
    "    Un fibonacci hyper-lent (exponentiel) se transforme\n",
    "    en temps linéaire une fois que les résultats sont cachés\n",
    "    \"\"\"\n",
    "    return n if n <= 1 else fibo_cache2(n-1) + fibo_cache2(n-2)"
   ]
  },
  {
   "cell_type": "markdown",
   "metadata": {},
   "source": [
    "Et on obtient à présent une aide en ligne cohérente :"
   ]
  },
  {
   "cell_type": "code",
   "execution_count": null,
   "metadata": {},
   "outputs": [],
   "source": [
    "help(fibo_cache2)"
   ]
  },
  {
   "cell_type": "markdown",
   "metadata": {},
   "source": [
    "### On peut décorer les classes aussi"
   ]
  },
  {
   "cell_type": "markdown",
   "metadata": {},
   "source": [
    "De la même façon qu'on peut décorer une fonction, on peut décorer une classe.\n",
    "\n",
    "Pour ne pas alourdir le complément, et aussi parce que le mécanisme de métaclasse offre une autre alternative qui est souvent plus pertinente, nous ne donnons pas d'exemple ici, cela vous est laissé à titre d'exercice si vous êtes intéressé."
   ]
  },
  {
   "cell_type": "markdown",
   "metadata": {},
   "source": [
    "### Un décorateur peut lui-même avoir des arguments"
   ]
  },
  {
   "cell_type": "markdown",
   "metadata": {},
   "source": [
    "Reprenons l'exemple de `memoize`, mais imaginons qu'on veuille ajouter un trait de \"durée de validité du cache\". Le code du décorateur a besoin de connaître la durée pendant laquelle on doit garder les résultats dans le cache.\n",
    "\n",
    "On veut pouvoir préciser ce paramètre, appelons le `cache_timeout`,  pour chaque fonction ; par exemple on voudrait écrire quelque chose comme :\n",
    "\n",
    "```python\n",
    "@memoize_expire(600)\n",
    "def resolve_host(hostname):\n",
    "    …\n",
    "\n",
    "@memoize_expire(3600*24)\n",
    "def network_neighbours(hostname):\n",
    "    …\n",
    "```"
   ]
  },
  {
   "cell_type": "markdown",
   "metadata": {},
   "source": [
    "Ceci est possible également avec les décorateurs, avec cette syntaxe précisément. Le modèle qu'il faut avoir à l'esprit pour bien comprendre le code qui suit est le suivant et se base sur deux objets :\n",
    "\n",
    "* le premier objet, `memoize_expire`, est ce qu'on appelle une *factory* à décorateurs, c'est-à-dire que l'interpréteur va d'abord appeler `memoize_expire(600)` qui doit retourner un décorateur ;\n",
    "* le deuxième objet est ce décorateur retourné par `memoize_expire(600)` qui lui-même doit se comporter comme les décorateurs sans argument que l'on a vus jusqu'ici.\n",
    "\n",
    "Pour faire court, cela signifie que l'interpréteur fera :\n",
    "\n",
    "```python\n",
    "resolve_host = (memoize_expire(600))(resolve_host)\n",
    "```\n",
    "\n",
    "Ou encore si vous préférez :\n",
    "\n",
    "```python\n",
    "memoize = memoize_expire(600)\n",
    "resolve_host = memoize(resolve_host)\n",
    "```"
   ]
  },
  {
   "cell_type": "markdown",
   "metadata": {},
   "source": [
    "Ce qui nous mène au code suivant :"
   ]
  },
  {
   "cell_type": "code",
   "execution_count": null,
   "metadata": {},
   "outputs": [],
   "source": [
    "import time\n",
    "\n",
    "# comme pour memoize, on est limité ici et on ne peut pas\n",
    "# supporter les appels à la **kwds, voir plus haut\n",
    "# la discussion sur l'implémentation de memoize\n",
    "\n",
    "# memoize_expire est une factory à décorateur\n",
    "def memoize_expire(timeout):\n",
    "\n",
    "    # memoize_expire va retourner un décorateur sans argument\n",
    "    # c'est-à-dire un objet qui se comporte\n",
    "    # comme notre tout premier `memoize`\n",
    "    def memoize(a_decorer):\n",
    "        # à partir d'ici on fait un peu comme dans\n",
    "        # la première version de memoize\n",
    "        def decoree(*args):\n",
    "            try:\n",
    "                # sauf que disons qu'on met dans le cache un tuple\n",
    "                # (valeur, timestamp)\n",
    "                valeur, timestamp = decoree.cache[args]\n",
    "                # et là on peut accéder à timeout\n",
    "                # parce que la liaison en Python est lexicale\n",
    "                if (time.time()-timestamp) <= timeout:\n",
    "                    return valeur\n",
    "                else:\n",
    "                    # on fait comme si on ne connaissait pas,\n",
    "                    raise KeyError\n",
    "            # si les arguments ne sont pas hashables,\n",
    "            # par exemple une liste, on ne peut pas cacher\n",
    "            # et on reçoit TypeError\n",
    "            except TypeError:\n",
    "                return a_decorer(*args)\n",
    "            # les arguments sont hashables mais on\n",
    "            # n'a pas encore calculé cette valeur\n",
    "            except KeyError:\n",
    "                result = a_decorer(*args)\n",
    "                decoree.cache[args] = (result, time.time())\n",
    "                return result\n",
    "\n",
    "        decoree.cache = {}\n",
    "        return decoree\n",
    "    # le retour de memoize_expire, c'est memoize\n",
    "    return memoize"
   ]
  },
  {
   "cell_type": "code",
   "execution_count": null,
   "metadata": {},
   "outputs": [],
   "source": [
    "@memoize_expire(0.5)\n",
    "def fibo_cache_expire(n):\n",
    "    return n if n<=1 else fibo_cache_expire(n-2)+fibo_cache_expire(n-1)"
   ]
  },
  {
   "cell_type": "code",
   "execution_count": null,
   "metadata": {},
   "outputs": [],
   "source": [
    "fibo_cache_expire(300)"
   ]
  },
  {
   "cell_type": "code",
   "execution_count": null,
   "metadata": {},
   "outputs": [],
   "source": [
    "fibo_cache_expire.cache[(200,)]"
   ]
  },
  {
   "cell_type": "markdown",
   "metadata": {},
   "source": [
    "##### Remarquez la clôture"
   ]
  },
  {
   "cell_type": "markdown",
   "metadata": {},
   "source": [
    "Pour conclure sur cet exemple, vous remarquez que dans le code de `decoree` on accède à la variable `timeout`. Ça peut paraître un peu étonnant, si vous pensez que `decoree` est appelée **bien après** que la fonction `memoize_expire` a fini son travail. En effet, `memoize_expire` est évaluée **une fois** juste après **la définition** de `fibo_cache`. Et donc on pourrait penser que la valeur de `timeout` ne serait plus disponible dans le contexte de `decoree`.\n",
    "\n",
    "Pour comprendre ce qui se passe, il faut se souvenir que Python est un langage à liaison lexicale. Cela signifie que la *résolution* de la variable `timeout` se fait au moment de la compilation (de la production du byte-code), et non au moment où est appelé `decoree`.\n",
    "\n",
    "Ce type de construction s'appelle [une **clôture**](http://fr.wikipedia.org/wiki/Fermeture_%28informatique%29), en référence au lambda calcul : on parle de terme clos lorsqu'il n'y a plus de référence non résolue dans une expression. C'est une technique de programmation très répandue notamment dans les applications réactives, où on programme beaucoup avec des *callbacks* ; par exemple il est presque impossible de programmer en JavaScript sans écrire une clôture."
   ]
  },
  {
   "cell_type": "markdown",
   "metadata": {},
   "source": [
    "### On peut chaîner les décorateurs"
   ]
  },
  {
   "cell_type": "markdown",
   "metadata": {},
   "source": [
    "Pour revenir à notre sujet, signalons enfin que l'on peut aussi \"chaîner les décorateurs\" ; imaginons par exemple qu'on dispose d'un décorateur `add_field` qui ajoute dans une classe un *getter* et un *setter* basés sur un nom d'attribut.\n",
    "\n",
    "C'est-à-dire que :\n",
    "\n",
    "```python\n",
    "@add_field('name')\n",
    "class Foo:\n",
    "    pass\n",
    "```\n",
    "\n",
    "donnerait pour `Foo` une classe qui dispose des méthodes `get_name` et `set_name` (exercice pour les courageux : écrire `add_field`)."
   ]
  },
  {
   "cell_type": "markdown",
   "metadata": {},
   "source": [
    "Alors la syntaxe des décorateurs vous permet de faire quelque chose comme :\n",
    "\n",
    "```python\n",
    "@add_field('name')\n",
    "@add_field('address')\n",
    "class Foo:\n",
    "    pass\n",
    "```"
   ]
  },
  {
   "cell_type": "markdown",
   "metadata": {},
   "source": [
    "Ce qui revient à faire :\n",
    "\n",
    "```python\n",
    "class Foo: pass\n",
    "Foo = (add_field('address'))(Foo)\n",
    "Foo = (add_field('name'))(Foo)\n",
    "```"
   ]
  },
  {
   "cell_type": "markdown",
   "metadata": {},
   "source": [
    "### Discussion"
   ]
  },
  {
   "cell_type": "markdown",
   "metadata": {},
   "source": [
    "Dans la pratique, écrire un décorateur est un exercice assez délicat. Le vrai problème est bien souvent la création d'objets supplémentaires : on n'appelle plus la fonction de départ mais un wrapper autour de la fonction de départ.\n",
    "\n",
    "Ceci a tout un tas de conséquences, et le lecteur attentif aura par exemple remarqué :\n",
    "\n",
    "* que dans l'état du code de `singleton`, bien que l'on ait correctement mis à jour `__doc__` et `__name__` sur la classe décorée, `help(Spam)` ne renvoie pas le texte attendu, il semble que `help` sur une instance de classe ne se comporte pas exactement comme attendu ;\n",
    "* que si on essaie de combiner les décorateurs `NbAppels` et `memoize` sur une - encore nouvelle - version de fibonacci, le code obtenu ne converge pas ; en fait les techniques que nous avons utilisées dans les deux cas ne sont pas compatibles entre elles.\n",
    "\n",
    "De manière plus générale, il y a des gens pour trouver des défauts à ce système de décorateurs ; je vous renvoie notamment à [ce blog](http://blog.dscpl.com.au/2014/01/how-you-implemented-your-python.html) qui, pour résumer, insiste sur le fait que les objets décorés n'ont **pas exactement** les mêmes propriétés que les objets originaux. L'auteur y explique que lorsqu'on fait de l'introspection profonde - c'est-à-dire lorsqu'on écrit du code qui \"fouille\" dans les objets qui représentent le code lui-même - les objets décorés ont parfois du mal à se *faire passer* pour les objets qu'ils remplacent.\n",
    "\n",
    "À chacun de voir les avantages et les inconvénients de cette technique. C'est là encore beaucoup une question de goût. Dans certains cas simples, comme par exemple pour `NbAppels`, la décoration revient à simplement ajouter du code avant et après l'appel à la fonction à décorer. Et dans ce cas, vous remarquerez qu'on peut aussi faire le même genre de choses avec un *context manager* (je laisse ça en exercice aux étudiants intéressés).\n",
    "\n",
    "Ce qui est clair toutefois est que la technique des décorateurs est quelque chose qui peut être très  utile, mais dont il ne faut pas abuser. En particulier de notre point de vue, la possibilité de combiner les décorateurs, si elle existe bien dans le langage d'un point de vue syntaxique, est dans la pratique à utiliser avec la plus extrême prudence."
   ]
  },
  {
   "cell_type": "markdown",
   "metadata": {},
   "source": [
    "### Pour en savoir plus"
   ]
  },
  {
   "cell_type": "markdown",
   "metadata": {},
   "source": [
    "Maintenant que vous savez presque tout sur les décorateurs, vous pouvez retourner lire ce [recueil de décorateurs](https://wiki.python.org/moin/PythonDecoratorLibrary) mais plus en détails."
   ]
  }
 ],
 "metadata": {
  "kernelspec": {
   "display_name": "Python 3",
   "language": "python",
   "name": "python3"
  },
  "language_info": {
   "codemirror_mode": {
    "name": "ipython",
    "version": 3
   },
   "file_extension": ".py",
   "mimetype": "text/x-python",
   "name": "python",
   "nbconvert_exporter": "python",
   "pygments_lexer": "ipython3",
   "version": "3.6.3"
  },
  "livereveal": {
   "auto_select": "code",
   "auto_select_fragment": true,
   "autolaunch": false,
   "backimage": "media/nologo.png",
   "height": "100%",
   "start_slideshow_at": "selected",
   "theme": "simple",
   "transition": "fade",
   "width": "100%"
  },
  "notebookname": "Décorateurs",
  "version": "3.0"
 },
 "nbformat": 4,
 "nbformat_minor": 1
}
