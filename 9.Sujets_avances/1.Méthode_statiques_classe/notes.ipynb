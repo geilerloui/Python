{
 "cells": [
  {
   "cell_type": "markdown",
   "metadata": {},
   "source": [
    "Nous avons vu qu'il y'avait une asymétrie entre la manière d'appeler cette méthode depuis une classe, et la manière d'appeler cette méthode depuis une instance.\n",
    "- On appelle une méthode depuis une classe il s'agit d'une fonction tout à fait classique\n",
    "- Lorsqu'on fait appel depuis une instance, c'est ce qu'on appelle une **méthode bound** i.e. que l'interpréteur Python va automatiquement passer à cette méthode comme premier argument, l'instance qu'il l'appelle.\n",
    "\n",
    "On va présenter deux solutions pour résoudre ce problème, les méthodes statiques et les méthodes de classes.\n",
    "\n",
    "On va essayer de compter le nombre d'instance qui ont été créées par une classe"
   ]
  },
  {
   "cell_type": "code",
   "execution_count": 1,
   "metadata": {},
   "outputs": [],
   "source": [
    "class Phrase:\n",
    "    nb_i = 0\n",
    "    def __init__(self):\n",
    "        Phrase.nb_i += 1"
   ]
  },
  {
   "cell_type": "code",
   "execution_count": 2,
   "metadata": {},
   "outputs": [
    {
     "data": {
      "text/plain": [
       "<__main__.Phrase at 0x1fe5db10940>"
      ]
     },
     "execution_count": 2,
     "metadata": {},
     "output_type": "execute_result"
    }
   ],
   "source": [
    "Phrase()\n",
    "Phrase()"
   ]
  },
  {
   "cell_type": "code",
   "execution_count": 3,
   "metadata": {},
   "outputs": [
    {
     "data": {
      "text/plain": [
       "2"
      ]
     },
     "execution_count": 3,
     "metadata": {},
     "output_type": "execute_result"
    }
   ],
   "source": [
    "# le compteur d'instance est bien a deux, mais on voudrait plutot une methode plutot qu'une variable pour compter\n",
    "Phrase.nb_i"
   ]
  },
  {
   "cell_type": "code",
   "execution_count": 4,
   "metadata": {},
   "outputs": [],
   "source": [
    "class Phrase:\n",
    "    nb_i = 0\n",
    "    def __init__(self):\n",
    "        Phrase.nb_i += 1\n",
    "    # on peut noter qu'on ne met pas self, Pyton ne va donc pas lui passer l'instance comme premier argument\n",
    "    def num():\n",
    "        return Phrase.nb_i"
   ]
  },
  {
   "cell_type": "code",
   "execution_count": 5,
   "metadata": {},
   "outputs": [
    {
     "data": {
      "text/plain": [
       "2"
      ]
     },
     "execution_count": 5,
     "metadata": {},
     "output_type": "execute_result"
    }
   ],
   "source": [
    "Phrase()\n",
    "Phrase()\n",
    "\n",
    "Phrase.num()"
   ]
  },
  {
   "cell_type": "code",
   "execution_count": 6,
   "metadata": {},
   "outputs": [
    {
     "data": {
      "text/plain": [
       "<function __main__.Phrase.num>"
      ]
     },
     "execution_count": 6,
     "metadata": {},
     "output_type": "execute_result"
    }
   ],
   "source": [
    "# On voit bien qu'on a une fonction classique\n",
    "Phrase.num"
   ]
  },
  {
   "cell_type": "code",
   "execution_count": 7,
   "metadata": {},
   "outputs": [
    {
     "ename": "TypeError",
     "evalue": "num() takes 0 positional arguments but 1 was given",
     "output_type": "error",
     "traceback": [
      "\u001b[1;31m---------------------------------------------------------------------------\u001b[0m",
      "\u001b[1;31mTypeError\u001b[0m                                 Traceback (most recent call last)",
      "\u001b[1;32m<ipython-input-7-fc698ca8af85>\u001b[0m in \u001b[0;36m<module>\u001b[1;34m()\u001b[0m\n\u001b[0;32m      1\u001b[0m \u001b[0mp\u001b[0m \u001b[1;33m=\u001b[0m \u001b[0mPhrase\u001b[0m\u001b[1;33m(\u001b[0m\u001b[1;33m)\u001b[0m\u001b[1;33m\u001b[0m\u001b[0m\n\u001b[1;32m----> 2\u001b[1;33m \u001b[0mp\u001b[0m\u001b[1;33m.\u001b[0m\u001b[0mnum\u001b[0m\u001b[1;33m(\u001b[0m\u001b[1;33m)\u001b[0m\u001b[1;33m\u001b[0m\u001b[0m\n\u001b[0m",
      "\u001b[1;31mTypeError\u001b[0m: num() takes 0 positional arguments but 1 was given"
     ]
    }
   ],
   "source": [
    "# On va avoir une exception car une methode appele sur une instance, est une methode bound, donc Python va lui passer  \n",
    "# obligatoirement le premier argument\n",
    "p = Phrase()\n",
    "p.num()"
   ]
  },
  {
   "cell_type": "markdown",
   "metadata": {},
   "source": [
    "Ce qu'on voudrait c'est de pouvoir appeler la fonction indiferement depuis l'instance ou la classe, pour ca on utiliser les decorateurs, cette notation, @staticmetod, permet de transformer une methode en methode statique.\n",
    "\n",
    "Une methode statique c'est une methode qu'on peut appeler indiferement de l'instance ou de la classe, a chaque fois qu'on l'appelera ce sera une fonction classique, elle ne sera plus une fonction bound"
   ]
  },
  {
   "cell_type": "code",
   "execution_count": 8,
   "metadata": {},
   "outputs": [],
   "source": [
    "class Phrase:\n",
    "    nb_i = 0\n",
    "    def __init__(self):\n",
    "        Phrase.nb_i += 1\n",
    "   \n",
    "    @staticmethod\n",
    "    def num():\n",
    "        return Phrase.nb_i"
   ]
  },
  {
   "cell_type": "code",
   "execution_count": 10,
   "metadata": {},
   "outputs": [
    {
     "data": {
      "text/plain": [
       "2"
      ]
     },
     "execution_count": 10,
     "metadata": {},
     "output_type": "execute_result"
    }
   ],
   "source": [
    "p = Phrase()\n",
    "Phrase.num()\n",
    "p.num()"
   ]
  },
  {
   "cell_type": "code",
   "execution_count": null,
   "metadata": {},
   "outputs": [],
   "source": []
  },
  {
   "cell_type": "code",
   "execution_count": 11,
   "metadata": {},
   "outputs": [],
   "source": [
    "class PhraseSansCasse(Phrase):\n",
    "    pass"
   ]
  },
  {
   "cell_type": "code",
   "execution_count": 12,
   "metadata": {},
   "outputs": [
    {
     "data": {
      "text/plain": [
       "3"
      ]
     },
     "execution_count": 12,
     "metadata": {},
     "output_type": "execute_result"
    }
   ],
   "source": [
    "p = Phrase()\n",
    "Phrase.num()"
   ]
  },
  {
   "cell_type": "code",
   "execution_count": 13,
   "metadata": {},
   "outputs": [
    {
     "data": {
      "text/plain": [
       "3"
      ]
     },
     "execution_count": 13,
     "metadata": {},
     "output_type": "execute_result"
    }
   ],
   "source": [
    "# on peut appeler la methode statique a partir d'une sous classe\n",
    "PhraseSansCasse.num()"
   ]
  },
  {
   "cell_type": "code",
   "execution_count": 14,
   "metadata": {},
   "outputs": [],
   "source": [
    "# on va surcharger la methode num \n",
    "class PhraseSansCasse(Phrase):\n",
    "    @staticmethod\n",
    "    def num():\n",
    "        return f\"PhraseSansCasse {Phrase.nb_i}\""
   ]
  },
  {
   "cell_type": "code",
   "execution_count": 15,
   "metadata": {},
   "outputs": [
    {
     "data": {
      "text/plain": [
       "4"
      ]
     },
     "execution_count": 15,
     "metadata": {},
     "output_type": "execute_result"
    }
   ],
   "source": [
    "p = Phrase()\n",
    "Phrase.num()"
   ]
  },
  {
   "cell_type": "code",
   "execution_count": 16,
   "metadata": {},
   "outputs": [
    {
     "data": {
      "text/plain": [
       "'PhraseSansCasse 4'"
      ]
     },
     "execution_count": 16,
     "metadata": {},
     "output_type": "execute_result"
    }
   ],
   "source": [
    "PhraseSansCasse.num()"
   ]
  },
  {
   "cell_type": "markdown",
   "metadata": {},
   "source": [
    "On peut de plus, si on veut compter de facon separes entre les deux classe rajouter un nouveau compteur"
   ]
  },
  {
   "cell_type": "code",
   "execution_count": null,
   "metadata": {},
   "outputs": [],
   "source": [
    "# on va surcharger la methode num \n",
    "class PhraseSansCasse(Phrase):\n",
    "    nb_i = 0\n",
    "    def __init__(self):\n",
    "        PhraseSansCasse.nb_i += 1\n",
    "        \n",
    "    @staticmethod\n",
    "    def num():\n",
    "        return f\"PhraseSansCasse {Phrase.nb_i}\""
   ]
  },
  {
   "cell_type": "markdown",
   "metadata": {},
   "source": [
    "Cependant, la situation n'est toujours pas satisfaisante, lorsqu'on va appeler la methode num(), a aucun moment, on va etre capable de lui dire de quel classe on l'appelle, il faudrait pouvoir passer l'objet class qui appelle la methode num() et ca c'est les methodes de classe, cette methode, va creer une methode bound, qui cette fois ne sera pas lies a l'instance mais a la classe qui l'appelle"
   ]
  },
  {
   "cell_type": "code",
   "execution_count": 17,
   "metadata": {},
   "outputs": [],
   "source": [
    "class Phrase:\n",
    "    nb_i = 0\n",
    "    def __init__(self):\n",
    "        Phrase.nb_i += 1\n",
    "   \n",
    "    @classmethod\n",
    "    # cls = classe\n",
    "    def num(cls):\n",
    "        return cls.nb_i\n",
    "\n",
    "# on va surcharger la methode num \n",
    "class PhraseSansCasse(Phrase):\n",
    "    nb_i = 0\n",
    "    def __init__(self):\n",
    "        PhraseSansCasse.nb_i += 1\n",
    "        \n",
    "    @classmethod\n",
    "    def num(cls):\n",
    "        return f\"PhraseSansCasse {cls.nb_i}\""
   ]
  },
  {
   "cell_type": "code",
   "execution_count": 18,
   "metadata": {},
   "outputs": [
    {
     "data": {
      "text/plain": [
       "<__main__.Phrase at 0x1fe5dbd1518>"
      ]
     },
     "execution_count": 18,
     "metadata": {},
     "output_type": "execute_result"
    }
   ],
   "source": [
    "p = Phrase()\n",
    "Phrase()"
   ]
  },
  {
   "cell_type": "code",
   "execution_count": 19,
   "metadata": {},
   "outputs": [],
   "source": [
    "p_no = PhraseSansCasse()"
   ]
  },
  {
   "cell_type": "code",
   "execution_count": 20,
   "metadata": {},
   "outputs": [
    {
     "data": {
      "text/plain": [
       "2"
      ]
     },
     "execution_count": 20,
     "metadata": {},
     "output_type": "execute_result"
    }
   ],
   "source": [
    "p.num()"
   ]
  },
  {
   "cell_type": "code",
   "execution_count": 21,
   "metadata": {},
   "outputs": [
    {
     "data": {
      "text/plain": [
       "2"
      ]
     },
     "execution_count": 21,
     "metadata": {},
     "output_type": "execute_result"
    }
   ],
   "source": [
    "Phrase.num()"
   ]
  },
  {
   "cell_type": "code",
   "execution_count": 22,
   "metadata": {},
   "outputs": [
    {
     "data": {
      "text/plain": [
       "<bound method Phrase.num of <class '__main__.Phrase'>>"
      ]
     },
     "execution_count": 22,
     "metadata": {},
     "output_type": "execute_result"
    }
   ],
   "source": [
    "# on verifie qu'on a bien des methodes bounds\n",
    "Phrase.num"
   ]
  },
  {
   "cell_type": "code",
   "execution_count": 23,
   "metadata": {},
   "outputs": [
    {
     "data": {
      "text/plain": [
       "<bound method Phrase.num of <class '__main__.Phrase'>>"
      ]
     },
     "execution_count": 23,
     "metadata": {},
     "output_type": "execute_result"
    }
   ],
   "source": [
    "p.num"
   ]
  },
  {
   "cell_type": "code",
   "execution_count": 25,
   "metadata": {},
   "outputs": [
    {
     "data": {
      "text/plain": [
       "'PhraseSansCasse 1'"
      ]
     },
     "execution_count": 25,
     "metadata": {},
     "output_type": "execute_result"
    }
   ],
   "source": [
    "p_no.num()"
   ]
  },
  {
   "cell_type": "code",
   "execution_count": 26,
   "metadata": {},
   "outputs": [
    {
     "data": {
      "text/plain": [
       "'PhraseSansCasse 1'"
      ]
     },
     "execution_count": 26,
     "metadata": {},
     "output_type": "execute_result"
    }
   ],
   "source": [
    "# on voit qu'on a toujours le bon compteur qui est appele\n",
    "PhraseSansCasse.num()"
   ]
  },
  {
   "cell_type": "code",
   "execution_count": null,
   "metadata": {},
   "outputs": [],
   "source": []
  }
 ],
 "metadata": {
  "kernelspec": {
   "display_name": "Python 3",
   "language": "python",
   "name": "python3"
  },
  "language_info": {
   "codemirror_mode": {
    "name": "ipython",
    "version": 3
   },
   "file_extension": ".py",
   "mimetype": "text/x-python",
   "name": "python",
   "nbconvert_exporter": "python",
   "pygments_lexer": "ipython3",
   "version": "3.7.0"
  }
 },
 "nbformat": 4,
 "nbformat_minor": 2
}
