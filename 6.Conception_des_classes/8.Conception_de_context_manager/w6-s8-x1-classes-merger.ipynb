{
 "cells": [
  {
   "cell_type": "markdown",
   "metadata": {},
   "source": [
    "<style>div.title-slide {    width: 100%;    display: flex;    flex-direction: row;            /* default value; can be omitted */    flex-wrap: nowrap;              /* default value; can be omitted */    justify-content: space-between;}</style><div class=\"title-slide\">\n",
    "<span style=\"float:left;\">Licence CC BY-NC-ND</span>\n",
    "<span>Thierry Parmentelat &amp; Arnaud Legout</span>\n",
    "<span><img src=\"media/both-logos-small-alpha.png\" style=\"display:inline\" /></span>\n",
    "</div>"
   ]
  },
  {
   "cell_type": "markdown",
   "metadata": {},
   "source": [
    "# Exercice sur l'utilisation des classes"
   ]
  },
  {
   "cell_type": "markdown",
   "metadata": {},
   "source": [
    "### Introduction"
   ]
  },
  {
   "cell_type": "markdown",
   "metadata": {},
   "source": [
    "##### Objectifs de l'exercice"
   ]
  },
  {
   "cell_type": "markdown",
   "metadata": {},
   "source": [
    "Maintenant que vous avez un bagage qui couvre toutes les bases du langage, cette semaine nous ne ferons qu'un seul exercice de taille un peu plus réaliste. Vous devez écrire quelques classes, que vous intégrez ensuite dans un code écrit pas nos soins. \n",
    "\n",
    "L'exercice comporte donc à la fois une part lecture et une part écriture. \n",
    "\n",
    "Par ailleurs, cette fois-ci l'exercice n'est plus à faire dans un notebook ; vous êtes donc également incités à améliorer autant que possible l'environnement de travail sur votre propre ordinateur."
   ]
  },
  {
   "cell_type": "markdown",
   "metadata": {},
   "source": [
    "##### Objectifs de l'application"
   ]
  },
  {
   "cell_type": "markdown",
   "metadata": {},
   "source": [
    "Dans le prolongement des exercices de la semaine 3 sur les données maritimes, l'application dont il est question ici fait principalement ceci :\n",
    "\n",
    "* en entrée :\n",
    "  * agréger des données obtenues auprès de marinetraffic ;\n",
    "* et produire en sortie :\n",
    "  * un fichier texte qui liste par ordre alphabétique les bateaux concernés, et le nombre de positions trouvées pour chacun ;\n",
    "  * et un fichier KML, pour exposer les trajectoires trouvées à Google Earth, Google Maps ou autre outil similaire.\n",
    "   \n",
    "Les données générées dans ces deux fichiers sont triées dans l'ordre alphabétique, de façon à permettre une comparaison des résultats sous forme textuelle. Plus précisément, on trie les bateaux selon le critère suivant :\n",
    "\n",
    " * ordre alphabétique sur le nom des bateaux ;\n",
    " * et ordre sur les `id` en cas d'ex-aequo (il y a des bateaux homonymes dans cet échantillon réel)."
   ]
  },
  {
   "cell_type": "markdown",
   "metadata": {},
   "source": [
    "Voici à quoi ressemble le fichier KML obtenu avec les données que nous fournissons, une fois ouvert sous Google Earth :\n",
    "\n",
    "<img src=\"media/ships-in-earth.png\">"
   ]
  },
  {
   "cell_type": "markdown",
   "metadata": {},
   "source": [
    "##### Choix d'implémentation"
   ]
  },
  {
   "cell_type": "markdown",
   "metadata": {},
   "source": [
    "En particulier, dans cet exercice nous allons voir comment on peut gérer des données sous forme d'instances de classes plutôt que de types de base. Cela résonne avec la discussion commencée en Semaine 3, Séquence \"Les dictionnaires\", dans le complément \"record-et-dictionnaire\". \n",
    "\n",
    "Dans les exercices de cette semaine-là nous avions uniquement utilisé des types \"standard\" comme listes, tuples et dictionnaires pour modéliser les données, cette semaine nous allons faire le choix inverse et utiliser plus souvent des (instances de) classes."
   ]
  },
  {
   "cell_type": "markdown",
   "metadata": {},
   "source": [
    "##### Principe de l'exercice"
   ]
  },
  {
   "cell_type": "markdown",
   "metadata": {},
   "source": [
    "On a écrit une application complète, constituée de 4 modules ; on vous donne le code de trois de ces modules et vous devez écrire le module manquant. "
   ]
  },
  {
   "cell_type": "markdown",
   "metadata": {},
   "source": [
    "##### Correction"
   ]
  },
  {
   "cell_type": "markdown",
   "metadata": {},
   "source": [
    "Tout d'abord nous fournissons un jeu de données d'entrées. De plus, l'application vient avec son propre système de vérification, qui est très rustique. Il consiste à comparer, une fois les sorties produites, leur contenu avec les sorties de référence, qui ont été obtenues avec notre version de l'application. \n",
    "\n",
    "Du coup, le fait de disposer de Google Earth sur votre ordinateur n'est pas strictement nécessaire, on ne s'en sert pas à proprement parler pour l'exercice. "
   ]
  },
  {
   "cell_type": "markdown",
   "metadata": {},
   "source": [
    "***"
   ]
  },
  {
   "cell_type": "markdown",
   "metadata": {},
   "source": [
    "### Mise en place"
   ]
  },
  {
   "cell_type": "markdown",
   "metadata": {},
   "source": [
    "##### Partez d'un répertoire vierge"
   ]
  },
  {
   "cell_type": "markdown",
   "metadata": {},
   "source": [
    "Pour commencer, créez-vous un répertoire pour travailler à cet exercice."
   ]
  },
  {
   "cell_type": "markdown",
   "metadata": {},
   "source": [
    "##### Les données"
   ]
  },
  {
   "cell_type": "markdown",
   "metadata": {},
   "source": [
    "Commencez par y installer les données que nous publions dans les formats suivants :\n",
    "\n",
    "* au format [tar](data/ships-json.tar)\n",
    "* au format [tar compressé](data/ships-json.tgz)\n",
    "* au format [zip](data/ships-json.zip)\n",
    "\n",
    "Une fois installées, ces données doivent se trouver dans un sous-répertoire `json/` qui contient 133 fichiers `*.json` :\n",
    "\n",
    "* `json/2013-10-01-00-00--t=10--ext.json`\n",
    "* `...`\n",
    "* `json/2013-10-01-23-50--t=10.json`"
   ]
  },
  {
   "cell_type": "markdown",
   "metadata": {},
   "source": [
    "Comme vous pouvez le deviner, il s'agit de données sur le mouvement des bateaux dans la zone en date du 10 Octobre 2013 ; et comme vous le devinez également, on a quelques exemplaires de données étendues, mais dans la plupart des cas il s'agit de données abrégées."
   ]
  },
  {
   "cell_type": "markdown",
   "metadata": {},
   "source": [
    "##### Les résultats de référence"
   ]
  },
  {
   "cell_type": "markdown",
   "metadata": {},
   "source": [
    "De même il vous faut installer les résultats de référence que vous trouvez ici :\n",
    "\n",
    "* au format [tar](data/ships-ref.tar)\n",
    "* au format [tar compressé (tgz)](data/ships-ref.tgz)\n",
    "* au format [zip](data/ships-ref.zip)\n",
    "\n",
    "Quel que soit le format choisi, une fois installé ceci doit vous donner trois fichiers :\n",
    "\n",
    "* `ALL_SHIPS.kml.ref`\n",
    "* `ALL_SHIPS.txt.ref`\n",
    "* `ALL_SHIPS-v.txt.ref`"
   ]
  },
  {
   "cell_type": "markdown",
   "metadata": {},
   "source": [
    "##### Le code"
   ]
  },
  {
   "cell_type": "markdown",
   "metadata": {},
   "source": [
    "Vous pouvez à présent aller chercher les 3 modules suivants :\n",
    "\n",
    "* [`merger.py`](data/merger.py)\n",
    "* [`compare.py`](data/compare.py)\n",
    "* [`kml.py`](data/kml.py)\n",
    " \n",
    "et les sauver dans le même répertoire.\n",
    "\n",
    "Vous remarquerez que le code est cette fois entièrement rédigé en anglais, ce que nous vous conseillons de faire aussi souvent que possible.\n",
    "\n",
    "Votre but dans cet exercice est d'écrire le module manquant `shipdict.py` qui permettra à l'application de fonctionner comme attendu."
   ]
  },
  {
   "cell_type": "markdown",
   "metadata": {},
   "source": [
    "***"
   ]
  },
  {
   "cell_type": "markdown",
   "metadata": {},
   "source": [
    "### Fonctionnement de l'application"
   ]
  },
  {
   "cell_type": "markdown",
   "metadata": {},
   "source": [
    "##### Comment est structurée l'application"
   ]
  },
  {
   "cell_type": "markdown",
   "metadata": {},
   "source": [
    "Le point d'entrée s'appelle `merger.py`\n",
    "\n",
    "Il utilise trois modules annexes, qui sont :\n",
    "\n",
    "* `shipdict.py`, qui implémente les classes\n",
    "  * `Position` qui contient une latitude, une longitude, et un timestamp\n",
    "  * `Ship` qui modélise un bateau à partir de son `id` et optionnellement  `name` et `country`\n",
    "  * `ShipDict`, qui maintient un index des bateaux (essentiellement un dictionnaire)\n",
    "\n",
    "* `compare.py` qui implémente\n",
    "  * la classe `Compare` qui se charge de comparer les fichiers résultat avec leur version de référence\n",
    "\n",
    "* `kml.py` qui implémente\n",
    "  * la classe `KML` dans laquelle sont concentrées les fonctions liées à la génération de KML ; c'est notamment en fonction de nos objectifs pédagogiques que ce choix a été fait."
   ]
  },
  {
   "cell_type": "markdown",
   "metadata": {},
   "source": [
    "##### Lancement"
   ]
  },
  {
   "cell_type": "markdown",
   "metadata": {},
   "source": [
    "Lorsque le programme est complet et qu'il fonctionne correctement, on le lance comme ceci :\n",
    "\n",
    "```bash\n",
    "$ python3 merger.py json/*\n",
    "Opening ALL_SHIPS.txt for listing all named ships\n",
    "Opening ALL_SHIPS.kml for ship ALL_SHIPS\n",
    "Comparing ALL_SHIPS.txt and ALL_SHIPS.txt.ref -> OK\n",
    "Comparing ALL_SHIPS.kml and ALL_SHIPS.kml.ref -> OK\n",
    "```    \n",
    "\n",
    "qui comme on le voit produit :\n",
    "\n",
    "* `ALL_SHIPS.txt` qui résume, par ordre alphabétique les bateaux qu'on a trouvés et le nombre de positions pour chacun, et \n",
    "* `ALL_SHIPS.kml` qui est le fichier au format `KML` qui contient toutes les trajectoires."
   ]
  },
  {
   "cell_type": "markdown",
   "metadata": {},
   "source": [
    "##### Mode bavard (verbose)"
   ]
  },
  {
   "cell_type": "markdown",
   "metadata": {},
   "source": [
    "On peut également lancer l'application avec l'option `--verbose` ou simplement `-v` sur la ligne de commande, ce qui donne un résultat plus détaillé. Le code KML généré reste inchangé, mais la sortie sur le terminal et le fichier de résumé sont plus étoffés :\n",
    "\n",
    "```python\n",
    "$ python3 merger.py --verbose json/*.json\n",
    "Opening json/2013-10-01-00-00--t=10--ext.json for parsing JSON\n",
    "Opening json/2013-10-01-00-10--t=10.json for parsing JSON\n",
    "...\n",
    "Opening json/2013-10-01-23-40--t=10.json for parsing JSON\n",
    "Opening json/2013-10-01-23-50--t=10.json for parsing JSON\n",
    "Opening ALL_SHIPS-v.txt for listing all named ships\n",
    "Opening ALL_SHIPS.kml for ship ALL_SHIPS\n",
    "Comparing ALL_SHIPS-v.txt and ALL_SHIPS-v.txt.ref -> OK\n",
    "Comparing ALL_SHIPS.kml and ALL_SHIPS.kml.ref -> OK\n",
    "```\n",
    "\n",
    "À noter que dans le mode bavard toutes les positions sont listées dans le résumé au format texte, ce qui le rend beaucoup plus bavard comme vous pouvez le voir en inspectant la taille des deux fichiers de référence :\n",
    "\n",
    "```python\n",
    "$ ls -l ALL_SHIPS*txt.ref v2.0\n",
    "-rw-r--r--  1 parmentelat  staff  1438681 Dec  4 16:20 ALL_SHIPS-v.txt.ref\n",
    "-rw-r--r--  1 parmentelat  staff    15331 Dec  4 16:20 ALL_SHIPS.txt.ref\n",
    "-rw-r--r--  1 parmentelat  staff        0 Dec  4 16:21 v2.0\n",
    "```"
   ]
  },
  {
   "cell_type": "markdown",
   "metadata": {},
   "source": [
    "##### `merger.py --help`"
   ]
  },
  {
   "cell_type": "markdown",
   "metadata": {},
   "source": [
    "```bash\n",
    "$ merger.py --help\n",
    "usage: merger.py [-h] [-v] [-s SHIP_NAME] [-z] [inputs [inputs ...]]\n",
    "\n",
    "positional arguments:\n",
    "  inputs\n",
    "    \n",
    "optional arguments:\n",
    "  -h, --help            show this help message and exit\n",
    "  -v, --verbose         Verbose mode\n",
    "  -s SHIP_NAME, --ship SHIP_NAME\n",
    "                        Restrict to ships by that name\n",
    "  -z, --gzip            Store kml output in gzip (KMZ) format\n",
    "```"
   ]
  },
  {
   "cell_type": "markdown",
   "metadata": {},
   "source": [
    "##### Un mot sur les données"
   ]
  },
  {
   "cell_type": "markdown",
   "metadata": {},
   "source": [
    "**Attention**, le contenu détaillé des champs `extended` et `abbreviated` peut être légèrement différent de ce qu'on avait pour les exercices de la semaine 3, dans lesquels certaines simplifications ont été apportées.\n",
    "\n",
    "Voici ce avec quoi on travaille cette fois-ci :\n",
    "\n",
    "```python\n",
    ">>> extended[0]\n",
    "[228317000, 48.76829, -4.334262, 75, 333, u'2013-09-30T21:54:00', u'MA GONDOLE', 30, 0, u'FGSA', u'FR', u'', u'', u'', u'CLASS B', u'', 13, 3, 0, u'', u'', u'']\n",
    "```\n",
    "\n",
    "c'est-à-dire :\n",
    "\n",
    "```python\n",
    "[ id, latitude, longitude, _, _, timestamp, name, _, _, _, country, ...]\n",
    "```\n",
    "\n",
    "et en ce qui concerne les données abrégées :\n",
    "\n",
    "```python\n",
    ">>> abbreviated[0]\n",
    "[232005670, 49.39331, -5.939922, 33, 269, 3, u'2013-10-01T06:08:00']\n",
    "```\n",
    "\n",
    "c'est-à-dire :\n",
    "\n",
    "```python\n",
    "[ id, latitude, longitude, _, _, _, timestamp]\n",
    "```"
   ]
  },
  {
   "cell_type": "markdown",
   "metadata": {},
   "source": [
    "Il y a unicité des `id` bien entendu (deux relevés qui portent le même `id` concernent le même bateau). \n",
    "\n",
    "**Note historique** Dans une première version de cet exercice, on avait laissé des doublons, c'est-à-dire des bateaux différents mais de même nom. Afin de rendre l'exercice plus facile à corriger (notamment parce que la comparaison des résultats repose sur l'ordre alphabétique), dans la présente version ces doublons ont été enlevés. Sachez toutefois que cette unicité est artificielle, aussi efforcez-vous de ne pas écrire de code qui reposerait sur cette hypothèse."
   ]
  },
  {
   "cell_type": "markdown",
   "metadata": {},
   "source": [
    "***"
   ]
  },
  {
   "cell_type": "markdown",
   "metadata": {},
   "source": [
    "***"
   ]
  },
  {
   "cell_type": "markdown",
   "metadata": {},
   "source": [
    "## Niveaux pour l'exercice"
   ]
  },
  {
   "cell_type": "markdown",
   "metadata": {},
   "source": [
    "Quel que soit le niveau auquel vous choisissez de faire l'exercice, nous vous conseillons de commencer par lire intégralement les 3 modules qui sont à votre disposition, dans l'ordre :\n",
    "\n",
    "* `merger.py` qui est le chef d'orchestre de toute cette affaire ;\n",
    "* `compare.py` qui est très simple ;\n",
    "* `kml.py` qui ne présente pas grand intérêt en soi si ce n'est pour l'utilisation de [la classe `string.Template`](https://docs.python.org/3/library/string.html#template-strings) qui peut être utile dans d'autres contextes également."
   ]
  },
  {
   "cell_type": "markdown",
   "metadata": {},
   "source": [
    "****"
   ]
  },
  {
   "cell_type": "markdown",
   "metadata": {},
   "source": [
    "En **niveau avancé**, l'énoncé pourrait s'arrêter là ; vous lisez le code qui est fourni et vous en déduisez ce qui manque pour faire fonctionner le tout. En cas de difficulté liée aux arrondis avec le mode bavard, vous pouvez toutefois vous inspirer du code qui est donné dans la toute dernière section de cet énoncé (section \"Un dernier indice\"), pour traduire un flottant en représentation textuelle."
   ]
  },
  {
   "cell_type": "markdown",
   "metadata": {},
   "source": [
    "Vous pouvez considérer que vous avez achevé l'exercice lorsque les deux appels suivants affichent les deux dernières lignes avec OK :\n",
    "\n",
    "```python\n",
    "$ python3 merger.py json/*.json\n",
    "...\n",
    "Comparing ALL_SHIPS.txt and ALL_SHIPS.txt.ref -> OK\n",
    "Comparing ALL_SHIPS.kml and ALL_SHIPS.kml.ref -> OK\n",
    "```\n",
    "\n",
    "```\n",
    "$ python3 merger.py -v json/*.json\n",
    "...\n",
    "Comparing ALL_SHIPS-v.txt and ALL_SHIPS-v.txt.ref -> OK\n",
    "Comparing ALL_SHIPS.kml and ALL_SHIPS.kml.ref -> OK\n",
    "```"
   ]
  },
  {
   "cell_type": "markdown",
   "metadata": {},
   "source": [
    "Le cas où on lance `merger.py` avec l'option bavarde est facultatif. "
   ]
  },
  {
   "cell_type": "markdown",
   "metadata": {},
   "source": [
    "***"
   ]
  },
  {
   "cell_type": "markdown",
   "metadata": {},
   "source": [
    "En **niveau intermédiaire**, nous vous donnons ci-dessous un extrait de ce que donne `help` sur les classes manquantes de manière à vous donner une indication de ce que vous devez écrire."
   ]
  },
  {
   "cell_type": "markdown",
   "metadata": {},
   "source": [
    "##### Classe `Position`"
   ]
  },
  {
   "cell_type": "markdown",
   "metadata": {},
   "source": [
    "```python\n",
    "    Help on class Position in module shipdict:\n",
    "    \n",
    "    class Position(__builtin__.object)\n",
    "     |  a position atom with timestamp attached\n",
    "     |  \n",
    "     |  Methods defined here:\n",
    "     |  \n",
    "     |  __init__(self, latitude, longitude, timestamp)\n",
    "     |      constructor\n",
    "     |  \n",
    "     |  __repr__(self)\n",
    "     |      only used when merger.py is run in verbose mode\n",
    "     |  \n",
    "```"
   ]
  },
  {
   "cell_type": "markdown",
   "metadata": {},
   "source": [
    "**Notes**\n",
    "\n",
    " * certaines autres classes comme `KML` sont également susceptibles d'accéder aux champs internes d'une instance de la classe `Position` en faisant simplement `position.latitude`\n",
    " * La classe `Position` redéfinit `__repr__`, ceci est utilisé uniquement dans la sortie en mode bavard.\n"
   ]
  },
  {
   "cell_type": "markdown",
   "metadata": {},
   "source": [
    "##### Classe `Ship`"
   ]
  },
  {
   "cell_type": "markdown",
   "metadata": {},
   "source": [
    "```python\n",
    "    Help on class Ship in module shipdict:\n",
    "    \n",
    "    class Ship(__builtin__.object)\n",
    "     |  a ship object, that requires a ship id, \n",
    "     |  and optionally a ship name and country\n",
    "     |  which can also be set later on\n",
    "     |  \n",
    "     |  this object also manages a list of known positions\n",
    "     |  \n",
    "     |  Methods defined here:\n",
    "     |  \n",
    "     |  __init__(self, id, name=None, country=None)\n",
    "     |      constructor\n",
    "     |  \n",
    "     |  add_position(self, position)\n",
    "     |      insert a position relating to this ship\n",
    "     |      positions are not kept in order so you need \n",
    "     |      to call `sort_positions` once you're done\n",
    "     |  \n",
    "     |  sort_positions(self)\n",
    "     |      sort list of positions by chronological order\n",
    "```"
   ]
  },
  {
   "cell_type": "markdown",
   "metadata": {},
   "source": [
    "##### Classe `Shipdict`"
   ]
  },
  {
   "cell_type": "markdown",
   "metadata": {},
   "source": [
    "```python\n",
    "    Help on class ShipDict in module shipdict:\n",
    "    \n",
    "    class ShipDict(__builtin__.dict)\n",
    "     |  a repository for storing all ships that we know about\n",
    "     |  indexed by their id\n",
    "     |  \n",
    "     |  Method resolution order:\n",
    "     |      ShipDict\n",
    "     |      __builtin__.dict\n",
    "     |      __builtin__.object\n",
    "     |  \n",
    "     |  Methods defined here:\n",
    "     |  \n",
    "     |  __init__(self)\n",
    "     |      constructor\n",
    "     |  \n",
    "     |  __repr__(self)\n",
    "     |  \n",
    "     |  add_abbreviated(self, chunk)\n",
    "     |      adds an abbreviated data chunk to the repository\n",
    "     |  \n",
    "     |  add_chunk(self, chunk)\n",
    "     |      chunk is a plain list coming from the JSON data\n",
    "     |      and be either extended or abbreviated\n",
    "     |      \n",
    "     |      based on the result of is_abbreviated(), \n",
    "     |      gets sent to add_extended or add_abbreviated\n",
    "     |  \n",
    "     |  add_extended(self, chunk)\n",
    "     |      adds an extended data chunk to the repository\n",
    "     |  \n",
    "     |  all_ships(self)\n",
    "     |      returns a list of all ships known to us\n",
    "     |  \n",
    "     |  clean_unnamed(self)\n",
    "     |      Because we enter abbreviated and extended data\n",
    "     |      in no particular order, and for any time period,\n",
    "     |      we might have ship instances with no name attached\n",
    "     |      This method removes such entries from the dict\n",
    "     |  \n",
    "     |  is_abbreviated(self, chunk)\n",
    "     |      depending on the size of the incoming data chunk, \n",
    "     |      guess if it is an abbreviated or extended data\n",
    "     |  \n",
    "     |  ships_by_name(self, name)\n",
    "     |      returns a list of all known ships with name <name>\n",
    "     |  \n",
    "     |  sort(self)\n",
    "     |      makes sure all the ships have their positions\n",
    "     |      sorted in chronological order\n",
    "```"
   ]
  },
  {
   "cell_type": "markdown",
   "metadata": {},
   "source": [
    "##### Un dernier indice"
   ]
  },
  {
   "cell_type": "markdown",
   "metadata": {},
   "source": [
    "Pour éviter de la confusion, voici le code que nous utilisons pour transformer un flottant en coordonnées lisibles dans le résumé généré en mode bavard."
   ]
  },
  {
   "cell_type": "markdown",
   "metadata": {},
   "source": [
    "```python\n",
    "    def d_m_s(f):\n",
    "        \"\"\"\n",
    "        makes a float readable; e.g. transforms 2.5 into 2.30'00'' \n",
    "        we avoid using ° to keep things simple\n",
    "        input is assumed positive\n",
    "        \"\"\"\n",
    "        d = int (f)\n",
    "        m = int((f-d)*60)\n",
    "        s = int( (f-d)*3600 - 60*m)\n",
    "        return f\"{d:02d}.{m:02d}'{s:02d}''\"\n",
    "```"
   ]
  }
 ],
 "metadata": {
  "kernelspec": {
   "display_name": "Python 3",
   "language": "python",
   "name": "python3"
  },
  "language_info": {
   "codemirror_mode": {
    "name": "ipython",
    "version": 3
   },
   "file_extension": ".py",
   "mimetype": "text/x-python",
   "name": "python",
   "nbconvert_exporter": "python",
   "pygments_lexer": "ipython3",
   "version": "3.6.3"
  },
  "livereveal": {
   "auto_select": "code",
   "auto_select_fragment": true,
   "autolaunch": false,
   "backimage": "media/nologo.png",
   "height": "100%",
   "start_slideshow_at": "selected",
   "theme": "simple",
   "transition": "fade",
   "width": "100%"
  },
  "notebookname": "exo. classes",
  "version": "3.0"
 },
 "nbformat": 4,
 "nbformat_minor": 1
}