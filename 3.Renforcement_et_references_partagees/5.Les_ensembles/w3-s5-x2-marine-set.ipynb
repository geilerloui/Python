{
 "cells": [
  {
   "cell_type": "markdown",
   "metadata": {},
   "source": [
    "<style>div.title-slide {    width: 100%;    display: flex;    flex-direction: row;            /* default value; can be omitted */    flex-wrap: nowrap;              /* default value; can be omitted */    justify-content: space-between;}</style><div class=\"title-slide\">\n",
    "<span style=\"float:left;\">Licence CC BY-NC-ND</span>\n",
    "<span>Thierry Parmentelat &amp; Arnaud Legout</span>\n",
    "<span><img src=\"media/both-logos-small-alpha.png\" style=\"display:inline\" /></span>\n",
    "</div>"
   ]
  },
  {
   "cell_type": "markdown",
   "metadata": {},
   "source": [
    "# Exercice sur les ensembles"
   ]
  },
  {
   "cell_type": "markdown",
   "metadata": {},
   "source": [
    "## Exercice - niveau intermédiaire"
   ]
  },
  {
   "cell_type": "code",
   "execution_count": 9,
   "metadata": {},
   "outputs": [],
   "source": [
    "# chargement de l'exercice\n",
    "from corrections.exo_marine_set import exo_diff"
   ]
  },
  {
   "cell_type": "markdown",
   "metadata": {},
   "source": [
    "### Les données"
   ]
  },
  {
   "cell_type": "markdown",
   "metadata": {},
   "source": [
    "Nous reprenons le même genre de données marines en provenance de MarineTraffic que nous avons vues dans l'exercice précédent."
   ]
  },
  {
   "cell_type": "code",
   "execution_count": 10,
   "metadata": {},
   "outputs": [],
   "source": [
    "from corrections.exo_marine_set import abbreviated, extended"
   ]
  },
  {
   "cell_type": "markdown",
   "metadata": {},
   "source": [
    "### Rappels sur les formats"
   ]
  },
  {
   "cell_type": "markdown",
   "metadata": {},
   "source": [
    "    étendu: [id, latitude, longitude, date_heure, nom_bateau, code_pays...]\n",
    "    abrégé: [id, latitude, longitude, date_heure]"
   ]
  },
  {
   "cell_type": "code",
   "execution_count": 11,
   "metadata": {},
   "outputs": [
    {
     "name": "stdout",
     "output_type": "stream",
     "text": [
      "[244309000, 49.628, -3.220167, '2013-10-08T21:50:00', 'ALIDA', 'NL', '', 'SCHEVENINGEN']\n"
     ]
    }
   ],
   "source": [
    "print(extended[0])"
   ]
  },
  {
   "cell_type": "code",
   "execution_count": 12,
   "metadata": {},
   "outputs": [
    {
     "name": "stdout",
     "output_type": "stream",
     "text": [
      "[236111974, 48.89256, -5.30519, '2013-10-08T22:59:00']\n"
     ]
    }
   ],
   "source": [
    "print(abbreviated[0])"
   ]
  },
  {
   "cell_type": "markdown",
   "metadata": {},
   "source": [
    "### But de l'exercice"
   ]
  },
  {
   "cell_type": "code",
   "execution_count": 13,
   "metadata": {},
   "outputs": [],
   "source": [
    "# chargement de l'exercice\n",
    "from corrections.exo_marine_set import exo_diff"
   ]
  },
  {
   "cell_type": "markdown",
   "metadata": {},
   "source": [
    "Notez bien une différence importante avec l'exercice précédent : cette fois **il n'y a plus correspondance** entre les bateaux rapportés dans les données étendues et abrégées.\n",
    "\n",
    "Le but de l'exercice est précisément d'étudier la différence, et pour cela on vous demande d'écrire une fonction\n",
    "\n",
    "```Python\n",
    "    diff(extended, abbreviated)\n",
    "```\n",
    "\n",
    "qui retourne un tuple à trois éléments :\n",
    "\n",
    "* l'ensemble (`set`) des **noms** des bateaux présents dans `extended` mais pas dans `abbreviated` ;\n",
    "* l'ensemble des **noms** des bateaux présents dans `extended` et dans `abbreviated` ;\n",
    "* l'ensemble des **id** des bateaux présents dans `abbreviated` mais pas dans `extended` (par construction, les données ne nous permettent pas d'obtenir les noms de ces bateaux)."
   ]
  },
  {
   "cell_type": "code",
   "execution_count": 14,
   "metadata": {},
   "outputs": [
    {
     "name": "stdout",
     "output_type": "stream",
     "text": [
      "---------- Les entrées\n",
      "Dans extended: 4 entrées\n",
      "Dans abbreviated: 4 entrées\n",
      "---------- Le résultat du diff\n",
      "Dans extended mais pas dans abbreviated 2\n",
      "Dans les deux 2\n",
      "Dans abbreviated mais pas dans extended 2\n"
     ]
    }
   ],
   "source": [
    "# le résultat attendu\n",
    "result = exo_diff.resultat(extended, abbreviated)\n",
    "\n",
    "# combien de bateaux sont concernés\n",
    "def show_result(extended, abbreviated, result):\n",
    "    \"\"\"\n",
    "    Affiche divers décomptes sur les arguments\n",
    "    en entrée et en sortie de diff\n",
    "    \"\"\"\n",
    "    print(10*'-', \"Les entrées\")\n",
    "    print(f\"Dans extended: {len(extended)} entrées\")\n",
    "    print(f\"Dans abbreviated: {len(abbreviated)} entrées\")\n",
    "    print(10*'-', \"Le résultat du diff\")\n",
    "    extended_only, both, abbreviated_only = result\n",
    "    print(f\"Dans extended mais pas dans abbreviated {len(extended_only)}\")\n",
    "    print(f\"Dans les deux {len(both)}\")\n",
    "    print(f\"Dans abbreviated mais pas dans extended {len(abbreviated_only)}\")\n",
    "\n",
    "show_result(extended, abbreviated, result)"
   ]
  },
  {
   "cell_type": "markdown",
   "metadata": {},
   "source": [
    "### Votre code"
   ]
  },
  {
   "cell_type": "code",
   "execution_count": 19,
   "metadata": {},
   "outputs": [],
   "source": [
    "def diff(extended, abbreviated):\n",
    "    \"\"\"Calcule comme demandÃ© dans l'exercice, et sous formes d'ensembles\n",
    "    (*) les noms des bateaux seulement dans extended\n",
    "    (*) les noms des bateaux prÃ©sents dans les deux listes\n",
    "    (*) les ids des bateaux seulement dans abbreviated\n",
    "    \"\"\"\n",
    "\n",
    "    ### on n'utilise que des ensembles dans tous l'exercice\n",
    "\n",
    "    # les ids de tous les bateaux dans extended\n",
    "    # avec ce qu'on a vu jusqu'ici le moyen le plus naturel\n",
    "    # consiste Ã  calculer une comprÃ©hension de liste\n",
    "    # et Ã  la traduire en ensemble comme ceci\n",
    "    extended_ids = set([ship[0] for ship in extended])\n",
    "\n",
    "    # les ids de tous les bateaux dans abbreviated\n",
    "    # je fais exprÃ¨s de ne pas mettre les []\n",
    "    # de la comprÃ©hension de liste, c'est pour vous introduire\n",
    "    # les expressions gÃ©nÃ©ratrices - voir semaine 5\n",
    "    abbreviated_ids = set(ship[0] for ship in abbreviated)\n",
    "\n",
    "    # les ids des bateaux seulement dans abbreviated\n",
    "    # une difference d'ensembles\n",
    "    abbreviated_only_ids = abbreviated_ids - extended_ids\n",
    "\n",
    "    # les ids des bateaux dans les deux listes\n",
    "    # une intersection d'ensembles\n",
    "    both_ids = abbreviated_ids & extended_ids\n",
    "\n",
    "    # les ids des bateaux seulement dans extended\n",
    "    # ditto\n",
    "    extended_only_ids = extended_ids - abbreviated_ids\n",
    "\n",
    "    # pour les deux catÃ©gories oÃ¹ c'est possible\n",
    "    # on recalcule les noms des bateaux\n",
    "    # par une comprÃ©hension d'ensemble\n",
    "    both_names = \\\n",
    "        set([ship[4] for ship in extended if ship[0] in both_ids])\n",
    "    extended_only_names = \\\n",
    "        set([ship[4] for ship in extended if ship[0] in extended_only_ids])\n",
    "    # enfin on retourne les 3 ensembles sous forme d'un tuple\n",
    "    return extended_only_names, both_names, abbreviated_only_ids\n"
   ]
  },
  {
   "cell_type": "markdown",
   "metadata": {},
   "source": [
    "### Validation"
   ]
  },
  {
   "cell_type": "code",
   "execution_count": 20,
   "metadata": {},
   "outputs": [
    {
     "data": {
      "text/html": [
       "<table style='font-family:monospace;font-size:x-small;'><tr style='font-family:monospace;font-size:small;'><th style='text-align: center;'><pre>Appel</pre></th><th style='text-align: center;'><pre>Attendu</pre></th><th style='text-align: center;'><pre>Obtenu</pre></th><th style='text-align: center;'><pre></pre></th></tr><tr style='background-color:#d6e9ce;border-bottom:2px solid gray;'><td><pre><pre>diff(\n",
       "  [ [ 244309000,\n",
       "      49.628,\n",
       "      -3.220167,\n",
       "      '2013-10-08T21:50:00',\n",
       "      'ALIDA',\n",
       "      'NL',\n",
       "      '',\n",
       "      'SCHEVENINGEN'],\n",
       "    [ 232005420,\n",
       "      49.98906,\n",
       "      -3.238962,\n",
       "      '2013-10-08T21:51:00',\n",
       "      'GEESKE',\n",
       "      'UK',\n",
       "      '',\n",
       "      'BRIXHAM'],\n",
       "    [ 236111974,\n",
       "      48.78286,\n",
       "      -5.59124,\n",
       "      '2013-10-08T21:51:00',\n",
       "      'ATLANTIC WIND',\n",
       "      'GI',\n",
       "      '',\n",
       "      'BARCELONA'],\n",
       "    [ 477158700,\n",
       "      49.16,\n",
       "      -4.6235,\n",
       "      '2013-10-08T21:51:00',\n",
       "      'XIN LOS ANGELES',\n",
       "      'HK',\n",
       "      '',\n",
       "      'PORT SAID']],\n",
       "  [ [ 236111974,\n",
       "      48.89256,\n",
       "      -5.30519,\n",
       "      '2013-10-08T22:59:00'],\n",
       "    [ 477158700,\n",
       "      49.3158,\n",
       "      -4.223267,\n",
       "      '2013-10-08T22:56:00'],\n",
       "    [ 227115520,\n",
       "      48.09115,\n",
       "      -4.333058,\n",
       "      '2013-10-08T22:55:00'],\n",
       "    [ 228240900,\n",
       "      47.19841,\n",
       "      -2.723277,\n",
       "      '2013-10-08T22:55:00']])\n",
       "</pre></pre></td><td style='text-align: left;border-left:3px solid gray;'><pre>\n",
       "( {'ALIDA', 'GEESKE'},\n",
       "  { 'ATLANTIC WIND',\n",
       "    'XIN LOS ANGELES'},\n",
       "  {227115520, 228240900})</pre></td><td style='text-align: left;border-left:1px solid gray;'><pre>\n",
       "( {'ALIDA', 'GEESKE'},\n",
       "  { 'ATLANTIC WIND',\n",
       "    'XIN LOS ANGELES'},\n",
       "  {227115520, 228240900})</pre></td><td style='border-left:3px solid gray;'><pre>OK</pre></td></tr></table>"
      ],
      "text/plain": [
       "<IPython.core.display.HTML object>"
      ]
     },
     "execution_count": 20,
     "metadata": {},
     "output_type": "execute_result"
    }
   ],
   "source": [
    "exo_diff.correction(diff, extended, abbreviated)"
   ]
  },
  {
   "cell_type": "markdown",
   "metadata": {},
   "source": [
    "### Des fichiers de données plus réalistes"
   ]
  },
  {
   "cell_type": "markdown",
   "metadata": {},
   "source": [
    "Comme pour l'exercice précédent, les données fournies ici sont très simplistes ; vous pouvez, si vous le voulez, essayer votre code avec des données (un peu) plus réalistes en chargeant des fichiers de données plus complets :\n",
    "\n",
    "* [data/marine-e2-ext.json](data/marine-e2-ext.json)\n",
    "* [data/marine-e2-abb.json](data/marine-e2-abb.json)\n",
    "\n",
    "Ce qui donnerait en Python :"
   ]
  },
  {
   "cell_type": "code",
   "execution_count": 21,
   "metadata": {},
   "outputs": [],
   "source": [
    "# load data from files\n",
    "import json\n",
    "\n",
    "with open(\"data/marine-e2-ext.json\", encoding=\"utf-8\") as feed:\n",
    "    extended_full = json.load(feed)\n",
    "\n",
    "with open(\"data/marine-e2-abb.json\", encoding=\"utf-8\") as feed:\n",
    "    abbreviated_full = json.load(feed)"
   ]
  },
  {
   "cell_type": "code",
   "execution_count": 22,
   "metadata": {},
   "outputs": [
    {
     "name": "stdout",
     "output_type": "stream",
     "text": [
      "---------- Les entrées\n",
      "Dans extended: 205 entrées\n",
      "Dans abbreviated: 200 entrées\n",
      "---------- Le résultat du diff\n",
      "Dans extended mais pas dans abbreviated 70\n",
      "Dans les deux 132\n",
      "Dans abbreviated mais pas dans extended 68\n"
     ]
    }
   ],
   "source": [
    "# le résultat de votre fonction sur des données plus vastes\n",
    "# attention, show_result fait des hypothèses sur le type de votre résultat\n",
    "# aussi si vous essayez d'exécuter ceci avec comme fonction diff\n",
    "# la version vide qui est dans le notebook original\n",
    "# cela peut provoquer une exception\n",
    "diff_full = diff(extended_full, abbreviated_full)\n",
    "show_result(extended_full, abbreviated_full, diff_full)"
   ]
  },
  {
   "cell_type": "markdown",
   "metadata": {},
   "source": [
    "Je signale enfin à propos de ces données plus complètes que :\n",
    "\n",
    "* on a supprimé les entrées correspondant à des bateaux différents mais de même nom ; cette situation peut arriver dans la réalité (c'est pourquoi d'ailleurs les bateaux ont un *id*) mais ici ce n'est pas le cas ;\n",
    "* il se peut par contre qu'un même bateau fasse l'objet de plusieurs mesures dans `extended` et/ou dans `abbreviated`."
   ]
  }
 ],
 "metadata": {
  "kernelspec": {
   "display_name": "Python 3",
   "language": "python",
   "name": "python3"
  },
  "language_info": {
   "codemirror_mode": {
    "name": "ipython",
    "version": 3
   },
   "file_extension": ".py",
   "mimetype": "text/x-python",
   "name": "python",
   "nbconvert_exporter": "python",
   "pygments_lexer": "ipython3",
   "version": "3.6.7"
  },
  "livereveal": {
   "auto_select": "code",
   "auto_select_fragment": true,
   "autolaunch": false,
   "backimage": "media/nologo.png",
   "height": "100%",
   "slideNumber": "c",
   "start_slideshow_at": "selected",
   "theme": "simple",
   "transition": "fade",
   "width": "100%"
  },
  "notebookname": "Ensembles",
  "version": "3.0"
 },
 "nbformat": 4,
 "nbformat_minor": 1
}
