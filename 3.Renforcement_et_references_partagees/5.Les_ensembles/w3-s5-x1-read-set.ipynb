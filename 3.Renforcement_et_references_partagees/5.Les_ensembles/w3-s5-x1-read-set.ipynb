{
 "cells": [
  {
   "cell_type": "markdown",
   "metadata": {},
   "source": [
    "<style>div.title-slide {    width: 100%;    display: flex;    flex-direction: row;            /* default value; can be omitted */    flex-wrap: nowrap;              /* default value; can be omitted */    justify-content: space-between;}</style><div class=\"title-slide\">\n",
    "<span style=\"float:left;\">Licence CC BY-NC-ND</span>\n",
    "<span>Thierry Parmentelat &amp; Arnaud Legout</span>\n",
    "<span><img src=\"media/both-logos-small-alpha.png\" style=\"display:inline\" /></span>\n",
    "</div>"
   ]
  },
  {
   "cell_type": "markdown",
   "metadata": {},
   "source": [
    "# Ensembles"
   ]
  },
  {
   "cell_type": "markdown",
   "metadata": {},
   "source": [
    "## Exercice - niveau basique"
   ]
  },
  {
   "cell_type": "code",
   "execution_count": 4,
   "metadata": {},
   "outputs": [],
   "source": [
    "# charger l'exercice\n",
    "from corrections.exo_read_set import exo_read_set"
   ]
  },
  {
   "cell_type": "markdown",
   "metadata": {},
   "source": [
    "On se propose d'écrire une fonction `read_set` qui construit un ensemble à partir du contenu d'un fichier. Voici par exemple un fichier d'entrée :"
   ]
  },
  {
   "cell_type": "code",
   "execution_count": 5,
   "metadata": {
    "cell_style": "center"
   },
   "outputs": [
    {
     "name": "stdout",
     "output_type": "stream",
     "text": [
      "4615\r\n",
      " 12\r\n",
      " 9228\r\n",
      "6158\r\n",
      "12\r\n"
     ]
    }
   ],
   "source": [
    "!cat data/setref1.txt"
   ]
  },
  {
   "cell_type": "markdown",
   "metadata": {},
   "source": [
    "`read_set` va prendre en argument un nom de fichier (vous pouvez supposer qu'il existe), enlever les espaces éventuelles au début et à la fin de chaque ligne, et construire un ensemble de toutes les lignes ; par exemple :"
   ]
  },
  {
   "cell_type": "code",
   "execution_count": 6,
   "metadata": {},
   "outputs": [
    {
     "data": {
      "text/html": [
       "<table style='font-family:monospace;font-size:small;'><tr style='font-family:monospace;font-size:medium;'><th style='text-align: center;'><pre>Appel</pre></th><th style='text-align: center;'><pre>Resultat Attendu</pre></th></tr><tr><td><pre><pre>read_set(\n",
       "  'data/setref1.txt')\n",
       "</pre></pre></td><td style='text-align: left;border-left:3px solid gray;'><pre>\n",
       "{ '12',\n",
       "  '4615',\n",
       "  '6158',\n",
       "  '9228'}</pre></td></tr></table>"
      ],
      "text/plain": [
       "<IPython.core.display.HTML object>"
      ]
     },
     "execution_count": 6,
     "metadata": {},
     "output_type": "execute_result"
    }
   ],
   "source": [
    "exo_read_set.example()"
   ]
  },
  {
   "cell_type": "code",
   "execution_count": 7,
   "metadata": {},
   "outputs": [],
   "source": [
    "# écrivez votre code ici\n",
    "def read_set(filename):\n",
    "    with open(file=filename, mode=\"r\", encoding=\"utf-8\") as f_in:\n",
    "        l_set = {value.strip() for value in f_in}\n",
    "    return l_set"
   ]
  },
  {
   "cell_type": "code",
   "execution_count": 8,
   "metadata": {},
   "outputs": [
    {
     "data": {
      "text/html": [
       "<table style='font-family:monospace;font-size:small;'><tr style='font-family:monospace;font-size:medium;'><th style='text-align: center;'><pre>Appel</pre></th><th style='text-align: center;'><pre>Attendu</pre></th><th style='text-align: center;'><pre>Obtenu</pre></th><th style='text-align: center;'><pre></pre></th></tr><tr style='background-color:#d6e9ce;border-bottom:2px solid gray;'><td><pre><pre>read_set(\n",
       "  'data/setref1.txt')\n",
       "</pre></pre></td><td style='text-align: left;border-left:3px solid gray;'><pre>\n",
       "{ '12',\n",
       "  '4615',\n",
       "  '6158',\n",
       "  '9228'}</pre></td><td style='text-align: left;border-left:1px solid gray;'><pre>\n",
       "{ '12',\n",
       "  '4615',\n",
       "  '6158',\n",
       "  '9228'}</pre></td><td style='border-left:3px solid gray;'><pre>OK</pre></td></tr><tr style='background-color:#d6e9ce;border-bottom:2px solid gray;'><td><pre><pre>read_set(\n",
       "  'data/setref2.txt')\n",
       "</pre></pre></td><td style='text-align: left;border-left:3px solid gray;'><pre>\n",
       "{ '1560',\n",
       "  '26',\n",
       "  '4609',\n",
       "  '5132',\n",
       "  '523',\n",
       "  '7694',\n",
       "  '7697',\n",
       "  '9731'}</pre></td><td style='text-align: left;border-left:1px solid gray;'><pre>\n",
       "{ '1560',\n",
       "  '26',\n",
       "  '4609',\n",
       "  '5132',\n",
       "  '523',\n",
       "  '7694',\n",
       "  '7697',\n",
       "  '9731'}</pre></td><td style='border-left:3px solid gray;'><pre>OK</pre></td></tr></table>"
      ],
      "text/plain": [
       "<IPython.core.display.HTML object>"
      ]
     },
     "execution_count": 8,
     "metadata": {},
     "output_type": "execute_result"
    }
   ],
   "source": [
    "# vérifiez votre code ici\n",
    "exo_read_set.correction(read_set)"
   ]
  },
  {
   "cell_type": "markdown",
   "metadata": {},
   "source": [
    "*****"
   ]
  },
  {
   "cell_type": "markdown",
   "metadata": {},
   "source": [
    "## Deuxième partie - niveau basique"
   ]
  },
  {
   "cell_type": "code",
   "execution_count": 9,
   "metadata": {},
   "outputs": [],
   "source": [
    "# la définition de l'exercice\n",
    "from corrections.exo_read_set import exo_search_in_set"
   ]
  },
  {
   "cell_type": "markdown",
   "metadata": {},
   "source": [
    "Ceci étant acquis, on veut écrire une deuxième fonction `search_in_set` qui prend en argument deux fichiers :\n",
    "\n",
    "* `filename_reference` est le nom d'un fichier contenant des mots de référence ;\n",
    "* `filename` est le nom d'un fichier contenant des mots, dont on veut savoir s'ils sont ou non dans les références.\n",
    "\n",
    "Pour cela `search_in_set` doit retourner une liste, contenant pour chaque ligne du fichier `filename` un tuple avec :\n",
    "\n",
    "* la ligne (sans les espaces de début et de fin, ni la fin de ligne) ;\n",
    "* un booléen qui indique si ce mot est présent dans les références ou pas.\n",
    "\n",
    "Par exemple :"
   ]
  },
  {
   "cell_type": "code",
   "execution_count": 10,
   "metadata": {
    "cell_style": "split"
   },
   "outputs": [
    {
     "name": "stdout",
     "output_type": "stream",
     "text": [
      "4615\r\n",
      " 12\r\n",
      " 9228\r\n",
      "6158\r\n",
      "12\r\n"
     ]
    }
   ],
   "source": [
    "!cat data/setref1.txt"
   ]
  },
  {
   "cell_type": "code",
   "execution_count": 11,
   "metadata": {
    "cell_style": "split"
   },
   "outputs": [
    {
     "name": "stdout",
     "output_type": "stream",
     "text": [
      "2048\r\n",
      "8192\r\n",
      " 9228\r\n",
      "2049\r\n",
      "3\r\n",
      "4\r\n",
      "2053\r\n",
      "2054\r\n",
      "6158  \r\n",
      "4099\r\n",
      "8\r\n",
      "    12\r\n"
     ]
    }
   ],
   "source": [
    "!cat data/setsample1.txt"
   ]
  },
  {
   "cell_type": "code",
   "execution_count": 12,
   "metadata": {},
   "outputs": [
    {
     "data": {
      "text/html": [
       "<table style='font-family:monospace;font-size:small;'><tr style='font-family:monospace;font-size:medium;'><th style='text-align: center;'><pre>Appel</pre></th><th style='text-align: center;'><pre>Resultat Attendu</pre></th></tr><tr><td><pre><pre>search_in_set(\n",
       "  'data/setref1.txt',\n",
       "  'data/setsample1.txt')\n",
       "</pre></pre></td><td style='text-align: left;border-left:3px solid gray;'><pre>\n",
       "[ ('2048', False),\n",
       "  ('8192', False),\n",
       "  ('9228', True),\n",
       "  ('2049', False),\n",
       "  ('3', False),\n",
       "  ('4', False),\n",
       "  ('2053', False),\n",
       "  ('2054', False),\n",
       "  ('6158', True),\n",
       "  ('4099', False),\n",
       "  ('8', False),\n",
       "  ('12', True)]</pre></td></tr></table>"
      ],
      "text/plain": [
       "<IPython.core.display.HTML object>"
      ]
     },
     "execution_count": 12,
     "metadata": {},
     "output_type": "execute_result"
    }
   ],
   "source": [
    "exo_search_in_set.example()"
   ]
  },
  {
   "cell_type": "code",
   "execution_count": 13,
   "metadata": {},
   "outputs": [
    {
     "data": {
      "text/plain": [
       "True"
      ]
     },
     "execution_count": 13,
     "metadata": {},
     "output_type": "execute_result"
    }
   ],
   "source": [
    "'2'in '2'"
   ]
  },
  {
   "cell_type": "code",
   "execution_count": 32,
   "metadata": {},
   "outputs": [],
   "source": [
    "# à vous\n",
    "def search_in_set(filename_reference, filename):\n",
    "    # We have to choose \"list comprehension\", cause with the set\n",
    "    # the order is not preserved\n",
    "    with open(filename_reference, \"r\", encoding=\"utf-8\") as f_r:\n",
    "        l_f_r = [value.strip() for value in f_r]\n",
    "\n",
    "    with open(filename, \"r\", encoding=\"utf-8\") as f_l:\n",
    "        l_f_l = [value.strip() for value in f_l]\n",
    "        \n",
    "    l_res = list()\n",
    "    for file_ref in l_f_l:\n",
    "        l_res.append((file_ref, file_ref in l_f_r))\n",
    "    return l_res"
   ]
  },
  {
   "cell_type": "code",
   "execution_count": 33,
   "metadata": {},
   "outputs": [
    {
     "name": "stdout",
     "output_type": "stream",
     "text": [
      "['2048', '8192', '9228', '2049', '3', '4', '2053', '2054', '6158', '4099', '8', '12']\n",
      "['8194', '7694', '2052', '8', '4105', '9', '4107', '5132', '8204', '6158', '4114', '21', '8215']\n"
     ]
    },
    {
     "data": {
      "text/html": [
       "<table style='font-family:monospace;font-size:small;'><tr style='font-family:monospace;font-size:medium;'><th style='text-align: center;'><pre>Appel</pre></th><th style='text-align: center;'><pre>Attendu</pre></th><th style='text-align: center;'><pre>Obtenu</pre></th><th style='text-align: center;'><pre></pre></th></tr><tr style='background-color:#d6e9ce;border-bottom:2px solid gray;'><td><pre><pre>search_in_set(\n",
       "  'data/setref1.txt',\n",
       "  'data/setsample1.txt')\n",
       "</pre></pre></td><td style='text-align: left;border-left:3px solid gray;'><pre>\n",
       "[ ('2048', False),\n",
       "  ('8192', False),\n",
       "  ('9228', True),\n",
       "  ('2049', False),\n",
       "  ('3', False),\n",
       "  ('4', False),\n",
       "  ('2053', False),\n",
       "  ('2054', False),\n",
       "  ('6158', True),\n",
       "  ('4099', False),\n",
       "  ('8', False),\n",
       "  ('12', True)]</pre></td><td style='text-align: left;border-left:1px solid gray;'><pre>\n",
       "[ ('2048', False),\n",
       "  ('8192', False),\n",
       "  ('9228', True),\n",
       "  ('2049', False),\n",
       "  ('3', False),\n",
       "  ('4', False),\n",
       "  ('2053', False),\n",
       "  ('2054', False),\n",
       "  ('6158', True),\n",
       "  ('4099', False),\n",
       "  ('8', False),\n",
       "  ('12', True)]</pre></td><td style='border-left:3px solid gray;'><pre>OK</pre></td></tr><tr style='background-color:#d6e9ce;border-bottom:2px solid gray;'><td><pre><pre>search_in_set(\n",
       "  'data/setref2.txt',\n",
       "  'data/setsample2.txt')\n",
       "</pre></pre></td><td style='text-align: left;border-left:3px solid gray;'><pre>\n",
       "[ ('8194', False),\n",
       "  ('7694', True),\n",
       "  ('2052', False),\n",
       "  ('8', False),\n",
       "  ('4105', False),\n",
       "  ('9', False),\n",
       "  ('4107', False),\n",
       "  ('5132', True),\n",
       "  ('8204', False),\n",
       "  ('6158', False),\n",
       "  ('4114', False),\n",
       "  ('21', False),\n",
       "  ('8215', False)]</pre></td><td style='text-align: left;border-left:1px solid gray;'><pre>\n",
       "[ ('8194', False),\n",
       "  ('7694', True),\n",
       "  ('2052', False),\n",
       "  ('8', False),\n",
       "  ('4105', False),\n",
       "  ('9', False),\n",
       "  ('4107', False),\n",
       "  ('5132', True),\n",
       "  ('8204', False),\n",
       "  ('6158', False),\n",
       "  ('4114', False),\n",
       "  ('21', False),\n",
       "  ('8215', False)]</pre></td><td style='border-left:3px solid gray;'><pre>OK</pre></td></tr></table>"
      ],
      "text/plain": [
       "<IPython.core.display.HTML object>"
      ]
     },
     "execution_count": 33,
     "metadata": {},
     "output_type": "execute_result"
    }
   ],
   "source": [
    "# vérifiez\n",
    "exo_search_in_set.correction(search_in_set)"
   ]
  },
  {
   "cell_type": "code",
   "execution_count": null,
   "metadata": {},
   "outputs": [],
   "source": []
  }
 ],
 "metadata": {
  "kernelspec": {
   "display_name": "Python 3",
   "language": "python",
   "name": "python3"
  },
  "language_info": {
   "codemirror_mode": {
    "name": "ipython",
    "version": 3
   },
   "file_extension": ".py",
   "mimetype": "text/x-python",
   "name": "python",
   "nbconvert_exporter": "python",
   "pygments_lexer": "ipython3",
   "version": "3.6.7"
  },
  "livereveal": {
   "auto_select": "code",
   "auto_select_fragment": true,
   "autolaunch": false,
   "backimage": "media/nologo.png",
   "height": "100%",
   "start_slideshow_at": "selected",
   "theme": "simple",
   "transition": "fade",
   "width": "100%"
  },
  "notebookname": "Ensembles",
  "version": "3.0"
 },
 "nbformat": 4,
 "nbformat_minor": 2
}
