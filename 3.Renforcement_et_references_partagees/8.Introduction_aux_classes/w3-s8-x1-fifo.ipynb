{
 "cells": [
  {
   "cell_type": "markdown",
   "metadata": {},
   "source": [
    "<style>div.title-slide {    width: 100%;    display: flex;    flex-direction: row;            /* default value; can be omitted */    flex-wrap: nowrap;              /* default value; can be omitted */    justify-content: space-between;}</style><div class=\"title-slide\">\n",
    "<span style=\"float:left;\">Licence CC BY-NC-ND</span>\n",
    "<span>Thierry Parmentelat &amp; Arnaud Legout</span>\n",
    "<span><img src=\"media/both-logos-small-alpha.png\" style=\"display:inline\" /></span>\n",
    "</div>"
   ]
  },
  {
   "cell_type": "markdown",
   "metadata": {},
   "source": [
    "# Classe"
   ]
  },
  {
   "cell_type": "markdown",
   "metadata": {},
   "source": [
    "## Exercice - niveau basique"
   ]
  },
  {
   "cell_type": "code",
   "execution_count": 1,
   "metadata": {},
   "outputs": [],
   "source": [
    "# charger l'exercice\n",
    "from corrections.cls_fifo import exo_fifo"
   ]
  },
  {
   "cell_type": "markdown",
   "metadata": {},
   "source": [
    "On veut implémenter une classe pour manipuler une queue d'événements. La logique de cette classe est que :\n",
    "\n",
    "* on la crée sans argument ;\n",
    "* on peut toujours ajouter un élément avec la méthode `incoming` ;\n",
    "* et tant que la queue contient des éléments on peut appeler la méthode `outgoing`, qui retourne et enlève un élément dans la queue.\n",
    "\n",
    "Cette classe s'appelle `Fifo` pour *First In, First Out*, c'est-à-dire que les éléments retournés par `outgoing` le sont dans le même ordre où ils ont été ajoutés.\n",
    "\n",
    "La méthode `outgoing` retourne `None` lorsqu'on l'appelle sur une pile vide."
   ]
  },
  {
   "cell_type": "code",
   "execution_count": 2,
   "metadata": {},
   "outputs": [
    {
     "data": {
      "text/html": [
       "<table style='font-family:monospace;font-size:small;'><tr style='font-family:monospace;font-size:medium;'><th colspan='4' style='text-align: center;'><pre>Scénario 1</pre></th></tr><tr><th><pre>Appel</pre></th><th><pre>Attendu</pre></th></tr><tr><td><pre>Fifo()</pre></td><td style='border-left:3px solid gray;text-align: left;'><pre>-</pre></td></tr><tr><td><pre>outgoing()</pre></td><td style='border-left:3px solid gray;text-align: left;'><pre>\n",
       "None</pre></td></tr><tr><td><pre>incoming(1)</pre></td><td style='border-left:3px solid gray;text-align: left;'><pre>\n",
       "None</pre></td></tr><tr><td><pre>incoming(2)</pre></td><td style='border-left:3px solid gray;text-align: left;'><pre>\n",
       "None</pre></td></tr><tr><td><pre>outgoing()</pre></td><td style='border-left:3px solid gray;text-align: left;'><pre>\n",
       "1</pre></td></tr><tr><td><pre>outgoing()</pre></td><td style='border-left:3px solid gray;text-align: left;'><pre>\n",
       "2</pre></td></tr><tr><td><pre>outgoing()</pre></td><td style='border-left:3px solid gray;text-align: left;'><pre>\n",
       "None</pre></td></tr></table>"
      ],
      "text/plain": [
       "<IPython.core.display.HTML object>"
      ]
     },
     "execution_count": 2,
     "metadata": {},
     "output_type": "execute_result"
    }
   ],
   "source": [
    "# voici un exemple de scénario\n",
    "exo_fifo.example()"
   ]
  },
  {
   "cell_type": "code",
   "execution_count": 15,
   "metadata": {},
   "outputs": [],
   "source": [
    "# vous pouvez définir votre classe ici\n",
    "class Fifo:\n",
    "    def __init__(self):\n",
    "        self.liste = []\n",
    "    def incoming(self, value):\n",
    "        self.liste.append(value)\n",
    "    def outgoing(self):\n",
    "        if len(self.liste) > 0:\n",
    "            val = self.liste[0]\n",
    "            self.liste.pop(0)\n",
    "            return val\n",
    "        else:\n",
    "            return None"
   ]
  },
  {
   "cell_type": "code",
   "execution_count": 16,
   "metadata": {},
   "outputs": [
    {
     "data": {
      "text/html": [
       "<table style='font-family:monospace;font-size:small;'><tr style='font-family:monospace;font-size:medium;'><th colspan='4' style='text-align:center'><pre>Scénario 1</pre></th></tr><tr><th><pre>Appel</pre></th><th><pre>Attendu</pre></th><th><pre>Obtenu</pre></th><th><pre></pre></th></tr><tr style='background-color:#d6e9ce;'><td><pre>o=Fifo()</pre></td><td style='border-left:3px solid gray;'><pre>-</pre></td><td style='border-left:1px solid gray;'><pre>-</pre></td><td style='border-left:3px solid gray;'><pre>OK</pre></td></tr><tr style='background-color:#d6e9ce;'><td><pre>o.outgoing()</pre></td><td style='border-left:3px solid gray;text-align: left;'><pre>\n",
       "None</pre></td><td style='border-left:1px solid gray;text-align: left;'><pre>\n",
       "None</pre></td><td style='border-left:3px solid gray;'><pre>OK</pre></td></tr><tr style='background-color:#d6e9ce;'><td><pre>o.incoming(1)</pre></td><td style='border-left:3px solid gray;text-align: left;'><pre>\n",
       "None</pre></td><td style='border-left:1px solid gray;text-align: left;'><pre>\n",
       "None</pre></td><td style='border-left:3px solid gray;'><pre>OK</pre></td></tr><tr style='background-color:#d6e9ce;'><td><pre>o.incoming(2)</pre></td><td style='border-left:3px solid gray;text-align: left;'><pre>\n",
       "None</pre></td><td style='border-left:1px solid gray;text-align: left;'><pre>\n",
       "None</pre></td><td style='border-left:3px solid gray;'><pre>OK</pre></td></tr><tr style='background-color:#d6e9ce;'><td><pre>o.outgoing()</pre></td><td style='border-left:3px solid gray;text-align: left;'><pre>\n",
       "1</pre></td><td style='border-left:1px solid gray;text-align: left;'><pre>\n",
       "1</pre></td><td style='border-left:3px solid gray;'><pre>OK</pre></td></tr><tr style='background-color:#d6e9ce;'><td><pre>o.outgoing()</pre></td><td style='border-left:3px solid gray;text-align: left;'><pre>\n",
       "2</pre></td><td style='border-left:1px solid gray;text-align: left;'><pre>\n",
       "2</pre></td><td style='border-left:3px solid gray;'><pre>OK</pre></td></tr><tr style='background-color:#d6e9ce;'><td><pre>o.outgoing()</pre></td><td style='border-left:3px solid gray;text-align: left;'><pre>\n",
       "None</pre></td><td style='border-left:1px solid gray;text-align: left;'><pre>\n",
       "None</pre></td><td style='border-left:3px solid gray;'><pre>OK</pre></td></tr><tr style='font-family:monospace;font-size:medium;'><th colspan='4' style='text-align:center'><pre>Scénario 2</pre></th></tr><tr><th><pre>Appel</pre></th><th><pre>Attendu</pre></th><th><pre>Obtenu</pre></th><th><pre></pre></th></tr><tr style='background-color:#d6e9ce;'><td><pre>o=Fifo()</pre></td><td style='border-left:3px solid gray;'><pre>-</pre></td><td style='border-left:1px solid gray;'><pre>-</pre></td><td style='border-left:3px solid gray;'><pre>OK</pre></td></tr><tr style='background-color:#d6e9ce;'><td><pre>o.incoming(1)</pre></td><td style='border-left:3px solid gray;text-align: left;'><pre>\n",
       "None</pre></td><td style='border-left:1px solid gray;text-align: left;'><pre>\n",
       "None</pre></td><td style='border-left:3px solid gray;'><pre>OK</pre></td></tr><tr style='background-color:#d6e9ce;'><td><pre>o.incoming(2)</pre></td><td style='border-left:3px solid gray;text-align: left;'><pre>\n",
       "None</pre></td><td style='border-left:1px solid gray;text-align: left;'><pre>\n",
       "None</pre></td><td style='border-left:3px solid gray;'><pre>OK</pre></td></tr><tr style='background-color:#d6e9ce;'><td><pre>o.outgoing()</pre></td><td style='border-left:3px solid gray;text-align: left;'><pre>\n",
       "1</pre></td><td style='border-left:1px solid gray;text-align: left;'><pre>\n",
       "1</pre></td><td style='border-left:3px solid gray;'><pre>OK</pre></td></tr><tr style='background-color:#d6e9ce;'><td><pre>o.incoming(3)</pre></td><td style='border-left:3px solid gray;text-align: left;'><pre>\n",
       "None</pre></td><td style='border-left:1px solid gray;text-align: left;'><pre>\n",
       "None</pre></td><td style='border-left:3px solid gray;'><pre>OK</pre></td></tr><tr style='background-color:#d6e9ce;'><td><pre>o.outgoing()</pre></td><td style='border-left:3px solid gray;text-align: left;'><pre>\n",
       "2</pre></td><td style='border-left:1px solid gray;text-align: left;'><pre>\n",
       "2</pre></td><td style='border-left:3px solid gray;'><pre>OK</pre></td></tr><tr style='background-color:#d6e9ce;'><td><pre>o.outgoing()</pre></td><td style='border-left:3px solid gray;text-align: left;'><pre>\n",
       "3</pre></td><td style='border-left:1px solid gray;text-align: left;'><pre>\n",
       "3</pre></td><td style='border-left:3px solid gray;'><pre>OK</pre></td></tr><tr style='background-color:#d6e9ce;'><td><pre>o.outgoing()</pre></td><td style='border-left:3px solid gray;text-align: left;'><pre>\n",
       "None</pre></td><td style='border-left:1px solid gray;text-align: left;'><pre>\n",
       "None</pre></td><td style='border-left:3px solid gray;'><pre>OK</pre></td></tr><tr style='font-family:monospace;font-size:medium;'><th colspan='4' style='text-align:center'><pre>Scénario 3</pre></th></tr><tr><th><pre>Appel</pre></th><th><pre>Attendu</pre></th><th><pre>Obtenu</pre></th><th><pre></pre></th></tr><tr style='background-color:#d6e9ce;'><td><pre>o=Fifo()</pre></td><td style='border-left:3px solid gray;'><pre>-</pre></td><td style='border-left:1px solid gray;'><pre>-</pre></td><td style='border-left:3px solid gray;'><pre>OK</pre></td></tr><tr style='background-color:#d6e9ce;'><td><pre>o.incoming(1)</pre></td><td style='border-left:3px solid gray;text-align: left;'><pre>\n",
       "None</pre></td><td style='border-left:1px solid gray;text-align: left;'><pre>\n",
       "None</pre></td><td style='border-left:3px solid gray;'><pre>OK</pre></td></tr><tr style='background-color:#d6e9ce;'><td><pre>o.incoming(2)</pre></td><td style='border-left:3px solid gray;text-align: left;'><pre>\n",
       "None</pre></td><td style='border-left:1px solid gray;text-align: left;'><pre>\n",
       "None</pre></td><td style='border-left:3px solid gray;'><pre>OK</pre></td></tr><tr style='background-color:#d6e9ce;'><td><pre>o.outgoing()</pre></td><td style='border-left:3px solid gray;text-align: left;'><pre>\n",
       "1</pre></td><td style='border-left:1px solid gray;text-align: left;'><pre>\n",
       "1</pre></td><td style='border-left:3px solid gray;'><pre>OK</pre></td></tr><tr style='background-color:#d6e9ce;'><td><pre>o.outgoing()</pre></td><td style='border-left:3px solid gray;text-align: left;'><pre>\n",
       "2</pre></td><td style='border-left:1px solid gray;text-align: left;'><pre>\n",
       "2</pre></td><td style='border-left:3px solid gray;'><pre>OK</pre></td></tr><tr style='background-color:#d6e9ce;'><td><pre>o.incoming(3)</pre></td><td style='border-left:3px solid gray;text-align: left;'><pre>\n",
       "None</pre></td><td style='border-left:1px solid gray;text-align: left;'><pre>\n",
       "None</pre></td><td style='border-left:3px solid gray;'><pre>OK</pre></td></tr><tr style='background-color:#d6e9ce;'><td><pre>o.incoming(4)</pre></td><td style='border-left:3px solid gray;text-align: left;'><pre>\n",
       "None</pre></td><td style='border-left:1px solid gray;text-align: left;'><pre>\n",
       "None</pre></td><td style='border-left:3px solid gray;'><pre>OK</pre></td></tr><tr style='background-color:#d6e9ce;'><td><pre>o.outgoing()</pre></td><td style='border-left:3px solid gray;text-align: left;'><pre>\n",
       "3</pre></td><td style='border-left:1px solid gray;text-align: left;'><pre>\n",
       "3</pre></td><td style='border-left:3px solid gray;'><pre>OK</pre></td></tr><tr style='background-color:#d6e9ce;'><td><pre>o.outgoing()</pre></td><td style='border-left:3px solid gray;text-align: left;'><pre>\n",
       "4</pre></td><td style='border-left:1px solid gray;text-align: left;'><pre>\n",
       "4</pre></td><td style='border-left:3px solid gray;'><pre>OK</pre></td></tr></table>"
      ],
      "text/plain": [
       "<IPython.core.display.HTML object>"
      ]
     },
     "execution_count": 16,
     "metadata": {},
     "output_type": "execute_result"
    }
   ],
   "source": [
    "# et la vérifier ici\n",
    "exo_fifo.correction(Fifo)"
   ]
  },
  {
   "cell_type": "code",
   "execution_count": null,
   "metadata": {},
   "outputs": [],
   "source": []
  }
 ],
 "metadata": {
  "kernelspec": {
   "display_name": "Python 3",
   "language": "python",
   "name": "python3"
  },
  "language_info": {
   "codemirror_mode": {
    "name": "ipython",
    "version": 3
   },
   "file_extension": ".py",
   "mimetype": "text/x-python",
   "name": "python",
   "nbconvert_exporter": "python",
   "pygments_lexer": "ipython3",
   "version": "3.6.7"
  },
  "livereveal": {
   "auto_select": "code",
   "auto_select_fragment": true,
   "autolaunch": false,
   "backimage": "media/nologo.png",
   "height": "100%",
   "start_slideshow_at": "selected",
   "theme": "simple",
   "transition": "fade",
   "width": "100%"
  },
  "notebookname": "Classe",
  "version": "3.0"
 },
 "nbformat": 4,
 "nbformat_minor": 2
}
