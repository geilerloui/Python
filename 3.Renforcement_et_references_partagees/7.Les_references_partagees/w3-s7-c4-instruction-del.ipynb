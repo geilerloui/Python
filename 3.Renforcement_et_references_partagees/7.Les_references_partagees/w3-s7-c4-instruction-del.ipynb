{
 "cells": [
  {
   "cell_type": "markdown",
   "metadata": {},
   "source": [
    "<style>div.title-slide {    width: 100%;    display: flex;    flex-direction: row;            /* default value; can be omitted */    flex-wrap: nowrap;              /* default value; can be omitted */    justify-content: space-between;}</style><div class=\"title-slide\">\n",
    "<span style=\"float:left;\">Licence CC BY-NC-ND</span>\n",
    "<span>Thierry Parmentelat &amp; Arnaud Legout</span>\n",
    "<span><img src=\"media/both-logos-small-alpha.png\" style=\"display:inline\" /></span>\n",
    "</div>"
   ]
  },
  {
   "cell_type": "markdown",
   "metadata": {},
   "source": [
    "# L'instruction `del`"
   ]
  },
  {
   "cell_type": "markdown",
   "metadata": {},
   "source": [
    "## Complément - niveau basique"
   ]
  },
  {
   "cell_type": "markdown",
   "metadata": {},
   "source": [
    "Voici un récapitulatif sur l'instruction `del` selon le contexte dans lequel elle est utilisée."
   ]
  },
  {
   "cell_type": "markdown",
   "metadata": {},
   "source": [
    "### Sur une variable"
   ]
  },
  {
   "cell_type": "markdown",
   "metadata": {},
   "source": [
    "On peut annuler la définition d'une variable, avec `del`.\n",
    "\n",
    "Pour l'illustrer, nous utilisons un bloc `try … except …` pour attraper le cas échéant l'exception `NameError`, qui est produite lorsqu'on référence une variable qui n'est pas définie."
   ]
  },
  {
   "cell_type": "code",
   "execution_count": 1,
   "metadata": {},
   "outputs": [
    {
     "name": "stdout",
     "output_type": "stream",
     "text": [
      "a n'est pas définie\n"
     ]
    }
   ],
   "source": [
    "# la variable a n'est pas définie\n",
    "try:\n",
    "    print('a=', a)\n",
    "except NameError as e:\n",
    "    print(\"a n'est pas définie\")"
   ]
  },
  {
   "cell_type": "code",
   "execution_count": 2,
   "metadata": {},
   "outputs": [
    {
     "name": "stdout",
     "output_type": "stream",
     "text": [
      "a= 10\n"
     ]
    }
   ],
   "source": [
    "# on la définit\n",
    "a = 10\n",
    "\n",
    "# aucun souci ici, l'exception n'est pas levée\n",
    "try:\n",
    "    print('a=', a)\n",
    "except NameError as e:\n",
    "    print(\"a n'est pas définie\")"
   ]
  },
  {
   "cell_type": "code",
   "execution_count": 3,
   "metadata": {},
   "outputs": [
    {
     "name": "stdout",
     "output_type": "stream",
     "text": [
      "a n'est pas définie\n"
     ]
    }
   ],
   "source": [
    "# maintenant on peut effacer la variable\n",
    "del a\n",
    "\n",
    "# c'est comme si on ne l'avait pas définie\n",
    "# dans la cellule précédente\n",
    "try:\n",
    "    print('a=', a)\n",
    "except NameError as e:\n",
    "    print(\"a n'est pas définie\")"
   ]
  },
  {
   "cell_type": "markdown",
   "metadata": {},
   "source": [
    "### Sur une liste"
   ]
  },
  {
   "cell_type": "markdown",
   "metadata": {},
   "source": [
    "On peut enlever d'une liste les éléments qui correspondent à une *slice* :"
   ]
  },
  {
   "cell_type": "code",
   "execution_count": 4,
   "metadata": {},
   "outputs": [
    {
     "name": "stdout",
     "output_type": "stream",
     "text": [
      "[0, 1, 2, 3, 4, 5, 6, 7, 8, 9, 10, 11]\n"
     ]
    }
   ],
   "source": [
    "# on se donne une liste\n",
    "l = list(range(12))\n",
    "print(l)"
   ]
  },
  {
   "cell_type": "code",
   "execution_count": 5,
   "metadata": {},
   "outputs": [
    {
     "name": "stdout",
     "output_type": "stream",
     "text": [
      "slice= [2, 5, 8]\n",
      "après del [0, 1, 3, 4, 6, 7, 9, 10, 11]\n"
     ]
    }
   ],
   "source": [
    "# on considère une slice dans cette liste\n",
    "print('slice=', l[2:10:3])\n",
    "\n",
    "# voyons ce que ça donne si on efface cette slice\n",
    "del l[2:10:3]\n",
    "print(\"après del\", l)"
   ]
  },
  {
   "cell_type": "markdown",
   "metadata": {},
   "source": [
    "### Sur un dictionnaire"
   ]
  },
  {
   "cell_type": "markdown",
   "metadata": {},
   "source": [
    "Avec `del` on peut enlever une clé, et donc la valeur correspondante, d'un dictionnaire :"
   ]
  },
  {
   "cell_type": "code",
   "execution_count": 6,
   "metadata": {},
   "outputs": [
    {
     "name": "stdout",
     "output_type": "stream",
     "text": [
      "{'foo': 'bar', 'spam': 'eggs', 'a': 'b'}\n"
     ]
    }
   ],
   "source": [
    "# partons d'un dictionaire simple\n",
    "d = dict(foo='bar', spam='eggs', a='b')\n",
    "print(d)"
   ]
  },
  {
   "cell_type": "code",
   "execution_count": 7,
   "metadata": {},
   "outputs": [
    {
     "name": "stdout",
     "output_type": "stream",
     "text": [
      "{'foo': 'bar', 'spam': 'eggs'}\n"
     ]
    }
   ],
   "source": [
    "# on peut enlever une clé avec del\n",
    "del d['a']\n",
    "print(d)"
   ]
  },
  {
   "cell_type": "markdown",
   "metadata": {},
   "source": [
    "### On peut passer plusieurs arguments à `del`"
   ]
  },
  {
   "cell_type": "code",
   "execution_count": 8,
   "metadata": {},
   "outputs": [
    {
     "name": "stdout",
     "output_type": "stream",
     "text": [
      "l [0, 1, 3, 4, 6, 7, 9, 10, 11]\n",
      "d {'foo': 'bar', 'spam': 'eggs'}\n"
     ]
    }
   ],
   "source": [
    "# Voyons où en sont nos données\n",
    "print('l', l)\n",
    "print('d', d)"
   ]
  },
  {
   "cell_type": "code",
   "execution_count": 9,
   "metadata": {},
   "outputs": [
    {
     "name": "stdout",
     "output_type": "stream",
     "text": [
      "l [0, 1, 3]\n",
      "d {'foo': 'bar'}\n"
     ]
    }
   ],
   "source": [
    "# on peut invoquer 'del' avec plusieurs expressions\n",
    "# séparées par une virgule\n",
    "del l[3:], d['spam']\n",
    "\n",
    "print('l', l)\n",
    "print('d', d)"
   ]
  },
  {
   "cell_type": "markdown",
   "metadata": {},
   "source": [
    "### Pour en savoir plus"
   ]
  },
  {
   "cell_type": "markdown",
   "metadata": {},
   "source": [
    "La page sur [l'instruction `del`](https://docs.python.org/3/reference/simple_stmts.html#the-del-statement) dans la documentation Python."
   ]
  }
 ],
 "metadata": {
  "kernelspec": {
   "display_name": "Python 3",
   "language": "python",
   "name": "python3"
  },
  "language_info": {
   "codemirror_mode": {
    "name": "ipython",
    "version": 3
   },
   "file_extension": ".py",
   "mimetype": "text/x-python",
   "name": "python",
   "nbconvert_exporter": "python",
   "pygments_lexer": "ipython3",
   "version": "3.6.7"
  },
  "livereveal": {
   "auto_select": "code",
   "auto_select_fragment": true,
   "autolaunch": false,
   "backimage": "media/nologo.png",
   "height": "100%",
   "slideNumber": "c",
   "start_slideshow_at": "selected",
   "theme": "simple",
   "transition": "fade",
   "width": "100%"
  },
  "notebookname": "L'instruction del",
  "version": "3.0"
 },
 "nbformat": 4,
 "nbformat_minor": 1
}
