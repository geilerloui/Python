{
 "cells": [
  {
   "cell_type": "markdown",
   "metadata": {},
   "source": [
    "<style>div.title-slide {    width: 100%;    display: flex;    flex-direction: row;            /* default value; can be omitted */    flex-wrap: nowrap;              /* default value; can be omitted */    justify-content: space-between;}</style><div class=\"title-slide\">\n",
    "<span style=\"float:left;\">Licence CC BY-NC-ND</span>\n",
    "<span>Thierry Parmentelat &amp; Arnaud Legout</span>\n",
    "<span><img src=\"media/both-logos-small-alpha.png\" style=\"display:inline\" /></span>\n",
    "</div>"
   ]
  },
  {
   "cell_type": "markdown",
   "metadata": {},
   "source": [
    "# Fichiers"
   ]
  },
  {
   "cell_type": "markdown",
   "metadata": {},
   "source": [
    "## Exercice - niveau basique"
   ]
  },
  {
   "cell_type": "markdown",
   "metadata": {},
   "source": [
    "### Calcul du nombre de lignes, de mots et de caractères"
   ]
  },
  {
   "cell_type": "code",
   "execution_count": 1,
   "metadata": {},
   "outputs": [],
   "source": [
    "# chargement de l'exercice\n",
    "from corrections.exo_comptage import exo_comptage"
   ]
  },
  {
   "cell_type": "markdown",
   "metadata": {},
   "source": [
    "On se propose d'écrire une *moulinette* qui annote un fichier avec des nombres de lignes, de mots et de caractères.\n",
    "\n",
    "Le but de l'exercice est d'écrire une fonction `comptage` :\n",
    "\n",
    " * qui prenne en argument un nom de fichier d'entrée (on suppose qu'il existe) et un nom de fichier de sortie (on suppose qu'on a le droit de l'écrire) ;\n",
    " * le fichier d'entrée est supposé encodé en UTF-8 ;\n",
    " * le fichier d'entrée est laissé intact ;\n",
    " * pour chaque ligne en entrée, le fichier de sortie comporte une ligne qui donne le numéro de ligne, le nombre de mots (**séparés par des espaces**), le nombre de caractères (y compris la fin de ligne), et la ligne d'origine."
   ]
  },
  {
   "cell_type": "code",
   "execution_count": 2,
   "metadata": {},
   "outputs": [
    {
     "data": {
      "text/html": [
       "<table><tr><th>Entrée</th></tr><tr><td>Two households, both alike in dignity,</td></tr><tr><td>In fair Verona, where we lay our scene,</td></tr><tr><td>From ancient grudge break to new mutiny,</td></tr><tr><td>Where civil blood makes civil hands unclean.</td></tr><tr><td></td></tr><tr><th>Sortie</th></tr><tr><td>1:6:39:Two households, both alike in dignity,</td></tr><tr><td>2:8:40:In fair Verona, where we lay our scene,</td></tr><tr><td>3:7:41:From ancient grudge break to new mutiny,</td></tr><tr><td>4:7:45:Where civil blood makes civil hands unclean.</td></tr><tr><td></td></tr></table>"
      ],
      "text/plain": [
       "<IPython.core.display.HTML object>"
      ]
     },
     "execution_count": 2,
     "metadata": {},
     "output_type": "execute_result"
    }
   ],
   "source": [
    "# un exemple de ce qui est attendu\n",
    "exo_comptage.example()"
   ]
  },
  {
   "cell_type": "code",
   "execution_count": 13,
   "metadata": {},
   "outputs": [],
   "source": [
    "# votre code\n",
    "def comptage(in_filename, out_filename):\n",
    "    l_content = list()\n",
    "    with open(in_filename, \"r\" , encoding=\"utf-8\") as f_in:\n",
    "        for index, line in enumerate(f_in):\n",
    "            nb_words = len(line.split())\n",
    "            nb_cha = len(line)\n",
    "            c_line = str(index+1) + \":\"+str(nb_words)+ \":\"+ str(nb_cha)+ \":\" + str(line)\n",
    "            l_content.append(c_line)\n",
    "            \n",
    "    with open(out_filename, \"w\", encoding=\"utf-8\") as f_out:\n",
    "        for line in l_content:\n",
    "            f_out.write(line)"
   ]
  },
  {
   "cell_type": "markdown",
   "metadata": {},
   "source": [
    "**N'oubliez pas de vérifier** que vous ajoutez bien les **fins de ligne**, car la vérification automatique est pointilleuse (elle utilise l'opérateur `==`), et rejettera votre code si vous ne produisez pas une sortie rigoureusement similaire à ce qui est attendu."
   ]
  },
  {
   "cell_type": "code",
   "execution_count": 14,
   "metadata": {},
   "outputs": [
    {
     "data": {
      "text/html": [
       "<table style='font-family:monospace;font-size:x-small;'><tr style='font-family:monospace;font-size:small;'><th style='text-align: center;'><pre>Appel</pre></th><th style='text-align: center;'><pre>Attendu</pre></th><th style='text-align: center;'><pre>Obtenu</pre></th><th style='text-align: center;'><pre></pre></th></tr><tr style='background-color:#d6e9ce;border-bottom:2px solid gray;'><td><pre></pre></td><td style='text-align: left;border-left:3px solid gray;'><pre 'style=font-size:xx-small;'>1:6:39:Two households, both alike in dignity,\\n\n",
       "2:8:40:In fair Verona, where we lay our scene,\\n\n",
       "3:7:41:From ancient grudge break to new mutiny,\\n\n",
       "4:7:45:Where civil blood makes civil hands unclean.\\n\n",
       "</pre></td><td style='text-align: left;border-left:1px solid gray;'><pre 'style=font-size:xx-small;'>1:6:39:Two households, both alike in dignity,\\n\n",
       "2:8:40:In fair Verona, where we lay our scene,\\n\n",
       "3:7:41:From ancient grudge break to new mutiny,\\n\n",
       "4:7:45:Where civil blood makes civil hands unclean.\\n\n",
       "</pre></td><td style='border-left:3px solid gray;'><pre>OK</pre></td></tr><tr style='background-color:#d6e9ce;border-bottom:2px solid gray;'><td><pre></pre></td><td style='text-align: left;border-left:3px solid gray;'><pre 'style=font-size:xx-small;'>1:6:41:Lorem ipsum dolor sit amet, consectetuer\\n\n",
       "2:6:39:adipiscing elit, sed diam nonummy nibh\\n\n",
       "3:5:36:euismod tincidunt ut laoreet dolore\\n\n",
       "4:6:37:magna aliquam erat volutpat. Ut wisi\\n\n",
       "5:6:35:enim ad minim veniam, quis nostrud\\n\n",
       "</pre></td><td style='text-align: left;border-left:1px solid gray;'><pre 'style=font-size:xx-small;'>1:6:41:Lorem ipsum dolor sit amet, consectetuer\\n\n",
       "2:6:39:adipiscing elit, sed diam nonummy nibh\\n\n",
       "3:5:36:euismod tincidunt ut laoreet dolore\\n\n",
       "4:6:37:magna aliquam erat volutpat. Ut wisi\\n\n",
       "5:6:35:enim ad minim veniam, quis nostrud\\n\n",
       "</pre></td><td style='border-left:3px solid gray;'><pre>OK</pre></td></tr><tr style='background-color:#d6e9ce;border-bottom:2px solid gray;'><td><pre></pre></td><td style='text-align: left;border-left:3px solid gray;'><pre 'style=font-size:xx-small;'>1:7:47:Rappelez-vous l'objet que nous vîmes, mon âme,\\n\n",
       "2:6:29:Ce beau matin d'été si doux:\\n\n",
       "3:7:43:Au détour d'un sentier une charogne infâme\\n\n",
       "4:6:29:Sur un lit semé de cailloux,\\n\n",
       "5:0:1:\\n\n",
       "6:8:47:Les jambes en l'air, comme une femme lubrique,\\n\n",
       "7:5:31:Brûlante et suant les poisons,\\n\n",
       "8:6:43:Ouvrait d'une façon nonchalante et cynique\\n\n",
       "9:4:32:Son ventre plein d'exhalaisons.\\n\n",
       "</pre></td><td style='text-align: left;border-left:1px solid gray;'><pre 'style=font-size:xx-small;'>1:7:47:Rappelez-vous l'objet que nous vîmes, mon âme,\\n\n",
       "2:6:29:Ce beau matin d'été si doux:\\n\n",
       "3:7:43:Au détour d'un sentier une charogne infâme\\n\n",
       "4:6:29:Sur un lit semé de cailloux,\\n\n",
       "5:0:1:\\n\n",
       "6:8:47:Les jambes en l'air, comme une femme lubrique,\\n\n",
       "7:5:31:Brûlante et suant les poisons,\\n\n",
       "8:6:43:Ouvrait d'une façon nonchalante et cynique\\n\n",
       "9:4:32:Son ventre plein d'exhalaisons.\\n\n",
       "</pre></td><td style='border-left:3px solid gray;'><pre>OK</pre></td></tr></table>"
      ],
      "text/plain": [
       "<IPython.core.display.HTML object>"
      ]
     },
     "execution_count": 14,
     "metadata": {},
     "output_type": "execute_result"
    }
   ],
   "source": [
    "# pour vérifier votre code\n",
    "# voyez aussi un peu plus bas, une cellule d'aide au debugging\n",
    "\n",
    "exo_comptage.correction(comptage)"
   ]
  },
  {
   "cell_type": "markdown",
   "metadata": {},
   "source": [
    "La méthode `debug` applique votre fonction au premier fichier d'entrée, et affiche le résultat comme dans l'exemple ci-dessus :"
   ]
  },
  {
   "cell_type": "code",
   "execution_count": 15,
   "metadata": {},
   "outputs": [
    {
     "data": {
      "text/html": [
       "<table><tr><th>Entrée</th></tr><tr><td>Two households, both alike in dignity,</td></tr><tr><td>In fair Verona, where we lay our scene,</td></tr><tr><td>From ancient grudge break to new mutiny,</td></tr><tr><td>Where civil blood makes civil hands unclean.</td></tr><tr><td></td></tr><tr><th>Sortie</th></tr><tr><td>1:6:39:Two households, both alike in dignity,</td></tr><tr><td>2:8:40:In fair Verona, where we lay our scene,</td></tr><tr><td>3:7:41:From ancient grudge break to new mutiny,</td></tr><tr><td>4:7:45:Where civil blood makes civil hands unclean.</td></tr><tr><td></td></tr></table>"
      ],
      "text/plain": [
       "<IPython.core.display.HTML object>"
      ]
     },
     "execution_count": 15,
     "metadata": {},
     "output_type": "execute_result"
    }
   ],
   "source": [
    "# debugging\n",
    "exo_comptage.debug(comptage)"
   ]
  },
  {
   "cell_type": "markdown",
   "metadata": {},
   "source": [
    "### Accès aux fichiers d'exemples"
   ]
  },
  {
   "cell_type": "markdown",
   "metadata": {},
   "source": [
    "Vous pouvez télécharger les fichiers d'exemples :\n",
    "\n",
    " * [Romeo and Juliet](data/romeo_and_juliet.txt)\n",
    " * [Lorem Ipsum](data/lorem_ipsum.txt)\n",
    " * [\"Une charogne\" en UTF-8](data/une_charogne_unicode.txt)\n",
    "\n",
    "***\n",
    "\n",
    "Pour les courageux, je vous donne également [\"Une charogne\" en ISO-8859-15](data/une_charogne_iso15.txt), qui contient le même texte que \"Une charogne\", mais encodé en Latin-9, connu aussi sous le nom ISO-8859-15.\n",
    "\n",
    "Ce dernier fichier n'est pas à prendre en compte dans la version basique de l'exercice, mais vous pourrez vous rendre compte par vous-mêmes, au cas où cela ne serait pas clair encore pour vous, qu'il n'est pas facile d'écrire une fonction `comptage` qui devine l'encodage, c'est-à-dire qui fonctionne correctement avec des entrées indifféremment en Unicode ou Latin, sans que cet encodage soit passé en paramètre à `comptage`."
   ]
  },
  {
   "cell_type": "markdown",
   "metadata": {},
   "source": [
    "C'est d'ailleurs le propos de [la bibliothèque `chardet`](https://pypi.python.org/pypi/chardet) qui s'efforce de déterminer l'encodage de fichiers d'entrée, sur la base de modèles statistiques."
   ]
  }
 ],
 "metadata": {
  "kernelspec": {
   "display_name": "Python 3",
   "language": "python",
   "name": "python3"
  },
  "language_info": {
   "codemirror_mode": {
    "name": "ipython",
    "version": 3
   },
   "file_extension": ".py",
   "mimetype": "text/x-python",
   "name": "python",
   "nbconvert_exporter": "python",
   "pygments_lexer": "ipython3",
   "version": "3.7.0"
  },
  "livereveal": {
   "auto_select": "code",
   "auto_select_fragment": true,
   "autolaunch": false,
   "backimage": "media/nologo.png",
   "height": "100%",
   "slideNumber": "c",
   "start_slideshow_at": "selected",
   "theme": "simple",
   "transition": "fade",
   "width": "100%"
  },
  "notebookname": "Fichiers",
  "version": "3.0"
 },
 "nbformat": 4,
 "nbformat_minor": 1
}
