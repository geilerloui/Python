{
 "cells": [
  {
   "cell_type": "markdown",
   "metadata": {},
   "source": [
    "<style>div.title-slide {    width: 100%;    display: flex;    flex-direction: row;            /* default value; can be omitted */    flex-wrap: nowrap;              /* default value; can be omitted */    justify-content: space-between;}</style><div class=\"title-slide\">\n",
    "<span style=\"float:left;\">Licence CC BY-NC-ND</span>\n",
    "<span>Thierry Parmentelat &amp; Arnaud Legout</span>\n",
    "<span><img src=\"media/both-logos-small-alpha.png\" style=\"display:inline\" /></span>\n",
    "</div>"
   ]
  },
  {
   "cell_type": "markdown",
   "metadata": {},
   "source": [
    "# *Sequence unpacking*"
   ]
  },
  {
   "cell_type": "markdown",
   "metadata": {},
   "source": [
    "## Exercice - niveau basique"
   ]
  },
  {
   "cell_type": "code",
   "execution_count": 1,
   "metadata": {},
   "outputs": [],
   "source": [
    "# chargeons l'exercice\n",
    "from corrections.exo_surgery import exo_surgery"
   ]
  },
  {
   "cell_type": "markdown",
   "metadata": {},
   "source": [
    "Cet exercice consiste à écrire une fonction `surgery`, qui prend en argument une liste, et qui retourne la **même** liste **modifiée** comme suit :\n",
    "\n",
    "* si la liste est de taille 0 ou 1, elle n'est pas modifiée ;\n",
    "* si la liste est de taille paire, on intervertit les deux premiers éléments de la liste ;\n",
    "* si elle est de taille impaire, on intervertit les deux derniers éléments."
   ]
  },
  {
   "cell_type": "code",
   "execution_count": 2,
   "metadata": {},
   "outputs": [
    {
     "data": {
      "text/html": [
       "<table style='font-family:monospace;font-size:small;'><tr style='font-family:monospace;font-size:medium;'><th style='text-align: center;'><pre>Appel</pre></th><th style='text-align: center;'><pre>Resultat Attendu</pre></th></tr><tr><td><pre>surgery([])</pre></td><td style='text-align: left;border-left:3px solid gray;'><pre>\n",
       "[]</pre></td></tr><tr><td><pre>surgery([0])</pre></td><td style='text-align: left;border-left:3px solid gray;'><pre>\n",
       "[0]</pre></td></tr><tr><td><pre>surgery([0, 1])</pre></td><td style='text-align: left;border-left:3px solid gray;'><pre>\n",
       "[1, 0]</pre></td></tr><tr><td><pre>surgery([0, 1, 2])</pre></td><td style='text-align: left;border-left:3px solid gray;'><pre>\n",
       "[0, 2, 1]</pre></td></tr><tr><td><pre>surgery([0, 1, 2, 3])</pre></td><td style='text-align: left;border-left:3px solid gray;'><pre>\n",
       "[1, 0, 2, 3]</pre></td></tr></table>"
      ],
      "text/plain": [
       "<IPython.core.display.HTML object>"
      ]
     },
     "execution_count": 2,
     "metadata": {},
     "output_type": "execute_result"
    }
   ],
   "source": [
    "# voici quelques exemples de ce qui est attendu\n",
    "exo_surgery.example()"
   ]
  },
  {
   "cell_type": "code",
   "execution_count": 29,
   "metadata": {},
   "outputs": [],
   "source": [
    "# écrivez votre code\n",
    "def surgery(liste):\n",
    "    if len(liste) == 0 or len(liste) == 1:\n",
    "        # We do not modify the list\n",
    "        pass\n",
    "    elif len(liste) % 2 == 0:\n",
    "        # The list is pair we switch the two first elements\n",
    "        first, second, *leftover = liste\n",
    "        liste = [second, first, *leftover]\n",
    "    else:\n",
    "        # The list is not pair\n",
    "        *first_elts, before_last, last = liste\n",
    "        liste = [*first_elts, last, before_last]\n",
    "    return liste"
   ]
  },
  {
   "cell_type": "code",
   "execution_count": 30,
   "metadata": {},
   "outputs": [
    {
     "data": {
      "text/html": [
       "<table style='font-family:monospace;font-size:small;'><tr style='font-family:monospace;font-size:medium;'><th style='text-align: center;'><pre>Appel</pre></th><th style='text-align: center;'><pre>Attendu</pre></th><th style='text-align: center;'><pre>Obtenu</pre></th><th style='text-align: center;'><pre></pre></th></tr><tr style='background-color:#d6e9ce;border-bottom:2px solid gray;'><td><pre>surgery([])</pre></td><td style='text-align: left;border-left:3px solid gray;'><pre>\n",
       "[]</pre></td><td style='text-align: left;border-left:1px solid gray;'><pre>\n",
       "[]</pre></td><td style='border-left:3px solid gray;'><pre>OK</pre></td></tr><tr style='background-color:#d6e9ce;border-bottom:2px solid gray;'><td><pre>surgery([0])</pre></td><td style='text-align: left;border-left:3px solid gray;'><pre>\n",
       "[0]</pre></td><td style='text-align: left;border-left:1px solid gray;'><pre>\n",
       "[0]</pre></td><td style='border-left:3px solid gray;'><pre>OK</pre></td></tr><tr style='background-color:#d6e9ce;border-bottom:2px solid gray;'><td><pre>surgery([0, 1])</pre></td><td style='text-align: left;border-left:3px solid gray;'><pre>\n",
       "[1, 0]</pre></td><td style='text-align: left;border-left:1px solid gray;'><pre>\n",
       "[1, 0]</pre></td><td style='border-left:3px solid gray;'><pre>OK</pre></td></tr><tr style='background-color:#d6e9ce;border-bottom:2px solid gray;'><td><pre>surgery([0, 1, 2])</pre></td><td style='text-align: left;border-left:3px solid gray;'><pre>\n",
       "[0, 2, 1]</pre></td><td style='text-align: left;border-left:1px solid gray;'><pre>\n",
       "[0, 2, 1]</pre></td><td style='border-left:3px solid gray;'><pre>OK</pre></td></tr><tr style='background-color:#d6e9ce;border-bottom:2px solid gray;'><td><pre>surgery([0, 1, 2, 3])</pre></td><td style='text-align: left;border-left:3px solid gray;'><pre>\n",
       "[1, 0, 2, 3]</pre></td><td style='text-align: left;border-left:1px solid gray;'><pre>\n",
       "[1, 0, 2, 3]</pre></td><td style='border-left:3px solid gray;'><pre>OK</pre></td></tr><tr style='background-color:#d6e9ce;border-bottom:2px solid gray;'><td><pre>surgery([0, 1, 2, 3, 4])</pre></td><td style='text-align: left;border-left:3px solid gray;'><pre>\n",
       "[0, 1, 2, 4, 3]</pre></td><td style='text-align: left;border-left:1px solid gray;'><pre>\n",
       "[0, 1, 2, 4, 3]</pre></td><td style='border-left:3px solid gray;'><pre>OK</pre></td></tr><tr style='background-color:#d6e9ce;border-bottom:2px solid gray;'><td><pre><pre>surgery(\n",
       "  [0, 1, 2, 3, 4, 5])\n",
       "</pre></pre></td><td style='text-align: left;border-left:3px solid gray;'><pre>\n",
       "[1, 0, 2, 3, 4, 5]</pre></td><td style='text-align: left;border-left:1px solid gray;'><pre>\n",
       "[1, 0, 2, 3, 4, 5]</pre></td><td style='border-left:3px solid gray;'><pre>OK</pre></td></tr><tr style='background-color:#d6e9ce;border-bottom:2px solid gray;'><td><pre><pre>surgery(\n",
       "  [0, 1, 2, 3, 4, 5, 6])\n",
       "</pre></pre></td><td style='text-align: left;border-left:3px solid gray;'><pre>\n",
       "[0, 1, 2, 3, 4, 6, 5]</pre></td><td style='text-align: left;border-left:1px solid gray;'><pre>\n",
       "[0, 1, 2, 3, 4, 6, 5]</pre></td><td style='border-left:3px solid gray;'><pre>OK</pre></td></tr></table>"
      ],
      "text/plain": [
       "<IPython.core.display.HTML object>"
      ]
     },
     "execution_count": 30,
     "metadata": {},
     "output_type": "execute_result"
    }
   ],
   "source": [
    "# pour le vérifier, évaluez cette cellule\n",
    "exo_surgery.correction(surgery)"
   ]
  },
  {
   "cell_type": "code",
   "execution_count": null,
   "metadata": {},
   "outputs": [],
   "source": []
  }
 ],
 "metadata": {
  "kernelspec": {
   "display_name": "Python 3",
   "language": "python",
   "name": "python3"
  },
  "language_info": {
   "codemirror_mode": {
    "name": "ipython",
    "version": 3
   },
   "file_extension": ".py",
   "mimetype": "text/x-python",
   "name": "python",
   "nbconvert_exporter": "python",
   "pygments_lexer": "ipython3",
   "version": "3.7.0"
  },
  "livereveal": {
   "auto_select": "code",
   "auto_select_fragment": true,
   "autolaunch": false,
   "backimage": "media/nologo.png",
   "height": "100%",
   "start_slideshow_at": "selected",
   "theme": "simple",
   "transition": "fade",
   "width": "100%"
  },
  "notebookname": "Unpacking",
  "version": "3.0"
 },
 "nbformat": 4,
 "nbformat_minor": 2
}
