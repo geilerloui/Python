{
 "cells": [
  {
   "cell_type": "markdown",
   "metadata": {},
   "source": [
    "<style>div.title-slide {    width: 100%;    display: flex;    flex-direction: row;            /* default value; can be omitted */    flex-wrap: nowrap;              /* default value; can be omitted */    justify-content: space-between;}</style><div class=\"title-slide\">\n",
    "<span style=\"float:left;\">Licence CC BY-NC-ND</span>\n",
    "<span>Thierry Parmentelat &amp; Arnaud Legout</span>\n",
    "<span><img src=\"media/both-logos-small-alpha.png\" style=\"display:inline\" /></span>\n",
    "</div>"
   ]
  },
  {
   "cell_type": "markdown",
   "metadata": {},
   "source": [
    "# Les fichiers"
   ]
  },
  {
   "cell_type": "markdown",
   "metadata": {},
   "source": [
    "## Complément - niveau basique"
   ]
  },
  {
   "cell_type": "markdown",
   "metadata": {},
   "source": [
    "Voici quelques utilisations habituelles du type fichier en Python."
   ]
  },
  {
   "cell_type": "markdown",
   "metadata": {},
   "source": [
    "### Avec un *context manager*"
   ]
  },
  {
   "cell_type": "markdown",
   "metadata": {},
   "source": [
    "Nous avons vu dans la vidéo les mécanismes de base sur les fichiers. Nous avons vu notamment qu'il est important de bien fermer un fichier après usage. On a vu aussi qu'il est recommandé de **toujours** utiliser l'instruction `with` et de contrôler son encodage. Il est donc recommandé de faire :"
   ]
  },
  {
   "cell_type": "code",
   "execution_count": 1,
   "metadata": {},
   "outputs": [],
   "source": [
    "# avec un `with' on garantit la fermeture du fichier\n",
    "with open(\"foo.txt\", \"w\", encoding='utf-8') as sortie:\n",
    "    for i in range(2):\n",
    "        sortie.write(f\"{i}\\n\")"
   ]
  },
  {
   "cell_type": "markdown",
   "metadata": {},
   "source": [
    "### Les modes d'ouverture"
   ]
  },
  {
   "cell_type": "markdown",
   "metadata": {},
   "source": [
    "Les modes d'ouverture les plus utilisés sont :\n",
    "\n",
    " * `'r'` (la chaîne contenant l'unique caractère `r`) pour ouvrir un fichier en lecture seulement ;\n",
    " * `'w'` en écriture seulement ; le contenu précédent du fichier, s'il existait, est perdu ;\n",
    " * `'a'` en écriture seulement ; mais pour ajouter du contenu en fin de fichier."
   ]
  },
  {
   "cell_type": "markdown",
   "metadata": {},
   "source": [
    "Voici par exemple comment on pourrait ajouter deux lignes de texte dans le fichier `foo.txt` qui contient, à ce stade du notebook, deux entiers :"
   ]
  },
  {
   "cell_type": "code",
   "execution_count": 2,
   "metadata": {},
   "outputs": [],
   "source": [
    "# on ouvre le fichier en mode 'a' comme append (= ajouter)\n",
    "with open(\"foo.txt\", \"a\", encoding='utf-8') as sortie:\n",
    "    for i in range(100, 102):\n",
    "        sortie.write(f\"{i}\\n\")"
   ]
  },
  {
   "cell_type": "code",
   "execution_count": 3,
   "metadata": {},
   "outputs": [
    {
     "name": "stdout",
     "output_type": "stream",
     "text": [
      "0\n",
      "1\n",
      "100\n",
      "101\n"
     ]
    }
   ],
   "source": [
    "# maintenant on regarde ce que contient le fichier\n",
    "# remarquez que sans 'mode', on ouvre en lecture seule\n",
    "with open(\"foo.txt\", encoding='utf-8') as entree: \n",
    "    for line in entree:\n",
    "        # line contient déjà un retour à la ligne\n",
    "        print(line, end='')"
   ]
  },
  {
   "cell_type": "markdown",
   "metadata": {},
   "source": [
    "Il existe de nombreuses variantes au mode d'ouverture, pour par exemple :\n",
    "\n",
    " * ouvrir le fichier en lecture *et* en écriture (mode `+`) ;\n",
    " * ouvrir le fichier en mode binaire (mode `b`).\n",
    "\n",
    "Ces variantes sont décrites dans [la section sur la fonction built-in `open`](https://docs.python.org/3/library/functions.html#open) dans la documentation Python."
   ]
  },
  {
   "cell_type": "markdown",
   "metadata": {},
   "source": [
    "## Complément - niveau intermédiaire"
   ]
  },
  {
   "cell_type": "markdown",
   "metadata": {},
   "source": [
    "### Un fichier est un itérateur"
   ]
  },
  {
   "cell_type": "markdown",
   "metadata": {},
   "source": [
    "Nous reparlerons des notions d'itérable et d'itérateur dans les semaines suivantes. Pour l'instant, on peut dire qu'un fichier - qui donc **est itérable** puisqu'on peut le lire par une boucle `for` - est aussi **son propre itérateur**. Cela implique que l'on ne peut le parcourir qu'une fois dans une boucle `for`. Pour le reparcourir, il faut le fermer et l'ouvrir de nouveau."
   ]
  },
  {
   "cell_type": "code",
   "execution_count": 4,
   "metadata": {},
   "outputs": [],
   "source": [
    "# un fichier est son propre itérateur"
   ]
  },
  {
   "cell_type": "code",
   "execution_count": 5,
   "metadata": {},
   "outputs": [
    {
     "name": "stdout",
     "output_type": "stream",
     "text": [
      "True\n"
     ]
    }
   ],
   "source": [
    "with open(\"foo.txt\", encoding='utf-8') as entree:\n",
    "    print(entree.__iter__() is entree)"
   ]
  },
  {
   "cell_type": "markdown",
   "metadata": {},
   "source": [
    "Par conséquent, écrire deux boucles `for` imbriquées sur **le même objet fichier** ne **fonctionnerait pas** comme on pourrait s'y attendre."
   ]
  },
  {
   "cell_type": "code",
   "execution_count": 6,
   "metadata": {},
   "outputs": [
    {
     "name": "stdout",
     "output_type": "stream",
     "text": [
      "0 x 1\n",
      "0 x 100\n",
      "0 x 101\n"
     ]
    }
   ],
   "source": [
    "# Si l'on essaie d'écrire deux boucles imbriquées\n",
    "# sur le même objet fichier, le résultat est inattendu\n",
    "with open(\"foo.txt\", encoding='utf-8') as entree:\n",
    "    for l1 in entree:\n",
    "        # on enlève les fins de ligne\n",
    "        l1 = l1.strip()\n",
    "        for l2 in entree:\n",
    "            # on enlève les fins de ligne\n",
    "            l2 = l2.strip()\n",
    "            print(l1, \"x\", l2)"
   ]
  },
  {
   "cell_type": "markdown",
   "metadata": {},
   "source": [
    "## Complément - niveau avancé"
   ]
  },
  {
   "cell_type": "markdown",
   "metadata": {},
   "source": [
    "### Autres méthodes"
   ]
  },
  {
   "cell_type": "markdown",
   "metadata": {},
   "source": [
    "Vous pouvez également accéder à des fonctions de beaucoup plus bas niveau, notamment celle fournies directement par le système d'exploitation ; nous allons en décrire deux parmi les plus utiles."
   ]
  },
  {
   "cell_type": "markdown",
   "metadata": {},
   "source": [
    "##### Digression - `repr()`"
   ]
  },
  {
   "cell_type": "markdown",
   "metadata": {},
   "source": [
    "Comme nous allons utiliser maintenant des outils d'assez bas niveau pour lire du texte, pour examiner ce texte nous allons utiliser la fonction `repr()`, et voici pourquoi :"
   ]
  },
  {
   "cell_type": "code",
   "execution_count": 7,
   "metadata": {},
   "outputs": [],
   "source": [
    "# construisons à la main une chaîne qui contient deux lignes\n",
    "lines = \"abc\" + \"\\n\" + \"def\"  + \"\\n\""
   ]
  },
  {
   "cell_type": "code",
   "execution_count": 8,
   "metadata": {},
   "outputs": [
    {
     "name": "stdout",
     "output_type": "stream",
     "text": [
      "abc\n",
      "def\n"
     ]
    }
   ],
   "source": [
    "# si on l'imprime on voit bien les retours à la ligne\n",
    "# d'ailleurs on sait qu'il n'est pas utile\n",
    "# d'ajouter un retour à la ligne à la fin\n",
    "print(lines, end=\"\")"
   ]
  },
  {
   "cell_type": "code",
   "execution_count": 9,
   "metadata": {},
   "outputs": [
    {
     "name": "stdout",
     "output_type": "stream",
     "text": [
      "'abc\\ndef\\n'\n"
     ]
    }
   ],
   "source": [
    "# vérifions que repr() nous permet de bien\n",
    "# voir le contenu de cette chaine\n",
    "print(repr(lines))"
   ]
  },
  {
   "cell_type": "markdown",
   "metadata": {},
   "source": [
    "##### Lire un contenu - bas niveau"
   ]
  },
  {
   "cell_type": "markdown",
   "metadata": {},
   "source": [
    "Revenons aux fichiers ; la méthode `read()` permet de lire dans le fichier un buffer d'une certaine taille :"
   ]
  },
  {
   "cell_type": "code",
   "execution_count": 10,
   "metadata": {},
   "outputs": [
    {
     "name": "stdout",
     "output_type": "stream",
     "text": [
      "Contenu complet\n",
      "0\n",
      "1\n",
      "100\n",
      "101\n"
     ]
    }
   ],
   "source": [
    "# read() retourne TOUT le contenu\n",
    "# ne pas utiliser avec de très gros fichiers bien sûr\n",
    "\n",
    "# une autre façon de montrer tout le contenu du fichier\n",
    "with open(\"foo.txt\", encoding='utf-8') as entree:\n",
    "    full_contents = entree.read()\n",
    "    print(f\"Contenu complet\\n{full_contents}\", end=\"\")"
   ]
  },
  {
   "cell_type": "code",
   "execution_count": 11,
   "metadata": {},
   "outputs": [
    {
     "name": "stdout",
     "output_type": "stream",
     "text": [
      "Bloc 0 >>'0\\n1\\n'<<\n",
      "Bloc 1 >>'100\\n'<<\n"
     ]
    }
   ],
   "source": [
    "# lire dans le fichier deux blocs de quatre caractères\n",
    "with open(\"foo.txt\", encoding='utf-8') as entree:\n",
    "    for bloc in range(2):\n",
    "        print(f\"Bloc {bloc} >>{repr(entree.read(4))}<<\")"
   ]
  },
  {
   "cell_type": "markdown",
   "metadata": {},
   "source": [
    "On voit donc que chaque bloc contient bien quatre caractères en comptant les sauts de ligne :\n",
    "\n",
    "| bloc # | contenu                                    |\n",
    "|:-------|:-------------------------------------------|\n",
    "| 0      | un `0`, un *newline*, un `1`, un *newline* |\n",
    "| 1      | un `1`, deux `0`, un *newline*             |"
   ]
  },
  {
   "cell_type": "markdown",
   "metadata": {},
   "source": [
    "##### La méthode `flush`"
   ]
  },
  {
   "cell_type": "markdown",
   "metadata": {},
   "source": [
    "Les entrées-sorties sur fichier sont bien souvent *bufferisées* par le système d'exploitation. Cela signifie qu'un appel à `write` ne provoque pas forcément une écriture immédiate, car pour des raisons de performance on attend d'avoir suffisamment de matière avant d'écrire sur le disque.\n",
    "\n",
    "Il y a des cas où ce comportement peut s'avérer gênant, et où on a besoin d'écrire immédiatement (et donc de vider le *buffer*), et c'est le propos de la méthode `flush`."
   ]
  },
  {
   "cell_type": "markdown",
   "metadata": {},
   "source": [
    "### Fichiers textuels et fichiers binaires"
   ]
  },
  {
   "cell_type": "markdown",
   "metadata": {},
   "source": [
    "De la même façon que le langage propose les deux types `str` et `bytes`, il est possible d'ouvrir un fichier en mode *textuel* ou en mode *binaire*."
   ]
  },
  {
   "cell_type": "markdown",
   "metadata": {},
   "source": [
    "Les fichiers que nous avons vus jusqu'ici étaient ouverts en mode *textuel* (c'est le défaut), et c'est pourquoi nous avons interagi avec eux avec des objets de type `str` :"
   ]
  },
  {
   "cell_type": "code",
   "execution_count": 12,
   "metadata": {},
   "outputs": [
    {
     "name": "stdout",
     "output_type": "stream",
     "text": [
      "on a lu un objet de type <class 'str'>\n",
      "on a lu un objet de type <class 'str'>\n",
      "on a lu un objet de type <class 'str'>\n",
      "on a lu un objet de type <class 'str'>\n"
     ]
    }
   ],
   "source": [
    "# un fichier ouvert en mode textuel nous donne des str\n",
    "with open('foo.txt', encoding='utf-8') as input:\n",
    "    for line in input:\n",
    "        print(\"on a lu un objet de type\", type(line))"
   ]
  },
  {
   "cell_type": "markdown",
   "metadata": {},
   "source": [
    "Lorsque ce n'est pas le comportement souhaité, on peut :\n",
    "\n",
    "* ouvrir le fichier en mode *binaire* - pour cela on ajoute le caractère `b` au mode d'ouverture ;\n",
    "* et on peut alors interagir avec le fichier avec des objets de type `bytes`"
   ]
  },
  {
   "cell_type": "markdown",
   "metadata": {},
   "source": [
    "Pour illustrer ce trait, nous allons :\n",
    "0. créer un fichier en mode texte, et y insérer du texte en UTF-8 ;\n",
    "0. relire le fichier en mode binaire, et retrouver le codage des différents caractères."
   ]
  },
  {
   "cell_type": "code",
   "execution_count": 13,
   "metadata": {},
   "outputs": [],
   "source": [
    "# phase 1 : on écrit un fichier avec du texte en UTF-8\n",
    "# on ouvre donc le fichier en mode texte\n",
    "# en toute rigueur il faut préciser l'encodage,\n",
    "# si on ne le fait pas il sera déterminé\n",
    "# à partir de vos réglages système\n",
    "with open('strbytes', 'w', encoding='utf-8') as output:\n",
    "    output.write(\"déjà l'été\\n\")"
   ]
  },
  {
   "cell_type": "code",
   "execution_count": 15,
   "metadata": {},
   "outputs": [
    {
     "name": "stdout",
     "output_type": "stream",
     "text": [
      "on a lu un objet de type <class 'bytes'>\n",
      "0 → 'd' [0x64]\n",
      "1 → 'Ã' [0xc3]\n",
      "2 → '©' [0xa9]\n",
      "3 → 'j' [0x6a]\n",
      "4 → 'Ã' [0xc3]\n",
      "5 → '\\xa0' [0xa0]\n",
      "6 → ' ' [0x20]\n",
      "7 → 'l' [0x6c]\n",
      "8 → \"'\" [0x27]\n",
      "9 → 'Ã' [0xc3]\n",
      "10 → '©' [0xa9]\n",
      "11 → 't' [0x74]\n",
      "12 → 'Ã' [0xc3]\n",
      "13 → '©' [0xa9]\n",
      "14 → '\\r' [0xd]\n",
      "15 → '\\n' [0xa]\n"
     ]
    }
   ],
   "source": [
    "# phase 2: on ouvre le fichier en mode binaire\n",
    "with open('strbytes', 'rb') as rawinput:\n",
    "    # on lit tout le contenu\n",
    "    octets = rawinput.read()\n",
    "    # qui est de type bytes\n",
    "    print(\"on a lu un objet de type\", type(octets))\n",
    "    # si on regarde chaque octet un par un\n",
    "    for i, octet in enumerate(octets):\n",
    "        print(f\"{i} → {repr(chr(octet))} [{hex(octet)}]\")"
   ]
  },
  {
   "cell_type": "markdown",
   "metadata": {},
   "source": [
    "Vous retrouvez ainsi le fait que l'unique caractère Unicode `é` a été encodé par UTF-8 sous la forme de deux octets de code hexadécimal `0xc3` et `0xa9`."
   ]
  },
  {
   "cell_type": "markdown",
   "metadata": {},
   "source": [
    "Vous pouvez également consulter ce site qui visualise l'encodage UTF-8, avec notre séquence d'entrée :\n",
    "\n",
    "https://mothereff.in/utf-8#d%C3%A9j%C3%A0%20l%27%C3%A9t%C3%A9%0A"
   ]
  },
  {
   "cell_type": "code",
   "execution_count": 16,
   "metadata": {},
   "outputs": [
    {
     "name": "stdout",
     "output_type": "stream",
     "text": [
      "en mode texte, 11 caractères\n",
      "en mode binaire, 16 octets\n"
     ]
    }
   ],
   "source": [
    "# on peut comparer le nombre d'octets et le nombre de caractères\n",
    "with open('strbytes', encoding='utf-8') as textfile:\n",
    "    print(f\"en mode texte, {len(textfile.read())} caractères\")\n",
    "with open('strbytes', 'rb') as binfile:\n",
    "    print(f\"en mode binaire, {len(binfile.read())} octets\")"
   ]
  },
  {
   "cell_type": "markdown",
   "metadata": {},
   "source": [
    "Ce qui correspond au fait que nos quatre caractères non-ASCII (3 x `é` et 1 x `à`) sont tous encodés par UTF-8 comme deux octets, comme vous pouvez vous en assurer [ici pour `é`](https://mothereff.in/utf-8#%C3%A9) et [là pour `à`](https://mothereff.in/utf-8#%C3%A0)."
   ]
  },
  {
   "cell_type": "markdown",
   "metadata": {},
   "source": [
    "### Pour en savoir plus"
   ]
  },
  {
   "cell_type": "markdown",
   "metadata": {},
   "source": [
    "Pour une description exhaustive vous pouvez vous reporter :\n",
    "\n",
    "* au [glossaire sur la notion de `object file`](https://docs.python.org/3/glossary.html#term-file-object),\n",
    "* et aussi et surtout [au module `io`](https://docs.python.org/3/library/io.html#module-io) qui décrit plus en détail les fonctionnalités disponibles."
   ]
  }
 ],
 "metadata": {
  "kernelspec": {
   "display_name": "Python 3",
   "language": "python",
   "name": "python3"
  },
  "language_info": {
   "codemirror_mode": {
    "name": "ipython",
    "version": 3
   },
   "file_extension": ".py",
   "mimetype": "text/x-python",
   "name": "python",
   "nbconvert_exporter": "python",
   "pygments_lexer": "ipython3",
   "version": "3.7.0"
  },
  "livereveal": {
   "auto_select": "code",
   "auto_select_fragment": true,
   "autolaunch": false,
   "backimage": "media/nologo.png",
   "height": "100%",
   "slideNumber": "c",
   "start_slideshow_at": "selected",
   "theme": "simple",
   "transition": "fade",
   "width": "100%"
  },
  "notebookname": "Les fichiers",
  "version": "3.0"
 },
 "nbformat": 4,
 "nbformat_minor": 1
}
