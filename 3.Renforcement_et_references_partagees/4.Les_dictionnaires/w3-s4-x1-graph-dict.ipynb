{
 "cells": [
  {
   "cell_type": "markdown",
   "metadata": {},
   "source": [
    "<style>div.title-slide {    width: 100%;    display: flex;    flex-direction: row;            /* default value; can be omitted */    flex-wrap: nowrap;              /* default value; can be omitted */    justify-content: space-between;}</style><div class=\"title-slide\">\n",
    "<span style=\"float:left;\">Licence CC BY-NC-ND</span>\n",
    "<span>Thierry Parmentelat &amp; Arnaud Legout</span>\n",
    "<span><img src=\"media/both-logos-small-alpha.png\" style=\"display:inline\" /></span>\n",
    "</div>"
   ]
  },
  {
   "cell_type": "markdown",
   "metadata": {},
   "source": [
    "# Dictionnaires et listes"
   ]
  },
  {
   "cell_type": "markdown",
   "metadata": {},
   "source": [
    "## Exercice - niveau basique"
   ]
  },
  {
   "cell_type": "code",
   "execution_count": 1,
   "metadata": {},
   "outputs": [],
   "source": [
    "from corrections.exo_graph_dict import exo_graph_dict"
   ]
  },
  {
   "cell_type": "markdown",
   "metadata": {},
   "source": [
    "On veut implémenter un petit modèle de graphes. Comme on a les données dans des fichiers, on veut analyser des fichiers d'entrée qui ressemblent à ceci :"
   ]
  },
  {
   "cell_type": "code",
   "execution_count": 2,
   "metadata": {
    "cell_style": "split"
   },
   "outputs": [
    {
     "name": "stdout",
     "output_type": "stream",
     "text": [
      "s1 10 s2\r\n",
      "s2 12 s3\r\n",
      "s3 25 s1\r\n",
      "s1 14 s3\r\n"
     ]
    }
   ],
   "source": [
    "!cat data/graph1.txt"
   ]
  },
  {
   "cell_type": "markdown",
   "metadata": {
    "cell_style": "split"
   },
   "source": [
    "qui signifierait :\n",
    "\n",
    "* un graphe à 3 sommets *s1*, *s2* et *s3*;\n",
    "* et 4 arêtes\n",
    "  * une entre *s1* et *s2* de longueur 10;\n",
    "  * une entre *s2* et *s3* de longueur 12;\n",
    "  * etc…"
   ]
  },
  {
   "cell_type": "markdown",
   "metadata": {},
   "source": [
    "On vous demande d'écrire une fonction qui lit un tel fichier texte, et construit (et retourne) un dictionnaire Python qui représente ce graphe.\n",
    "\n",
    "Dans cet exercice on choisit :\n",
    "\n",
    "* de modéliser le graphe comme un dictionnaire indexé sur les (noms de) sommets ;\n",
    "* et chaque valeur est une liste de tuples de la forme (*suivant*, *longueur*), dans l'ordre d'apparition dans le fichier d'entrée."
   ]
  },
  {
   "cell_type": "code",
   "execution_count": 3,
   "metadata": {},
   "outputs": [
    {
     "data": {
      "text/html": [
       "<table style='font-family:monospace;font-size:small;'><tr style='font-family:monospace;font-size:medium;'><th style='text-align: center;'><pre>Appel</pre></th><th style='text-align: center;'><pre>Resultat Attendu</pre></th></tr><tr><td><pre><pre>graph_dict(\n",
       "  'data/graph1.txt')\n",
       "</pre></pre></td><td style='text-align: left;border-left:3px solid gray;'><pre>\n",
       "{ 's1': [('s2', 10), ('s3', 14)],\n",
       "  's2': [('s3', 12)],\n",
       "  's3': [('s1', 25)]}</pre></td></tr></table>"
      ],
      "text/plain": [
       "<IPython.core.display.HTML object>"
      ]
     },
     "execution_count": 3,
     "metadata": {},
     "output_type": "execute_result"
    }
   ],
   "source": [
    "# voici ce qu'on obtiendrait par exemple avec les données ci-dessus\n",
    "exo_graph_dict.example()"
   ]
  },
  {
   "cell_type": "markdown",
   "metadata": {},
   "source": [
    "**Notes**\n",
    "\n",
    "* Vous remarquerez que l'exemple ci-dessus retourne un dictionnaire standard; une solution qui utiliserait `defaultdict` est acceptable également;\n",
    "* Notez bien également que dans le résultat, la longueur d'un arc est attendue comme un **`int`**."
   ]
  },
  {
   "cell_type": "code",
   "execution_count": 13,
   "metadata": {},
   "outputs": [],
   "source": [
    "from collections import defaultdict\n",
    "\n",
    "# à vous de jouer\n",
    "def graph_dict(filename):\n",
    "    graph = defaultdict(list)\n",
    "    with open(filename, \"r\" , encoding=\"utf-8\") as f_in:\n",
    "        for line in f_in:\n",
    "            beg, mid, end = line.split()            \n",
    "            graph[beg].append((end, int(mid)))\n",
    "            print(graph)\n",
    "    return graph"
   ]
  },
  {
   "cell_type": "code",
   "execution_count": 14,
   "metadata": {},
   "outputs": [
    {
     "name": "stdout",
     "output_type": "stream",
     "text": [
      "defaultdict(<class 'list'>, {'s1': [('s2', 10)]})\n",
      "defaultdict(<class 'list'>, {'s1': [('s2', 10)], 's2': [('s3', 12)]})\n",
      "defaultdict(<class 'list'>, {'s1': [('s2', 10)], 's2': [('s3', 12)], 's3': [('s1', 25)]})\n",
      "defaultdict(<class 'list'>, {'s1': [('s2', 10), ('s3', 14)], 's2': [('s3', 12)], 's3': [('s1', 25)]})\n",
      "defaultdict(<class 'list'>, {'paris': [('metz', 300)]})\n",
      "defaultdict(<class 'list'>, {'paris': [('metz', 300)], 'metz': [('lyon', 500)]})\n",
      "defaultdict(<class 'list'>, {'paris': [('metz', 300)], 'metz': [('lyon', 500)], 'lyon': [('marseille', 300)]})\n",
      "defaultdict(<class 'list'>, {'paris': [('metz', 300)], 'metz': [('lyon', 500)], 'lyon': [('marseille', 300)], 'marseille': [('nice', 200)]})\n",
      "defaultdict(<class 'list'>, {'paris': [('metz', 300)], 'metz': [('lyon', 500)], 'lyon': [('marseille', 300)], 'marseille': [('nice', 200), ('bordeaux', 500)]})\n",
      "defaultdict(<class 'list'>, {'start': [('while', 1)]})\n",
      "defaultdict(<class 'list'>, {'start': [('while', 1)], 'while': [('inst', 1)]})\n",
      "defaultdict(<class 'list'>, {'start': [('while', 1)], 'while': [('inst', 1)], 'inst': [('while', 1)]})\n",
      "defaultdict(<class 'list'>, {'start': [('while', 1)], 'while': [('inst', 1), ('end', 1)], 'inst': [('while', 1)]})\n"
     ]
    },
    {
     "data": {
      "text/html": [
       "<table style='font-family:monospace;font-size:small;'><tr style='font-family:monospace;font-size:medium;'><th style='text-align: center;'><pre>Appel</pre></th><th style='text-align: center;'><pre>Attendu</pre></th><th style='text-align: center;'><pre>Obtenu</pre></th><th style='text-align: center;'><pre></pre></th></tr><tr style='background-color:#d6e9ce;border-bottom:2px solid gray;'><td><pre><pre>graph_dict(\n",
       "  'data/graph1.txt')\n",
       "</pre></pre></td><td style='text-align: left;border-left:3px solid gray;'><pre>\n",
       "{ 's1': [('s2', 10), ('s3', 14)],\n",
       "  's2': [('s3', 12)],\n",
       "  's3': [('s1', 25)]}</pre></td><td style='text-align: left;border-left:1px solid gray;'><pre>\n",
       "defaultdict(<class 'list'>,\n",
       "            { 's1': [ ('s2', 10),\n",
       "                      ('s3', 14)],\n",
       "              's2': [('s3', 12)],\n",
       "              's3': [('s1', 25)]})</pre></td><td style='border-left:3px solid gray;'><pre>OK</pre></td></tr><tr style='background-color:#d6e9ce;border-bottom:2px solid gray;'><td><pre><pre>graph_dict(\n",
       "  'data/graph2.txt')\n",
       "</pre></pre></td><td style='text-align: left;border-left:3px solid gray;'><pre>\n",
       "{ 'lyon': [('marseille', 300)],\n",
       "  'marseille': [ ('nice', 200),\n",
       "                 ('bordeaux', 500)],\n",
       "  'metz': [('lyon', 500)],\n",
       "  'paris': [('metz', 300)]}</pre></td><td style='text-align: left;border-left:1px solid gray;'><pre>\n",
       "defaultdict(<class 'list'>,\n",
       "            { 'lyon': [ ( 'marseille',\n",
       "                          300)],\n",
       "              'marseille': [ ( 'nice',\n",
       "                               200),\n",
       "                             ( 'bordeaux',\n",
       "                               500)],\n",
       "              'metz': [('lyon', 500)],\n",
       "              'paris': [('metz', 300)]})</pre></td><td style='border-left:3px solid gray;'><pre>OK</pre></td></tr><tr style='background-color:#d6e9ce;border-bottom:2px solid gray;'><td><pre><pre>graph_dict(\n",
       "  'data/graph3.txt')\n",
       "</pre></pre></td><td style='text-align: left;border-left:3px solid gray;'><pre>\n",
       "{ 'inst': [('while', 1)],\n",
       "  'start': [('while', 1)],\n",
       "  'while': [('inst', 1), ('end', 1)]}</pre></td><td style='text-align: left;border-left:1px solid gray;'><pre>\n",
       "defaultdict(<class 'list'>,\n",
       "            { 'inst': [('while', 1)],\n",
       "              'start': [('while', 1)],\n",
       "              'while': [ ('inst', 1),\n",
       "                         ('end', 1)]})</pre></td><td style='border-left:3px solid gray;'><pre>OK</pre></td></tr></table>"
      ],
      "text/plain": [
       "<IPython.core.display.HTML object>"
      ]
     },
     "execution_count": 14,
     "metadata": {},
     "output_type": "execute_result"
    }
   ],
   "source": [
    "exo_graph_dict.correction(graph_dict)"
   ]
  },
  {
   "cell_type": "code",
   "execution_count": null,
   "metadata": {},
   "outputs": [],
   "source": []
  }
 ],
 "metadata": {
  "kernelspec": {
   "display_name": "Python 3",
   "language": "python",
   "name": "python3"
  },
  "language_info": {
   "codemirror_mode": {
    "name": "ipython",
    "version": 3
   },
   "file_extension": ".py",
   "mimetype": "text/x-python",
   "name": "python",
   "nbconvert_exporter": "python",
   "pygments_lexer": "ipython3",
   "version": "3.6.7"
  },
  "livereveal": {
   "auto_select": "code",
   "auto_select_fragment": true,
   "autolaunch": false,
   "backimage": "media/nologo.png",
   "height": "100%",
   "start_slideshow_at": "selected",
   "theme": "simple",
   "transition": "fade",
   "width": "100%"
  },
  "notebookname": "Dictionnaires",
  "version": "3.0"
 },
 "nbformat": 4,
 "nbformat_minor": 2
}
