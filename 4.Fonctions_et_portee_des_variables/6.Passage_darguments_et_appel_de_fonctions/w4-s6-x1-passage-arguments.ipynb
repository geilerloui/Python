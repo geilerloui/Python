{
 "cells": [
  {
   "cell_type": "markdown",
   "metadata": {},
   "source": [
    "<style>div.title-slide {    width: 100%;    display: flex;    flex-direction: row;            /* default value; can be omitted */    flex-wrap: nowrap;              /* default value; can be omitted */    justify-content: space-between;}</style><div class=\"title-slide\">\n",
    "<span style=\"float:left;\">Licence CC BY-NC-ND</span>\n",
    "<span>Thierry Parmentelat &amp; Arnaud Legout</span>\n",
    "<span><img src=\"media/both-logos-small-alpha.png\" style=\"display:inline\" /></span>\n",
    "</div>"
   ]
  },
  {
   "cell_type": "markdown",
   "metadata": {},
   "source": [
    "# Passage d'arguments"
   ]
  },
  {
   "cell_type": "markdown",
   "metadata": {},
   "source": [
    "## Exercice - niveau basique"
   ]
  },
  {
   "cell_type": "code",
   "execution_count": 17,
   "metadata": {},
   "outputs": [],
   "source": [
    "# pour charger l'exercice\n",
    "from corrections.exo_distance import exo_distance\n",
    "import numpy as np"
   ]
  },
  {
   "cell_type": "markdown",
   "metadata": {},
   "source": [
    "Vous devez écrire une fonction `distance` qui prend un nombre quelconque d'arguments numériques non complexes, et qui retourne la racine carrée de la somme des carrés des arguments. \n",
    "\n",
    "Plus précisément :\n",
    "$distance$ ($x_1$, ..., $x_n$) = $\\sqrt{\\sum x_i^2}$\n",
    "\n",
    "Par convention on fixe que $distance() = 0$"
   ]
  },
  {
   "cell_type": "code",
   "execution_count": 18,
   "metadata": {},
   "outputs": [
    {
     "data": {
      "text/html": [
       "<table style='font-family:monospace;font-size:small;'><tr style='font-family:monospace;font-size:medium;'><th style='text-align: center;'><pre>Appel</pre></th><th style='text-align: center;'><pre>Resultat Attendu</pre></th></tr><tr><td><pre>distance()</pre></td><td style='text-align: left;border-left:3px solid gray;'><pre>\n",
       "0.0</pre></td></tr><tr><td><pre>distance(1)</pre></td><td style='text-align: left;border-left:3px solid gray;'><pre>\n",
       "1.0</pre></td></tr><tr><td><pre>distance(1, 1)</pre></td><td style='text-align: left;border-left:3px solid gray;'><pre>\n",
       "1.4142135623730951</pre></td></tr></table>"
      ],
      "text/plain": [
       "<IPython.core.display.HTML object>"
      ]
     },
     "execution_count": 18,
     "metadata": {},
     "output_type": "execute_result"
    }
   ],
   "source": [
    "# des exemples\n",
    "exo_distance.example()"
   ]
  },
  {
   "cell_type": "code",
   "execution_count": 41,
   "metadata": {},
   "outputs": [],
   "source": [
    "# ATTENTION vous devez aussi définir les arguments de la fonction\n",
    "def distance(*args):\n",
    "    return np.sqrt(sum([a*a for a in args]))"
   ]
  },
  {
   "cell_type": "code",
   "execution_count": 42,
   "metadata": {},
   "outputs": [
    {
     "data": {
      "text/html": [
       "<table style='font-family:monospace;font-size:small;'><tr style='font-family:monospace;font-size:medium;'><th style='text-align: center;'><pre>Appel</pre></th><th style='text-align: center;'><pre>Attendu</pre></th><th style='text-align: center;'><pre>Obtenu</pre></th><th style='text-align: center;'><pre></pre></th></tr><tr style='background-color:#d6e9ce;border-bottom:2px solid gray;'><td><pre>distance()</pre></td><td style='text-align: left;border-left:3px solid gray;'><pre>\n",
       "0.0</pre></td><td style='text-align: left;border-left:1px solid gray;'><pre>\n",
       "0.0</pre></td><td style='border-left:3px solid gray;'><pre>OK</pre></td></tr><tr style='background-color:#d6e9ce;border-bottom:2px solid gray;'><td><pre>distance(1)</pre></td><td style='text-align: left;border-left:3px solid gray;'><pre>\n",
       "1.0</pre></td><td style='text-align: left;border-left:1px solid gray;'><pre>\n",
       "1.0</pre></td><td style='border-left:3px solid gray;'><pre>OK</pre></td></tr><tr style='background-color:#d6e9ce;border-bottom:2px solid gray;'><td><pre>distance(1, 1)</pre></td><td style='text-align: left;border-left:3px solid gray;'><pre>\n",
       "1.4142135623730951</pre></td><td style='text-align: left;border-left:1px solid gray;'><pre>\n",
       "1.4142135623730951</pre></td><td style='border-left:3px solid gray;'><pre>OK</pre></td></tr><tr style='background-color:#d6e9ce;border-bottom:2px solid gray;'><td><pre>distance(1, 1, 1)</pre></td><td style='text-align: left;border-left:3px solid gray;'><pre>\n",
       "1.7320508075688772</pre></td><td style='text-align: left;border-left:1px solid gray;'><pre>\n",
       "1.7320508075688772</pre></td><td style='border-left:3px solid gray;'><pre>OK</pre></td></tr><tr style='background-color:#d6e9ce;border-bottom:2px solid gray;'><td><pre>distance(1, 1, 1, 1)</pre></td><td style='text-align: left;border-left:3px solid gray;'><pre>\n",
       "2.0</pre></td><td style='text-align: left;border-left:1px solid gray;'><pre>\n",
       "2.0</pre></td><td style='border-left:3px solid gray;'><pre>OK</pre></td></tr><tr style='background-color:#d6e9ce;border-bottom:2px solid gray;'><td><pre><pre>distance(\n",
       "  0,\n",
       "  1,\n",
       "  2,\n",
       "  3,\n",
       "  4,\n",
       "  5,\n",
       "  6,\n",
       "  7,\n",
       "  8,\n",
       "  9)\n",
       "</pre></pre></td><td style='text-align: left;border-left:3px solid gray;'><pre>\n",
       "16.881943016134134</pre></td><td style='text-align: left;border-left:1px solid gray;'><pre>\n",
       "16.881943016134134</pre></td><td style='border-left:3px solid gray;'><pre>OK</pre></td></tr></table>"
      ],
      "text/plain": [
       "<IPython.core.display.HTML object>"
      ]
     },
     "execution_count": 42,
     "metadata": {},
     "output_type": "execute_result"
    }
   ],
   "source": [
    "# la correction\n",
    "exo_distance.correction(distance)"
   ]
  },
  {
   "cell_type": "markdown",
   "metadata": {},
   "source": [
    "## Exercice - niveau intermédiaire"
   ]
  },
  {
   "cell_type": "code",
   "execution_count": 43,
   "metadata": {},
   "outputs": [],
   "source": [
    "# Pour charger l'exercice\n",
    "from corrections.exo_numbers import exo_numbers"
   ]
  },
  {
   "cell_type": "markdown",
   "metadata": {},
   "source": [
    "On vous demande d'écrire une fonction `numbers` \n",
    "\n",
    "* qui prend en argument un nombre quelconque d'entiers,\n",
    "* et qui retourne un tuple contenant\n",
    " * la somme\n",
    " * le minimum\n",
    " * le maximum\n",
    "de ses arguments."
   ]
  },
  {
   "cell_type": "markdown",
   "metadata": {},
   "source": [
    "Si aucun argument n'est passé, `numbers` doit renvoyer un tuple contenant 3 entiers `0`."
   ]
  },
  {
   "cell_type": "code",
   "execution_count": 44,
   "metadata": {},
   "outputs": [
    {
     "data": {
      "text/html": [
       "<table style='font-family:monospace;font-size:small;'><tr style='font-family:monospace;font-size:medium;'><th style='text-align: center;'><pre>Appel</pre></th><th style='text-align: center;'><pre>Resultat Attendu</pre></th></tr><tr><td><pre>numbers()</pre></td><td style='text-align: left;border-left:3px solid gray;'><pre>\n",
       "(0, 0, 0)</pre></td></tr><tr><td><pre>numbers(6)</pre></td><td style='text-align: left;border-left:3px solid gray;'><pre>\n",
       "(6, 6, 6)</pre></td></tr><tr><td><pre>numbers(11, 5, 14, 13, 10, 10)</pre></td><td style='text-align: left;border-left:3px solid gray;'><pre>\n",
       "(63, 5, 14)</pre></td></tr></table>"
      ],
      "text/plain": [
       "<IPython.core.display.HTML object>"
      ]
     },
     "execution_count": 44,
     "metadata": {},
     "output_type": "execute_result"
    }
   ],
   "source": [
    "# par exemple\n",
    "exo_numbers.example()"
   ]
  },
  {
   "cell_type": "markdown",
   "metadata": {},
   "source": [
    "En guise d'indice, je vous invite à regarder les fonctions *built-in* [`sum`](https://docs.python.org/3/library/functions.html#sum), [`min`](https://docs.python.org/3/library/functions.html#min) et [`max`](https://docs.python.org/3/library/functions.html#max). "
   ]
  },
  {
   "cell_type": "code",
   "execution_count": 47,
   "metadata": {},
   "outputs": [],
   "source": [
    "# vous devez définir votre propre signature\n",
    "def numbers(*entier):\n",
    "    if len(entier) == 0:\n",
    "        return (0, 0, 0)\n",
    "    return (sum(entier), min(entier), max(entier))"
   ]
  },
  {
   "cell_type": "code",
   "execution_count": 48,
   "metadata": {},
   "outputs": [
    {
     "data": {
      "text/html": [
       "<table style='font-family:monospace;font-size:small;'><tr style='font-family:monospace;font-size:medium;'><th style='text-align: center;'><pre>Appel</pre></th><th style='text-align: center;'><pre>Attendu</pre></th><th style='text-align: center;'><pre>Obtenu</pre></th><th style='text-align: center;'><pre></pre></th></tr><tr style='background-color:#d6e9ce;border-bottom:2px solid gray;'><td><pre>numbers()</pre></td><td style='text-align: left;border-left:3px solid gray;'><pre>\n",
       "(0, 0, 0)</pre></td><td style='text-align: left;border-left:1px solid gray;'><pre>\n",
       "(0, 0, 0)</pre></td><td style='border-left:3px solid gray;'><pre>OK</pre></td></tr><tr style='background-color:#d6e9ce;border-bottom:2px solid gray;'><td><pre>numbers(6)</pre></td><td style='text-align: left;border-left:3px solid gray;'><pre>\n",
       "(6, 6, 6)</pre></td><td style='text-align: left;border-left:1px solid gray;'><pre>\n",
       "(6, 6, 6)</pre></td><td style='border-left:3px solid gray;'><pre>OK</pre></td></tr><tr style='background-color:#d6e9ce;border-bottom:2px solid gray;'><td><pre>numbers(11, 5, 14, 13, 10, 10)</pre></td><td style='text-align: left;border-left:3px solid gray;'><pre>\n",
       "(63, 5, 14)</pre></td><td style='text-align: left;border-left:1px solid gray;'><pre>\n",
       "(63, 5, 14)</pre></td><td style='border-left:3px solid gray;'><pre>OK</pre></td></tr><tr style='background-color:#d6e9ce;border-bottom:2px solid gray;'><td><pre>numbers(7, 9)</pre></td><td style='text-align: left;border-left:3px solid gray;'><pre>\n",
       "(16, 7, 9)</pre></td><td style='text-align: left;border-left:1px solid gray;'><pre>\n",
       "(16, 7, 9)</pre></td><td style='border-left:3px solid gray;'><pre>OK</pre></td></tr><tr style='background-color:#d6e9ce;border-bottom:2px solid gray;'><td><pre>numbers(6, 6, 13, 11, 14)</pre></td><td style='text-align: left;border-left:3px solid gray;'><pre>\n",
       "(50, 6, 14)</pre></td><td style='text-align: left;border-left:1px solid gray;'><pre>\n",
       "(50, 6, 14)</pre></td><td style='border-left:3px solid gray;'><pre>OK</pre></td></tr><tr style='background-color:#d6e9ce;border-bottom:2px solid gray;'><td><pre>numbers(14, 8, 11, 10, 8, 6)</pre></td><td style='text-align: left;border-left:3px solid gray;'><pre>\n",
       "(57, 6, 14)</pre></td><td style='text-align: left;border-left:1px solid gray;'><pre>\n",
       "(57, 6, 14)</pre></td><td style='border-left:3px solid gray;'><pre>OK</pre></td></tr></table>"
      ],
      "text/plain": [
       "<IPython.core.display.HTML object>"
      ]
     },
     "execution_count": 48,
     "metadata": {},
     "output_type": "execute_result"
    }
   ],
   "source": [
    "# pour vérifier votre code\n",
    "exo_numbers.correction(numbers)"
   ]
  },
  {
   "cell_type": "code",
   "execution_count": null,
   "metadata": {},
   "outputs": [],
   "source": []
  }
 ],
 "metadata": {
  "kernelspec": {
   "display_name": "Python 3",
   "language": "python",
   "name": "python3"
  },
  "language_info": {
   "codemirror_mode": {
    "name": "ipython",
    "version": 3
   },
   "file_extension": ".py",
   "mimetype": "text/x-python",
   "name": "python",
   "nbconvert_exporter": "python",
   "pygments_lexer": "ipython3",
   "version": "3.6.7"
  },
  "livereveal": {
   "auto_select": "code",
   "auto_select_fragment": true,
   "autolaunch": false,
   "backimage": "media/nologo.png",
   "height": "100%",
   "slideNumber": "c",
   "start_slideshow_at": "selected",
   "theme": "simple",
   "transition": "fade",
   "width": "100%"
  },
  "notebookname": "Passage d'arguments",
  "version": "3.0"
 },
 "nbformat": 4,
 "nbformat_minor": 2
}
